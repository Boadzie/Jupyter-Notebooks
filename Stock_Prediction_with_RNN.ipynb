{
  "nbformat": 4,
  "nbformat_minor": 0,
  "metadata": {
    "colab": {
      "name": "Stock Prediction with RNN.ipynb",
      "provenance": [],
      "collapsed_sections": [],
      "include_colab_link": true
    },
    "kernelspec": {
      "display_name": "Python 3",
      "language": "python",
      "name": "python3"
    }
  },
  "cells": [
    {
      "cell_type": "markdown",
      "metadata": {
        "id": "view-in-github",
        "colab_type": "text"
      },
      "source": [
        "<a href=\"https://colab.research.google.com/github/Boadzie/Jupyter-Notebooks/blob/master/Stock_Prediction_with_RNN.ipynb\" target=\"_parent\"><img src=\"https://colab.research.google.com/assets/colab-badge.svg\" alt=\"Open In Colab\"/></a>"
      ]
    },
    {
      "cell_type": "markdown",
      "metadata": {
        "id": "Km29fX6Bubhz",
        "colab_type": "text"
      },
      "source": [
        "#  STOCK PREDICTION WITH RECURRENT NEURAL NETS \n",
        "### By Boadzie Daniel"
      ]
    },
    {
      "cell_type": "code",
      "metadata": {
        "id": "EJkO7v2Lubh1",
        "colab_type": "code",
        "colab": {}
      },
      "source": [
        "# Part 1 Data Preprocessing"
      ],
      "execution_count": 0,
      "outputs": []
    },
    {
      "cell_type": "code",
      "metadata": {
        "id": "dPVH6jagubh4",
        "colab_type": "code",
        "colab": {}
      },
      "source": [
        "# Import the libraries\n",
        "import numpy as np\n",
        "import pandas as pd\n",
        "import matplotlib.pyplot as plt"
      ],
      "execution_count": 0,
      "outputs": []
    },
    {
      "cell_type": "code",
      "metadata": {
        "id": "Jn985FvdvHXP",
        "colab_type": "code",
        "outputId": "36795754-16a8-44d2-843c-3fe8e923f91d",
        "colab": {
          "resources": {
            "http://localhost:8080/nbextensions/google.colab/files.js": {
              "data": "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",
              "ok": true,
              "headers": [
                [
                  "content-type",
                  "application/javascript"
                ]
              ],
              "status": 200,
              "status_text": ""
            }
          },
          "base_uri": "https://localhost:8080/",
          "height": 92
        }
      },
      "source": [
        "# Getting the filles into colab\n",
        "from google.colab import files\n",
        "uploaded = files.upload()\n",
        "\n",
        "for fn in uploaded.keys():\n",
        "  print('User uploaded file \"{name}\" with length {length} bytes'.format(\n",
        "      name=fn, length=len(uploaded[fn])))"
      ],
      "execution_count": 0,
      "outputs": [
        {
          "output_type": "display_data",
          "data": {
            "text/html": [
              "\n",
              "     <input type=\"file\" id=\"files-eeb3cd97-0928-4f73-a5dc-6982eeef70aa\" name=\"files[]\" multiple disabled />\n",
              "     <output id=\"result-eeb3cd97-0928-4f73-a5dc-6982eeef70aa\">\n",
              "      Upload widget is only available when the cell has been executed in the\n",
              "      current browser session. Please rerun this cell to enable.\n",
              "      </output>\n",
              "      <script src=\"/nbextensions/google.colab/files.js\"></script> "
            ],
            "text/plain": [
              "<IPython.core.display.HTML object>"
            ]
          },
          "metadata": {
            "tags": []
          }
        },
        {
          "output_type": "stream",
          "text": [
            "Saving Google_Stock_Price_Train.csv to Google_Stock_Price_Train.csv\n",
            "User uploaded file \"Google_Stock_Price_Train.csv\" with length 63488 bytes\n"
          ],
          "name": "stdout"
        }
      ]
    },
    {
      "cell_type": "code",
      "metadata": {
        "id": "Qo3_JCvfubh6",
        "colab_type": "code",
        "colab": {}
      },
      "source": [
        "# Import the training set\n",
        "training_set = pd.read_csv(\"Google_Stock_Price_Train.csv\")\n",
        "training_set = training_set.iloc[:, 1:2].values"
      ],
      "execution_count": 0,
      "outputs": []
    },
    {
      "cell_type": "code",
      "metadata": {
        "id": "lQh3qVg3ubh9",
        "colab_type": "code",
        "colab": {}
      },
      "source": [
        "# Feature Scaling\n",
        "from sklearn.preprocessing import MinMaxScaler\n",
        "sc = MinMaxScaler()\n",
        "training_set = sc.fit_transform(training_set)"
      ],
      "execution_count": 0,
      "outputs": []
    },
    {
      "cell_type": "code",
      "metadata": {
        "id": "a4u-7kZZubiA",
        "colab_type": "code",
        "colab": {}
      },
      "source": [
        "# Getting The Input and the Output\n",
        "X_train = training_set[0:1257]\n",
        "y_train = training_set[1:1258]\n"
      ],
      "execution_count": 0,
      "outputs": []
    },
    {
      "cell_type": "code",
      "metadata": {
        "id": "CWkimxP6ubiB",
        "colab_type": "code",
        "colab": {}
      },
      "source": [
        "# Reshape\n",
        "X_train = np.reshape(X_train, (1257, 1, 1))\n"
      ],
      "execution_count": 0,
      "outputs": []
    },
    {
      "cell_type": "code",
      "metadata": {
        "id": "WUevkmWXubiE",
        "colab_type": "code",
        "colab": {}
      },
      "source": [
        "# Part 2 Building the RNN"
      ],
      "execution_count": 0,
      "outputs": []
    },
    {
      "cell_type": "code",
      "metadata": {
        "id": "XRYIA1SMubiG",
        "colab_type": "code",
        "outputId": "2c7e0019-1f85-4f8b-e690-811c61d3ef39",
        "colab": {
          "base_uri": "https://localhost:8080/",
          "height": 35
        }
      },
      "source": [
        "# Importing the Keras Libraries and Packages\n",
        "from keras.models import Sequential\n",
        "from keras.layers import Dense\n",
        "from keras.layers import LSTM"
      ],
      "execution_count": 0,
      "outputs": [
        {
          "output_type": "stream",
          "text": [
            "Using TensorFlow backend.\n"
          ],
          "name": "stderr"
        }
      ]
    },
    {
      "cell_type": "code",
      "metadata": {
        "id": "NhJZhtfvubiK",
        "colab_type": "code",
        "colab": {}
      },
      "source": [
        "# Initializing the RNN\n",
        "regressor = Sequential()"
      ],
      "execution_count": 0,
      "outputs": []
    },
    {
      "cell_type": "code",
      "metadata": {
        "id": "6eK6yFPtubiN",
        "colab_type": "code",
        "colab": {}
      },
      "source": [
        "# Adding the input and LSTM layers\n",
        "regressor.add(LSTM(units = 4, activation=\"sigmoid\", input_shape=(None, 1)))"
      ],
      "execution_count": 0,
      "outputs": []
    },
    {
      "cell_type": "code",
      "metadata": {
        "id": "JyxB-_wjubiP",
        "colab_type": "code",
        "colab": {}
      },
      "source": [
        "# Adding the output layer\n",
        "regressor.add(Dense(units = 1))"
      ],
      "execution_count": 0,
      "outputs": []
    },
    {
      "cell_type": "code",
      "metadata": {
        "id": "K2NzJrjOubiS",
        "colab_type": "code",
        "colab": {}
      },
      "source": [
        "# Compiling the RNN\n",
        "regressor.compile(optimizer=\"adam\", loss=\"mean_squared_error\")"
      ],
      "execution_count": 0,
      "outputs": []
    },
    {
      "cell_type": "code",
      "metadata": {
        "id": "uZtPpCz0ubiU",
        "colab_type": "code",
        "outputId": "805b7ded-4d0e-4a08-8833-3a5fd5609f9e",
        "colab": {
          "base_uri": "https://localhost:8080/",
          "height": 7235
        }
      },
      "source": [
        "# Fitting the RNN to the training set\n",
        "regressor.fit(X_train, y_train, batch_size=32, epochs=200)"
      ],
      "execution_count": 0,
      "outputs": [
        {
          "output_type": "stream",
          "text": [
            "Epoch 1/200\n",
            "1257/1257 [==============================] - 1s 558us/step - loss: 0.4720\n",
            "Epoch 2/200\n",
            "1257/1257 [==============================] - 0s 101us/step - loss: 0.3519\n",
            "Epoch 3/200\n",
            "1257/1257 [==============================] - 0s 98us/step - loss: 0.2607\n",
            "Epoch 4/200\n",
            "1257/1257 [==============================] - 0s 90us/step - loss: 0.1949\n",
            "Epoch 5/200\n",
            "1257/1257 [==============================] - 0s 84us/step - loss: 0.1488\n",
            "Epoch 6/200\n",
            "1257/1257 [==============================] - 0s 75us/step - loss: 0.1180\n",
            "Epoch 7/200\n",
            "1257/1257 [==============================] - 0s 79us/step - loss: 0.0982\n",
            "Epoch 8/200\n",
            "1257/1257 [==============================] - 0s 77us/step - loss: 0.0860\n",
            "Epoch 9/200\n",
            "1257/1257 [==============================] - 0s 77us/step - loss: 0.0787\n",
            "Epoch 10/200\n",
            "1257/1257 [==============================] - 0s 75us/step - loss: 0.0744\n",
            "Epoch 11/200\n",
            "1257/1257 [==============================] - 0s 75us/step - loss: 0.0718\n",
            "Epoch 12/200\n",
            "1257/1257 [==============================] - 0s 83us/step - loss: 0.0701\n",
            "Epoch 13/200\n",
            "1257/1257 [==============================] - 0s 80us/step - loss: 0.0688\n",
            "Epoch 14/200\n",
            "1257/1257 [==============================] - 0s 75us/step - loss: 0.0677\n",
            "Epoch 15/200\n",
            "1257/1257 [==============================] - 0s 79us/step - loss: 0.0667\n",
            "Epoch 16/200\n",
            "1257/1257 [==============================] - 0s 78us/step - loss: 0.0656\n",
            "Epoch 17/200\n",
            "1257/1257 [==============================] - 0s 78us/step - loss: 0.0645\n",
            "Epoch 18/200\n",
            "1257/1257 [==============================] - 0s 82us/step - loss: 0.0635\n",
            "Epoch 19/200\n",
            "1257/1257 [==============================] - 0s 77us/step - loss: 0.0623\n",
            "Epoch 20/200\n",
            "1257/1257 [==============================] - 0s 77us/step - loss: 0.0612\n",
            "Epoch 21/200\n",
            "1257/1257 [==============================] - 0s 78us/step - loss: 0.0600\n",
            "Epoch 22/200\n",
            "1257/1257 [==============================] - 0s 78us/step - loss: 0.0589\n",
            "Epoch 23/200\n",
            "1257/1257 [==============================] - 0s 79us/step - loss: 0.0577\n",
            "Epoch 24/200\n",
            "1257/1257 [==============================] - 0s 79us/step - loss: 0.0564\n"
          ],
          "name": "stdout"
        },
        {
          "output_type": "stream",
          "text": [
            "Epoch 25/200\n",
            "1257/1257 [==============================] - 0s 79us/step - loss: 0.0552\n",
            "Epoch 26/200\n",
            "1257/1257 [==============================] - 0s 75us/step - loss: 0.0539\n",
            "Epoch 27/200\n",
            "1257/1257 [==============================] - 0s 78us/step - loss: 0.0526\n",
            "Epoch 28/200\n",
            "1257/1257 [==============================] - 0s 81us/step - loss: 0.0513\n",
            "Epoch 29/200\n",
            "1257/1257 [==============================] - 0s 76us/step - loss: 0.0500\n",
            "Epoch 30/200\n",
            "1257/1257 [==============================] - 0s 76us/step - loss: 0.0486\n",
            "Epoch 31/200\n",
            "1257/1257 [==============================] - 0s 81us/step - loss: 0.0472\n",
            "Epoch 32/200\n",
            "1257/1257 [==============================] - 0s 71us/step - loss: 0.0459\n",
            "Epoch 33/200\n",
            "1257/1257 [==============================] - 0s 73us/step - loss: 0.0445\n",
            "Epoch 34/200\n",
            "1257/1257 [==============================] - 0s 81us/step - loss: 0.0431\n",
            "Epoch 35/200\n",
            "1257/1257 [==============================] - 0s 80us/step - loss: 0.0417\n",
            "Epoch 36/200\n",
            "1257/1257 [==============================] - 0s 76us/step - loss: 0.0402\n",
            "Epoch 37/200\n",
            "1257/1257 [==============================] - 0s 78us/step - loss: 0.0388\n",
            "Epoch 38/200\n",
            "1257/1257 [==============================] - 0s 75us/step - loss: 0.0373\n",
            "Epoch 39/200\n",
            "1257/1257 [==============================] - 0s 75us/step - loss: 0.0359\n",
            "Epoch 40/200\n",
            "1257/1257 [==============================] - 0s 79us/step - loss: 0.0344\n",
            "Epoch 41/200\n",
            "1257/1257 [==============================] - 0s 82us/step - loss: 0.0330\n",
            "Epoch 42/200\n",
            "1257/1257 [==============================] - 0s 74us/step - loss: 0.0315\n",
            "Epoch 43/200\n",
            "1257/1257 [==============================] - 0s 75us/step - loss: 0.0301\n",
            "Epoch 44/200\n",
            "1257/1257 [==============================] - 0s 76us/step - loss: 0.0286\n",
            "Epoch 45/200\n",
            "1257/1257 [==============================] - 0s 75us/step - loss: 0.0272\n",
            "Epoch 46/200\n",
            "1257/1257 [==============================] - 0s 74us/step - loss: 0.0258\n",
            "Epoch 47/200\n",
            "1257/1257 [==============================] - 0s 78us/step - loss: 0.0243\n",
            "Epoch 48/200\n",
            "1257/1257 [==============================] - 0s 77us/step - loss: 0.0230\n",
            "Epoch 49/200\n",
            "1257/1257 [==============================] - 0s 76us/step - loss: 0.0216\n",
            "Epoch 50/200\n",
            " 768/1257 [=================>............] - ETA: 0s - loss: 0.0206"
          ],
          "name": "stdout"
        },
        {
          "output_type": "stream",
          "text": [
            "\b\b\b\b\b\b\b\b\b\b\b\b\b\b\b\b\b\b\b\b\b\b\b\b\b\b\b\b\b\b\b\b\b\b\b\b\b\b\b\b\b\b\b\b\b\b\b\b\b\b\b\b\b\b\b\b\b\b\b\b\b\b\b\b\b\b\b\r1257/1257 [==============================] - 0s 77us/step - loss: 0.0203\n",
            "Epoch 51/200\n",
            "1257/1257 [==============================] - 0s 80us/step - loss: 0.0189\n",
            "Epoch 52/200\n",
            "1257/1257 [==============================] - 0s 75us/step - loss: 0.0177\n",
            "Epoch 53/200\n",
            "1257/1257 [==============================] - 0s 76us/step - loss: 0.0164\n",
            "Epoch 54/200\n",
            "1257/1257 [==============================] - 0s 80us/step - loss: 0.0152\n",
            "Epoch 55/200\n",
            "1257/1257 [==============================] - 0s 75us/step - loss: 0.0141\n",
            "Epoch 56/200\n",
            "1257/1257 [==============================] - 0s 75us/step - loss: 0.0130\n",
            "Epoch 57/200\n",
            "1257/1257 [==============================] - 0s 78us/step - loss: 0.0120\n",
            "Epoch 58/200\n",
            "1257/1257 [==============================] - 0s 76us/step - loss: 0.0110\n",
            "Epoch 59/200\n",
            "1257/1257 [==============================] - 0s 78us/step - loss: 0.0100\n",
            "Epoch 60/200\n",
            "1257/1257 [==============================] - 0s 82us/step - loss: 0.0092\n",
            "Epoch 61/200\n",
            "1257/1257 [==============================] - 0s 77us/step - loss: 0.0083\n",
            "Epoch 62/200\n",
            "1257/1257 [==============================] - 0s 77us/step - loss: 0.0075\n",
            "Epoch 63/200\n",
            "1257/1257 [==============================] - 0s 78us/step - loss: 0.0068\n",
            "Epoch 64/200\n",
            "1257/1257 [==============================] - 0s 85us/step - loss: 0.0061\n",
            "Epoch 65/200\n",
            "1257/1257 [==============================] - 0s 76us/step - loss: 0.0055\n",
            "Epoch 66/200\n",
            "1257/1257 [==============================] - 0s 73us/step - loss: 0.0049\n",
            "Epoch 67/200\n",
            "1257/1257 [==============================] - 0s 74us/step - loss: 0.0043\n",
            "Epoch 68/200\n",
            "1257/1257 [==============================] - 0s 77us/step - loss: 0.0039\n",
            "Epoch 69/200\n",
            "1257/1257 [==============================] - 0s 73us/step - loss: 0.0034\n",
            "Epoch 70/200\n",
            "1257/1257 [==============================] - 0s 76us/step - loss: 0.0030\n",
            "Epoch 71/200\n",
            "1257/1257 [==============================] - 0s 73us/step - loss: 0.0026\n",
            "Epoch 72/200\n",
            "1257/1257 [==============================] - 0s 75us/step - loss: 0.0023\n",
            "Epoch 73/200\n",
            "1257/1257 [==============================] - 0s 79us/step - loss: 0.0020\n",
            "Epoch 74/200\n",
            " 768/1257 [=================>............] - ETA: 0s - loss: 0.0017"
          ],
          "name": "stdout"
        },
        {
          "output_type": "stream",
          "text": [
            "\b\b\b\b\b\b\b\b\b\b\b\b\b\b\b\b\b\b\b\b\b\b\b\b\b\b\b\b\b\b\b\b\b\b\b\b\b\b\b\b\b\b\b\b\b\b\b\b\b\b\b\b\b\b\b\b\b\b\b\b\b\b\b\b\b\b\b\r1257/1257 [==============================] - 0s 74us/step - loss: 0.0018\n",
            "Epoch 75/200\n",
            "1257/1257 [==============================] - 0s 85us/step - loss: 0.0015\n",
            "Epoch 76/200\n",
            "1257/1257 [==============================] - 0s 77us/step - loss: 0.0014\n",
            "Epoch 77/200\n",
            "1257/1257 [==============================] - 0s 75us/step - loss: 0.0012\n",
            "Epoch 78/200\n",
            "1257/1257 [==============================] - 0s 76us/step - loss: 0.0010\n",
            "Epoch 79/200\n",
            "1257/1257 [==============================] - 0s 71us/step - loss: 9.0729e-04\n",
            "Epoch 80/200\n",
            "1257/1257 [==============================] - 0s 77us/step - loss: 7.9936e-04\n",
            "Epoch 81/200\n",
            "1257/1257 [==============================] - 0s 74us/step - loss: 7.0697e-04\n",
            "Epoch 82/200\n",
            "1257/1257 [==============================] - 0s 79us/step - loss: 6.3116e-04\n",
            "Epoch 83/200\n",
            "1257/1257 [==============================] - 0s 79us/step - loss: 5.6583e-04\n",
            "Epoch 84/200\n",
            "1257/1257 [==============================] - 0s 74us/step - loss: 5.1066e-04\n",
            "Epoch 85/200\n",
            "1257/1257 [==============================] - 0s 76us/step - loss: 4.6558e-04\n",
            "Epoch 86/200\n",
            "1257/1257 [==============================] - 0s 72us/step - loss: 4.2797e-04\n",
            "Epoch 87/200\n",
            "1257/1257 [==============================] - 0s 74us/step - loss: 3.9614e-04\n",
            "Epoch 88/200\n",
            "1257/1257 [==============================] - 0s 77us/step - loss: 3.7113e-04\n",
            "Epoch 89/200\n",
            "1257/1257 [==============================] - 0s 80us/step - loss: 3.4965e-04\n",
            "Epoch 90/200\n",
            "1257/1257 [==============================] - 0s 74us/step - loss: 3.3396e-04\n",
            "Epoch 91/200\n",
            "1257/1257 [==============================] - 0s 71us/step - loss: 3.2081e-04\n",
            "Epoch 92/200\n",
            "1257/1257 [==============================] - 0s 72us/step - loss: 3.1057e-04\n",
            "Epoch 93/200\n",
            "1257/1257 [==============================] - 0s 77us/step - loss: 3.0227e-04\n",
            "Epoch 94/200\n",
            "1257/1257 [==============================] - 0s 73us/step - loss: 2.9578e-04\n",
            "Epoch 95/200\n",
            "1257/1257 [==============================] - 0s 73us/step - loss: 2.9066e-04\n",
            "Epoch 96/200\n",
            "1257/1257 [==============================] - 0s 77us/step - loss: 2.8586e-04\n",
            "Epoch 97/200\n",
            "1257/1257 [==============================] - 0s 72us/step - loss: 2.8216e-04\n",
            "Epoch 98/200\n",
            "1257/1257 [==============================] - 0s 74us/step - loss: 2.8012e-04\n",
            "Epoch 99/200\n",
            " 800/1257 [==================>...........] - ETA: 0s - loss: 2.9955e-04"
          ],
          "name": "stdout"
        },
        {
          "output_type": "stream",
          "text": [
            "1257/1257 [==============================] - 0s 73us/step - loss: 2.7935e-04\n",
            "Epoch 100/200\n",
            "1257/1257 [==============================] - 0s 78us/step - loss: 2.7575e-04\n",
            "Epoch 101/200\n",
            "1257/1257 [==============================] - 0s 72us/step - loss: 2.7451e-04\n",
            "Epoch 102/200\n",
            "1257/1257 [==============================] - 0s 72us/step - loss: 2.7344e-04\n",
            "Epoch 103/200\n",
            "1257/1257 [==============================] - 0s 73us/step - loss: 2.7197e-04\n",
            "Epoch 104/200\n",
            "1257/1257 [==============================] - 0s 80us/step - loss: 2.7081e-04\n",
            "Epoch 105/200\n",
            "1257/1257 [==============================] - 0s 79us/step - loss: 2.7049e-04\n",
            "Epoch 106/200\n",
            "1257/1257 [==============================] - 0s 76us/step - loss: 2.6934e-04\n",
            "Epoch 107/200\n",
            "1257/1257 [==============================] - 0s 79us/step - loss: 2.6891e-04\n",
            "Epoch 108/200\n",
            "1257/1257 [==============================] - 0s 78us/step - loss: 2.6807e-04\n",
            "Epoch 109/200\n",
            "1257/1257 [==============================] - 0s 75us/step - loss: 2.6749e-04\n",
            "Epoch 110/200\n",
            "1257/1257 [==============================] - 0s 80us/step - loss: 2.6726e-04\n",
            "Epoch 111/200\n",
            "1257/1257 [==============================] - 0s 81us/step - loss: 2.6673e-04\n",
            "Epoch 112/200\n",
            "1257/1257 [==============================] - 0s 75us/step - loss: 2.6630e-04\n",
            "Epoch 113/200\n",
            "1257/1257 [==============================] - 0s 78us/step - loss: 2.6682e-04\n",
            "Epoch 114/200\n",
            "1257/1257 [==============================] - 0s 72us/step - loss: 2.6515e-04\n",
            "Epoch 115/200\n",
            "1257/1257 [==============================] - 0s 74us/step - loss: 2.6457e-04\n",
            "Epoch 116/200\n",
            "1257/1257 [==============================] - 0s 72us/step - loss: 2.6435e-04\n",
            "Epoch 117/200\n",
            "1257/1257 [==============================] - 0s 77us/step - loss: 2.6578e-04\n",
            "Epoch 118/200\n",
            "1257/1257 [==============================] - 0s 74us/step - loss: 2.6472e-04\n",
            "Epoch 119/200\n",
            "1257/1257 [==============================] - 0s 71us/step - loss: 2.6476e-04\n",
            "Epoch 120/200\n",
            "1257/1257 [==============================] - 0s 80us/step - loss: 2.6547e-04\n",
            "Epoch 121/200\n",
            "1257/1257 [==============================] - 0s 75us/step - loss: 2.6302e-04\n",
            "Epoch 122/200\n",
            "1257/1257 [==============================] - 0s 82us/step - loss: 2.6278e-04\n",
            "Epoch 123/200\n",
            "1257/1257 [==============================] - 0s 80us/step - loss: 2.6323e-04\n"
          ],
          "name": "stdout"
        },
        {
          "output_type": "stream",
          "text": [
            "Epoch 124/200\n",
            "1257/1257 [==============================] - 0s 82us/step - loss: 2.6218e-04\n",
            "Epoch 125/200\n",
            "1257/1257 [==============================] - 0s 79us/step - loss: 2.6171e-04\n",
            "Epoch 126/200\n",
            "1257/1257 [==============================] - 0s 77us/step - loss: 2.6121e-04\n",
            "Epoch 127/200\n",
            "1257/1257 [==============================] - 0s 76us/step - loss: 2.6033e-04\n",
            "Epoch 128/200\n",
            "1257/1257 [==============================] - 0s 73us/step - loss: 2.6029e-04\n",
            "Epoch 129/200\n",
            "1257/1257 [==============================] - 0s 74us/step - loss: 2.6058e-04\n",
            "Epoch 130/200\n",
            "1257/1257 [==============================] - 0s 78us/step - loss: 2.6028e-04\n",
            "Epoch 131/200\n",
            "1257/1257 [==============================] - 0s 81us/step - loss: 2.5945e-04\n",
            "Epoch 132/200\n",
            "1257/1257 [==============================] - 0s 73us/step - loss: 2.5968e-04\n",
            "Epoch 133/200\n",
            "1257/1257 [==============================] - 0s 76us/step - loss: 2.5903e-04\n",
            "Epoch 134/200\n",
            "1257/1257 [==============================] - 0s 79us/step - loss: 2.5982e-04\n",
            "Epoch 135/200\n",
            "1257/1257 [==============================] - 0s 79us/step - loss: 2.5914e-04\n",
            "Epoch 136/200\n",
            "1257/1257 [==============================] - 0s 73us/step - loss: 2.5908e-04\n",
            "Epoch 137/200\n",
            "1257/1257 [==============================] - 0s 76us/step - loss: 2.5837e-04\n",
            "Epoch 138/200\n",
            "1257/1257 [==============================] - 0s 74us/step - loss: 2.5995e-04\n",
            "Epoch 139/200\n",
            "1257/1257 [==============================] - 0s 77us/step - loss: 2.5743e-04\n",
            "Epoch 140/200\n",
            "1257/1257 [==============================] - 0s 79us/step - loss: 2.5775e-04\n",
            "Epoch 141/200\n",
            "1257/1257 [==============================] - 0s 84us/step - loss: 2.5715e-04\n",
            "Epoch 142/200\n",
            "1257/1257 [==============================] - 0s 73us/step - loss: 2.5843e-04\n",
            "Epoch 143/200\n",
            "1257/1257 [==============================] - 0s 73us/step - loss: 2.5656e-04\n",
            "Epoch 144/200\n",
            "1257/1257 [==============================] - 0s 84us/step - loss: 2.5723e-04\n",
            "Epoch 145/200\n",
            "1257/1257 [==============================] - 0s 79us/step - loss: 2.5654e-04\n",
            "Epoch 146/200\n",
            "1257/1257 [==============================] - 0s 77us/step - loss: 2.5774e-04\n",
            "Epoch 147/200\n",
            "1257/1257 [==============================] - 0s 84us/step - loss: 2.5476e-04\n"
          ],
          "name": "stdout"
        },
        {
          "output_type": "stream",
          "text": [
            "Epoch 148/200\n",
            "1257/1257 [==============================] - 0s 79us/step - loss: 2.5719e-04\n",
            "Epoch 149/200\n",
            "1257/1257 [==============================] - 0s 76us/step - loss: 2.5675e-04\n",
            "Epoch 150/200\n",
            "1257/1257 [==============================] - 0s 85us/step - loss: 2.6077e-04\n",
            "Epoch 151/200\n",
            "1257/1257 [==============================] - 0s 82us/step - loss: 2.5874e-04\n",
            "Epoch 152/200\n",
            "1257/1257 [==============================] - 0s 75us/step - loss: 2.5438e-04\n",
            "Epoch 153/200\n",
            "1257/1257 [==============================] - 0s 82us/step - loss: 2.5475e-04\n",
            "Epoch 154/200\n",
            "1257/1257 [==============================] - 0s 74us/step - loss: 2.5547e-04\n",
            "Epoch 155/200\n",
            "1257/1257 [==============================] - 0s 78us/step - loss: 2.5418e-04\n",
            "Epoch 156/200\n",
            "1257/1257 [==============================] - 0s 81us/step - loss: 2.5491e-04\n",
            "Epoch 157/200\n",
            "1257/1257 [==============================] - 0s 75us/step - loss: 2.5353e-04\n",
            "Epoch 158/200\n",
            "1257/1257 [==============================] - 0s 80us/step - loss: 2.5353e-04\n",
            "Epoch 159/200\n",
            "1257/1257 [==============================] - 0s 78us/step - loss: 2.5341e-04\n",
            "Epoch 160/200\n",
            "1257/1257 [==============================] - 0s 79us/step - loss: 2.5408e-04\n",
            "Epoch 161/200\n",
            "1257/1257 [==============================] - 0s 73us/step - loss: 2.5352e-04\n",
            "Epoch 162/200\n",
            "1257/1257 [==============================] - 0s 72us/step - loss: 2.5209e-04\n",
            "Epoch 163/200\n",
            "1257/1257 [==============================] - 0s 81us/step - loss: 2.5398e-04\n",
            "Epoch 164/200\n",
            "1257/1257 [==============================] - 0s 79us/step - loss: 2.5817e-04\n",
            "Epoch 165/200\n",
            "1257/1257 [==============================] - 0s 74us/step - loss: 2.5564e-04\n",
            "Epoch 166/200\n",
            "1257/1257 [==============================] - 0s 81us/step - loss: 2.5486e-04\n",
            "Epoch 167/200\n",
            "1257/1257 [==============================] - 0s 79us/step - loss: 2.5272e-04\n",
            "Epoch 168/200\n",
            "1257/1257 [==============================] - 0s 84us/step - loss: 2.5347e-04\n",
            "Epoch 169/200\n",
            "1257/1257 [==============================] - 0s 75us/step - loss: 2.5407e-04\n",
            "Epoch 170/200\n",
            "1257/1257 [==============================] - 0s 81us/step - loss: 2.5489e-04\n",
            "Epoch 171/200\n",
            "1257/1257 [==============================] - 0s 77us/step - loss: 2.5638e-04\n",
            "Epoch 172/200\n",
            "  32/1257 [..............................] - ETA: 0s - loss: 1.7065e-04"
          ],
          "name": "stdout"
        },
        {
          "output_type": "stream",
          "text": [
            "1257/1257 [==============================] - 0s 78us/step - loss: 2.5159e-04\n",
            "Epoch 173/200\n",
            "1257/1257 [==============================] - 0s 76us/step - loss: 2.5210e-04\n",
            "Epoch 174/200\n",
            "1257/1257 [==============================] - 0s 75us/step - loss: 2.5230e-04\n",
            "Epoch 175/200\n",
            "1257/1257 [==============================] - 0s 79us/step - loss: 2.5294e-04\n",
            "Epoch 176/200\n",
            "1257/1257 [==============================] - 0s 75us/step - loss: 2.5258e-04\n",
            "Epoch 177/200\n",
            "1257/1257 [==============================] - 0s 77us/step - loss: 2.5281e-04\n",
            "Epoch 178/200\n",
            "1257/1257 [==============================] - 0s 74us/step - loss: 2.5286e-04\n",
            "Epoch 179/200\n",
            "1257/1257 [==============================] - 0s 75us/step - loss: 2.5405e-04\n",
            "Epoch 180/200\n",
            "1257/1257 [==============================] - 0s 79us/step - loss: 2.5278e-04\n",
            "Epoch 181/200\n",
            "1257/1257 [==============================] - 0s 76us/step - loss: 2.5686e-04\n",
            "Epoch 182/200\n",
            "1257/1257 [==============================] - 0s 73us/step - loss: 2.5264e-04\n",
            "Epoch 183/200\n",
            "1257/1257 [==============================] - 0s 70us/step - loss: 2.5223e-04\n",
            "Epoch 184/200\n",
            "1257/1257 [==============================] - 0s 79us/step - loss: 2.5199e-04\n",
            "Epoch 185/200\n",
            "1257/1257 [==============================] - 0s 72us/step - loss: 2.5202e-04\n",
            "Epoch 186/200\n",
            "1257/1257 [==============================] - 0s 75us/step - loss: 2.5131e-04\n",
            "Epoch 187/200\n",
            "1257/1257 [==============================] - 0s 84us/step - loss: 2.5400e-04\n",
            "Epoch 188/200\n",
            "1257/1257 [==============================] - 0s 77us/step - loss: 2.5190e-04\n",
            "Epoch 189/200\n",
            "1257/1257 [==============================] - 0s 73us/step - loss: 2.5251e-04\n",
            "Epoch 190/200\n",
            "1257/1257 [==============================] - 0s 79us/step - loss: 2.5123e-04\n",
            "Epoch 191/200\n",
            "1257/1257 [==============================] - 0s 82us/step - loss: 2.5126e-04\n",
            "Epoch 192/200\n",
            "1257/1257 [==============================] - 0s 77us/step - loss: 2.5193e-04\n",
            "Epoch 193/200\n",
            "1257/1257 [==============================] - 0s 79us/step - loss: 2.5339e-04\n",
            "Epoch 194/200\n",
            "1257/1257 [==============================] - 0s 90us/step - loss: 2.5183e-04\n",
            "Epoch 195/200\n",
            "1257/1257 [==============================] - 0s 71us/step - loss: 2.5267e-04\n",
            "Epoch 196/200\n",
            "1257/1257 [==============================] - 0s 71us/step - loss: 2.5329e-04\n",
            "Epoch 197/200\n",
            " 672/1257 [===============>..............] - ETA: 0s - loss: 1.8788e-04"
          ],
          "name": "stdout"
        },
        {
          "output_type": "stream",
          "text": [
            "\b\b\b\b\b\b\b\b\b\b\b\b\b\b\b\b\b\b\b\b\b\b\b\b\b\b\b\b\b\b\b\b\b\b\b\b\b\b\b\b\b\b\b\b\b\b\b\b\b\b\b\b\b\b\b\b\b\b\b\b\b\b\b\b\b\b\b\b\b\b\b\r1257/1257 [==============================] - 0s 85us/step - loss: 2.5117e-04\n",
            "Epoch 198/200\n",
            "1257/1257 [==============================] - 0s 80us/step - loss: 2.5256e-04\n",
            "Epoch 199/200\n",
            "1257/1257 [==============================] - 0s 77us/step - loss: 2.5052e-04\n",
            "Epoch 200/200\n",
            "1257/1257 [==============================] - 0s 86us/step - loss: 2.5248e-04\n"
          ],
          "name": "stdout"
        },
        {
          "output_type": "execute_result",
          "data": {
            "text/plain": [
              "<keras.callbacks.History at 0x7fbad2afc668>"
            ]
          },
          "metadata": {
            "tags": []
          },
          "execution_count": 13
        }
      ]
    },
    {
      "cell_type": "code",
      "metadata": {
        "id": "E-R7EO1uubiZ",
        "colab_type": "code",
        "colab": {}
      },
      "source": [
        "# Part 3 Making Predictions and Visualizing the results"
      ],
      "execution_count": 0,
      "outputs": []
    },
    {
      "cell_type": "code",
      "metadata": {
        "id": "OhrZRNPUubic",
        "colab_type": "code",
        "colab": {}
      },
      "source": [
        "#  Getting the Real stock price of 2017\n",
        "# Import the training set\n",
        "test_set = pd.read_csv(\"Google_Stock_Price_Test.csv\")\n",
        "real_stock_price = test_set.iloc[:, 1:2].values"
      ],
      "execution_count": 0,
      "outputs": []
    },
    {
      "cell_type": "code",
      "metadata": {
        "id": "kY50yQ95ubie",
        "colab_type": "code",
        "colab": {}
      },
      "source": [
        "# Getting the ppredicted stock prices of 2017\n",
        "inputs = real_stock_price\n",
        "inputs = sc.transform(inputs)\n",
        "inputs = np.reshape(inputs, (20, 1, 1))\n",
        "predicted_stock_price = regressor.predict(inputs)\n",
        "predicted_stock_price = sc.inverse_transform(predicted_stock_price)"
      ],
      "execution_count": 0,
      "outputs": []
    },
    {
      "cell_type": "code",
      "metadata": {
        "id": "ZzpRhfREubii",
        "colab_type": "code",
        "outputId": "b6bab5c5-38e1-4de8-e55a-82c5b51cf806",
        "colab": {
          "base_uri": "https://localhost:8080/",
          "height": 376
        }
      },
      "source": [
        "# Visualizing the Results\n",
        "plt.plot(real_stock_price, c=\"red\", label=\"Real Google Stock Price\")\n",
        "plt.plot(predicted_stock_price, c=\"blue\", label=\"Predicted Google Stock Price\")\n",
        "plt.title(\"Google Stock Price Predictions\")\n",
        "plt.xlabel(\"Time\")\n",
        "plt.ylabel(\"Google Stock Price\")\n",
        "plt.legend()\n",
        "plt.show()"
      ],
      "execution_count": 0,
      "outputs": [
        {
          "output_type": "display_data",
          "data": {
            "image/png": "[encoded data removed]",
            "text/plain": [
              "<matplotlib.figure.Figure at 0x7fbac3c3f940>"
            ]
          },
          "metadata": {
            "tags": []
          }
        }
      ]
    },
    {
      "cell_type": "code",
      "metadata": {
        "id": "Jc_y--p9ubil",
        "colab_type": "code",
        "colab": {}
      },
      "source": [
        "# Assignment"
      ],
      "execution_count": 0,
      "outputs": []
    },
    {
      "cell_type": "code",
      "metadata": {
        "id": "D7ETD7xHubin",
        "colab_type": "code",
        "colab": {}
      },
      "source": [
        "# Getting the real stock price of 2012 - 2016\n",
        "real_stock_price_train = pd.read_csv(\"Google_Stock_Price_Train.csv\")\n",
        "real_stock_price_train = real_stock_price_train.iloc[:, 1:2].values"
      ],
      "execution_count": 0,
      "outputs": []
    },
    {
      "cell_type": "code",
      "metadata": {
        "id": "QQ4P6oKuubiq",
        "colab_type": "code",
        "colab": {}
      },
      "source": [
        "# Get the predicted stock price of 2012 - 2016\n",
        "predicted_stock_price_train = regressor.predict(X_train)\n",
        "predicted_stock_price_train = sc.inverse_transform(predicted_stock_price_train)"
      ],
      "execution_count": 0,
      "outputs": []
    },
    {
      "cell_type": "code",
      "metadata": {
        "id": "mdsYcWf7ubis",
        "colab_type": "code",
        "outputId": "4becfc84-597e-409d-9b95-b8e3c6281a8e",
        "colab": {
          "base_uri": "https://localhost:8080/",
          "height": 376
        }
      },
      "source": [
        "# Visualizing the results\n",
        "plt.plot(real_stock_price_train, c=\"red\", label=\"Real Google Stock Price\")\n",
        "plt.plot(predicted_stock_price_train, c=\"blue\", label=\"Predicted Google Stock Price\")\n",
        "plt.title(\"Google Stock Price Predictions\")\n",
        "plt.xlabel(\"Time\")\n",
        "plt.ylabel(\"Google Stock Price\")\n",
        "plt.legend()\n",
        "plt.show()"
      ],
      "execution_count": 0,
      "outputs": [
        {
          "output_type": "display_data",
          "data": {
            "image/png": "[encoded data removed]",
            "text/plain": [
              "<matplotlib.figure.Figure at 0x7fbac3c49208>"
            ]
          },
          "metadata": {
            "tags": []
          }
        }
      ]
    },
    {
      "cell_type": "code",
      "metadata": {
        "id": "YKXLsqVeubiv",
        "colab_type": "code",
        "colab": {}
      },
      "source": [
        ""
      ],
      "execution_count": 0,
      "outputs": []
    },
    {
      "cell_type": "code",
      "metadata": {
        "id": "2XscjlIbubiw",
        "colab_type": "code",
        "colab": {}
      },
      "source": [
        "# Evaluating the RNN\n",
        "import math\n",
        "from sklearn.metrics import mean_squared_error\n",
        "rmse = math.sqrt(mean_squared_error(real_stock_price, predicted_stock_price))\n",
        "\n"
      ],
      "execution_count": 0,
      "outputs": []
    },
    {
      "cell_type": "code",
      "metadata": {
        "id": "Wpv7lJO7ubiy",
        "colab_type": "code",
        "outputId": "f98720f2-63b9-479d-cf1b-9d4acf1090e8",
        "colab": {
          "base_uri": "https://localhost:8080/",
          "height": 35
        }
      },
      "source": [
        "rmse/800"
      ],
      "execution_count": 0,
      "outputs": [
        {
          "output_type": "execute_result",
          "data": {
            "text/plain": [
              "0.011752504683522182"
            ]
          },
          "metadata": {
            "tags": []
          },
          "execution_count": 21
        }
      ]
    },
    {
      "cell_type": "code",
      "metadata": {
        "id": "y_maOZAhubi0",
        "colab_type": "code",
        "colab": {}
      },
      "source": [
        ""
      ],
      "execution_count": 0,
      "outputs": []
    }
  ]
}