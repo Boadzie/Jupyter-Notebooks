{
  "nbformat": 4,
  "nbformat_minor": 0,
  "metadata": {
    "colab": {
      "name": "Fashion Image Classification with Keras.ipynb",
      "provenance": [],
      "include_colab_link": true
    },
    "kernelspec": {
      "name": "python3",
      "display_name": "Python 3"
    },
    "accelerator": "TPU"
  },
  "cells": [
    {
      "cell_type": "markdown",
      "metadata": {
        "id": "view-in-github",
        "colab_type": "text"
      },
      "source": [
        "<a href=\"https://colab.research.google.com/github/Boadzie/Jupyter-Notebooks/blob/master/Fashion_Image_Classification_with_Keras.ipynb\" target=\"_parent\"><img src=\"https://colab.research.google.com/assets/colab-badge.svg\" alt=\"Open In Colab\"/></a>"
      ]
    },
    {
      "cell_type": "markdown",
      "metadata": {
        "id": "ylNUxpMUlxMm",
        "colab_type": "text"
      },
      "source": [
        "# Business Problem\n",
        "\n",
        "**Classify Fashion Image**\n",
        "\n",
        "#### Overview\n",
        "**The dataset is provided by Keras—the fashion items dataset. This dataset also has 28×28 grayscale training and test images like MNIST.**"
      ]
    },
    {
      "cell_type": "markdown",
      "metadata": {
        "id": "dIlAdLLIoMdb",
        "colab_type": "text"
      },
      "source": [
        "## Preprocessing"
      ]
    },
    {
      "cell_type": "code",
      "metadata": {
        "id": "SlqN9BsvlmhU",
        "colab_type": "code",
        "colab": {}
      },
      "source": [
        "# import keras library\n",
        "from tensorflow import keras\n",
        "\n",
        "# Helper libraries\n",
        "import numpy as np\n",
        "import matplotlib.pyplot as plt\n",
        "%matplotlib inline\n",
        "\n",
        "\n",
        "# setting styles\n",
        "from matplotlib import style\n",
        "style.use(\"ggplot\")"
      ],
      "execution_count": 0,
      "outputs": []
    },
    {
      "cell_type": "code",
      "metadata": {
        "id": "hCavVG7YlyHl",
        "colab_type": "code",
        "colab": {}
      },
      "source": [
        "# load the mnist dataset provided by Keras\n",
        "dataset = keras.datasets.fashion_mnist"
      ],
      "execution_count": 0,
      "outputs": []
    },
    {
      "cell_type": "code",
      "metadata": {
        "id": "fe1lcrRYlyKZ",
        "colab_type": "code",
        "colab": {}
      },
      "source": [
        "# labels for the images\n",
        "class_names = ['T-shirt/top', 'Trouser', 'Pullover', 'Dress', 'Coat', 'Sandal', 'Shirt', 'Sneaker', 'Bag', 'Ankle boot']"
      ],
      "execution_count": 0,
      "outputs": []
    },
    {
      "cell_type": "code",
      "metadata": {
        "id": "91csjz5plyPj",
        "colab_type": "code",
        "colab": {}
      },
      "source": [
        "# load the training and test data\n",
        "(img_rows, img_cols) = (28,28)\n",
        "\n",
        "(x_train, y_train),(x_test, y_test) = dataset.load_data()"
      ],
      "execution_count": 0,
      "outputs": []
    },
    {
      "cell_type": "code",
      "metadata": {
        "id": "uvypTA7mlyR6",
        "colab_type": "code",
        "outputId": "4e7664cd-fdec-45ef-a073-008a6c3d3592",
        "colab": {
          "base_uri": "https://localhost:8080/",
          "height": 1873
        }
      },
      "source": [
        "# lets plot some data samples\n",
        "plt.figure(figsize=(10,10))\n",
        "for i in range(25):\n",
        "  plt.subplot(5,5,i+1)\n",
        "  plt.xticks([])\n",
        "  plt.yticks([])\n",
        "  plt.grid(False)\n",
        "  plt.imshow(x_test[i], cmap=plt.cm.gray)\n",
        "  plt.xlabel(class_names[y_test[i]])\n",
        "  plt.show()"
      ],
      "execution_count": 0,
      "outputs": [
        {
          "output_type": "display_data",
          "data": {
            "image/png": "[encoded data removed]",
            "text/plain": [
              "<Figure size 720x720 with 1 Axes>"
            ]
          },
          "metadata": {
            "tags": []
          }
        },
        {
          "output_type": "display_data",
          "data": {
            "image/png": "[encoded data removed]",
            "text/plain": [
              "<Figure size 432x288 with 1 Axes>"
            ]
          },
          "metadata": {
            "tags": []
          }
        },
        {
          "output_type": "display_data",
          "data": {
            "image/png": "[encoded data removed]",
            "text/plain": [
              "<Figure size 432x288 with 1 Axes>"
            ]
          },
          "metadata": {
            "tags": []
          }
        },
        {
          "output_type": "display_data",
          "data": {
            "image/png": "[encoded data removed]",
            "text/plain": [
              "<Figure size 432x288 with 1 Axes>"
            ]
          },
          "metadata": {
            "tags": []
          }
        },
        {
          "output_type": "display_data",
          "data": {
            "image/png": "[encoded data removed]",
            "text/plain": [
              "<Figure size 432x288 with 1 Axes>"
            ]
          },
          "metadata": {
            "tags": []
          }
        },
        {
          "output_type": "display_data",
          "data": {
            "image/png": "[encoded data removed]",
            "text/plain": [
              "<Figure size 432x288 with 1 Axes>"
            ]
          },
          "metadata": {
            "tags": []
          }
        },
        {
          "output_type": "display_data",
          "data": {
            "image/png": "[encoded data removed]",
            "text/plain": [
              "<Figure size 432x288 with 1 Axes>"
            ]
          },
          "metadata": {
            "tags": []
          }
        },
        {
          "output_type": "display_data",
          "data": {
            "image/png": "[encoded data removed]",
            "text/plain": [
              "<Figure size 432x288 with 1 Axes>"
            ]
          },
          "metadata": {
            "tags": []
          }
        },
        {
          "output_type": "display_data",
          "data": {
            "image/png": "[encoded data removed]",
            "text/plain": [
              "<Figure size 432x288 with 1 Axes>"
            ]
          },
          "metadata": {
            "tags": []
          }
        },
        {
          "output_type": "display_data",
          "data": {
            "image/png": "[encoded data removed]",
            "text/plain": [
              "<Figure size 432x288 with 1 Axes>"
            ]
          },
          "metadata": {
            "tags": []
          }
        },
        {
          "output_type": "display_data",
          "data": {
            "image/png": "[encoded data removed]",
            "text/plain": [
              "<Figure size 432x288 with 1 Axes>"
            ]
          },
          "metadata": {
            "tags": []
          }
        },
        {
          "output_type": "display_data",
          "data": {
            "image/png": "[encoded data removed]",
            "text/plain": [
              "<Figure size 432x288 with 1 Axes>"
            ]
          },
          "metadata": {
            "tags": []
          }
        },
        {
          "output_type": "display_data",
          "data": {
            "image/png": "[encoded data removed]",
            "text/plain": [
              "<Figure size 432x288 with 1 Axes>"
            ]
          },
          "metadata": {
            "tags": []
          }
        },
        {
          "output_type": "display_data",
          "data": {
            "image/png": "[encoded data removed]",
            "text/plain": [
              "<Figure size 432x288 with 1 Axes>"
            ]
          },
          "metadata": {
            "tags": []
          }
        },
        {
          "output_type": "display_data",
          "data": {
            "image/png": "[encoded data removed]",
            "text/plain": [
              "<Figure size 432x288 with 1 Axes>"
            ]
          },
          "metadata": {
            "tags": []
          }
        },
        {
          "output_type": "display_data",
          "data": {
            "image/png": "[encoded data removed]",
            "text/plain": [
              "<Figure size 432x288 with 1 Axes>"
            ]
          },
          "metadata": {
            "tags": []
          }
        },
        {
          "output_type": "display_data",
          "data": {
            "image/png": "[encoded data removed]",
            "text/plain": [
              "<Figure size 432x288 with 1 Axes>"
            ]
          },
          "metadata": {
            "tags": []
          }
        },
        {
          "output_type": "display_data",
          "data": {
            "image/png": "[encoded data removed]",
            "text/plain": [
              "<Figure size 432x288 with 1 Axes>"
            ]
          },
          "metadata": {
            "tags": []
          }
        },
        {
          "output_type": "display_data",
          "data": {
            "image/png": "[encoded data removed]",
            "text/plain": [
              "<Figure size 432x288 with 1 Axes>"
            ]
          },
          "metadata": {
            "tags": []
          }
        },
        {
          "output_type": "display_data",
          "data": {
            "image/png": "[encoded data removed]",
            "text/plain": [
              "<Figure size 432x288 with 1 Axes>"
            ]
          },
          "metadata": {
            "tags": []
          }
        },
        {
          "output_type": "display_data",
          "data": {
            "image/png": "[encoded data removed]",
            "text/plain": [
              "<Figure size 432x288 with 1 Axes>"
            ]
          },
          "metadata": {
            "tags": []
          }
        },
        {
          "output_type": "display_data",
          "data": {
            "image/png": "[encoded data removed]",
            "text/plain": [
              "<Figure size 432x288 with 1 Axes>"
            ]
          },
          "metadata": {
            "tags": []
          }
        },
        {
          "output_type": "display_data",
          "data": {
            "image/png": "[encoded data removed]",
            "text/plain": [
              "<Figure size 432x288 with 1 Axes>"
            ]
          },
          "metadata": {
            "tags": []
          }
        },
        {
          "output_type": "display_data",
          "data": {
            "image/png": "[encoded data removed]",
            "text/plain": [
              "<Figure size 432x288 with 1 Axes>"
            ]
          },
          "metadata": {
            "tags": []
          }
        },
        {
          "output_type": "display_data",
          "data": {
            "image/png": "[encoded data removed]",
            "text/plain": [
              "<Figure size 432x288 with 1 Axes>"
            ]
          },
          "metadata": {
            "tags": []
          }
        }
      ]
    },
    {
      "cell_type": "markdown",
      "metadata": {
        "id": "w9iMHa_AoFfq",
        "colab_type": "text"
      },
      "source": [
        "## Building the CNN"
      ]
    },
    {
      "cell_type": "code",
      "metadata": {
        "id": "gKyVi4t1lyY2",
        "colab_type": "code",
        "outputId": "eeb47eff-ec58-4521-e5c9-6203c3e326b1",
        "colab": {
          "base_uri": "https://localhost:8080/",
          "height": 34
        }
      },
      "source": [
        "from keras.utils import to_categorical\n",
        "# one hot encode the results\n",
        "y_train = to_categorical(y_train)\n",
        "y_test = to_categorical(y_test)\n"
      ],
      "execution_count": 0,
      "outputs": [
        {
          "output_type": "stream",
          "text": [
            "Using TensorFlow backend.\n"
          ],
          "name": "stderr"
        }
      ]
    },
    {
      "cell_type": "code",
      "metadata": {
        "id": "zo-QtGzDlybs",
        "colab_type": "code",
        "colab": {}
      },
      "source": [
        "# normalize the data to values between 0 and 1\n",
        "x_train, x_test = x_train / 255.0, x_test / 255.0\n"
      ],
      "execution_count": 0,
      "outputs": []
    },
    {
      "cell_type": "code",
      "metadata": {
        "id": "R5HPhRRrlyeK",
        "colab_type": "code",
        "colab": {}
      },
      "source": [
        "# customize data for CNN - make a 3D array\n",
        "x_train_cnn = np.expand_dims(x_train, -1)\n",
        "x_test_cnn = np.expand_dims(x_test, -1)"
      ],
      "execution_count": 0,
      "outputs": []
    },
    {
      "cell_type": "code",
      "metadata": {
        "id": "Mo2Xncdelygk",
        "colab_type": "code",
        "colab": {}
      },
      "source": [
        "# Building the Architecture\n",
        "from keras.models import Sequential\n",
        "from keras.layers import Dense, Dropout, Flatten, Input\n",
        "from keras.layers import Conv2D, MaxPooling2D\n",
        "\n",
        "\n",
        "model = Sequential()\n",
        "model.add(Conv2D(32, (3, 3), activation='relu',\n",
        "input_shape=(28, 28, 1), padding='same'))\n",
        "model.add(MaxPooling2D(pool_size=(4, 4)))\n",
        "model.add(Flatten())\n",
        "model.add(Dense(10, activation='softmax'))"
      ],
      "execution_count": 0,
      "outputs": []
    },
    {
      "cell_type": "code",
      "metadata": {
        "id": "lT5wN-mEoqll",
        "colab_type": "code",
        "colab": {}
      },
      "source": [
        "# assign the optimizer for the model and define loss function\n",
        "model.compile(optimizer='adam', loss='categorical_crossentropy', metrics=['accuracy'])"
      ],
      "execution_count": 0,
      "outputs": []
    },
    {
      "cell_type": "code",
      "metadata": {
        "id": "IfBtvmGHoqo7",
        "colab_type": "code",
        "outputId": "f7fb025e-d5c3-4d2b-bd37-c67943049ccd",
        "colab": {
          "base_uri": "https://localhost:8080/",
          "height": 278
        }
      },
      "source": [
        "model.summary()"
      ],
      "execution_count": 0,
      "outputs": [
        {
          "output_type": "stream",
          "text": [
            "_________________________________________________________________\n",
            "Layer (type)                 Output Shape              Param #   \n",
            "=================================================================\n",
            "conv2d_2 (Conv2D)            (None, 28, 28, 32)        320       \n",
            "_________________________________________________________________\n",
            "max_pooling2d_2 (MaxPooling2 (None, 7, 7, 32)          0         \n",
            "_________________________________________________________________\n",
            "flatten_2 (Flatten)          (None, 1568)              0         \n",
            "_________________________________________________________________\n",
            "dense_2 (Dense)              (None, 10)                15690     \n",
            "=================================================================\n",
            "Total params: 16,010\n",
            "Trainable params: 16,010\n",
            "Non-trainable params: 0\n",
            "_________________________________________________________________\n"
          ],
          "name": "stdout"
        }
      ]
    },
    {
      "cell_type": "code",
      "metadata": {
        "id": "fsBoI_s1oqrw",
        "colab_type": "code",
        "outputId": "562c60f3-59a3-4e47-eb63-75e1077b279d",
        "colab": {
          "base_uri": "https://localhost:8080/",
          "height": 124
        }
      },
      "source": [
        "# run the actual training\n",
        "history = model.fit(x_train_cnn, y_train, epochs=1)"
      ],
      "execution_count": 0,
      "outputs": [
        {
          "output_type": "stream",
          "text": [
            "WARNING:tensorflow:From /usr/local/lib/python3.6/dist-packages/tensorflow/python/ops/math_ops.py:3066: to_int32 (from tensorflow.python.ops.math_ops) is deprecated and will be removed in a future version.\n",
            "Instructions for updating:\n",
            "Use tf.cast instead.\n",
            "Epoch 1/1\n",
            "60000/60000 [==============================] - 37s 624us/step - loss: 0.5259 - acc: 0.8130\n"
          ],
          "name": "stdout"
        }
      ]
    },
    {
      "cell_type": "code",
      "metadata": {
        "id": "Uz5NPhAzoqvy",
        "colab_type": "code",
        "outputId": "d19200c4-ee7d-4300-9f76-e0f58dcfa459",
        "colab": {
          "base_uri": "https://localhost:8080/",
          "height": 52
        }
      },
      "source": [
        "# evaluate on test data\n",
        "model.evaluate(x_test_cnn, y_test)"
      ],
      "execution_count": 0,
      "outputs": [
        {
          "output_type": "stream",
          "text": [
            "10000/10000 [==============================] - 2s 235us/step\n"
          ],
          "name": "stdout"
        },
        {
          "output_type": "execute_result",
          "data": {
            "text/plain": [
              "[0.401449560713768, 0.8593]"
            ]
          },
          "metadata": {
            "tags": []
          },
          "execution_count": 18
        }
      ]
    },
    {
      "cell_type": "code",
      "metadata": {
        "id": "kfJgj5wxoqyO",
        "colab_type": "code",
        "outputId": "888094e5-5b92-49fe-b25b-9f00643622fe",
        "colab": {
          "base_uri": "https://localhost:8080/",
          "height": 712
        }
      },
      "source": [
        "# Training with 20 epochs\n",
        "# run the actual training\n",
        "history = model.fit(x_train_cnn, y_train, epochs=20)"
      ],
      "execution_count": 0,
      "outputs": [
        {
          "output_type": "stream",
          "text": [
            "Epoch 1/20\n",
            "60000/60000 [==============================] - 37s 618us/step - loss: 0.3623 - acc: 0.8722\n",
            "Epoch 2/20\n",
            "60000/60000 [==============================] - 37s 623us/step - loss: 0.3256 - acc: 0.8853\n",
            "Epoch 3/20\n",
            "60000/60000 [==============================] - 38s 625us/step - loss: 0.3054 - acc: 0.8918\n",
            "Epoch 4/20\n",
            "60000/60000 [==============================] - 37s 623us/step - loss: 0.2888 - acc: 0.8978\n",
            "Epoch 5/20\n",
            "60000/60000 [==============================] - 37s 617us/step - loss: 0.2782 - acc: 0.9014\n",
            "Epoch 6/20\n",
            "60000/60000 [==============================] - 37s 616us/step - loss: 0.2677 - acc: 0.9056\n",
            "Epoch 7/20\n",
            "60000/60000 [==============================] - 37s 619us/step - loss: 0.2595 - acc: 0.9078\n",
            "Epoch 8/20\n",
            "60000/60000 [==============================] - 37s 623us/step - loss: 0.2527 - acc: 0.9102\n",
            "Epoch 9/20\n",
            "60000/60000 [==============================] - 37s 620us/step - loss: 0.2459 - acc: 0.9124\n",
            "Epoch 10/20\n",
            "60000/60000 [==============================] - 37s 615us/step - loss: 0.2408 - acc: 0.9140\n",
            "Epoch 11/20\n",
            "60000/60000 [==============================] - 37s 618us/step - loss: 0.2357 - acc: 0.9161\n",
            "Epoch 12/20\n",
            "60000/60000 [==============================] - 37s 624us/step - loss: 0.2312 - acc: 0.9167\n",
            "Epoch 13/20\n",
            "60000/60000 [==============================] - 37s 617us/step - loss: 0.2272 - acc: 0.9184\n",
            "Epoch 14/20\n",
            "60000/60000 [==============================] - 41s 681us/step - loss: 0.2247 - acc: 0.9199\n",
            "Epoch 15/20\n",
            "60000/60000 [==============================] - 38s 633us/step - loss: 0.2209 - acc: 0.9212\n",
            "Epoch 16/20\n",
            "60000/60000 [==============================] - 38s 637us/step - loss: 0.2167 - acc: 0.9224\n",
            "Epoch 17/20\n",
            "60000/60000 [==============================] - 38s 631us/step - loss: 0.2135 - acc: 0.9237\n",
            "Epoch 18/20\n",
            "60000/60000 [==============================] - 36s 606us/step - loss: 0.2127 - acc: 0.9241\n",
            "Epoch 19/20\n",
            "60000/60000 [==============================] - 40s 666us/step - loss: 0.2087 - acc: 0.9244\n",
            "Epoch 20/20\n",
            "60000/60000 [==============================] - 39s 642us/step - loss: 0.2059 - acc: 0.9269\n"
          ],
          "name": "stdout"
        }
      ]
    },
    {
      "cell_type": "code",
      "metadata": {
        "id": "EC6OyvV8tnOy",
        "colab_type": "code",
        "outputId": "cfc4c706-0d67-4885-9881-c2e896e40eda",
        "colab": {
          "base_uri": "https://localhost:8080/",
          "height": 52
        }
      },
      "source": [
        "# evaluate on test data\n",
        "model.evaluate(x_test_cnn, y_test)"
      ],
      "execution_count": 0,
      "outputs": [
        {
          "output_type": "stream",
          "text": [
            "10000/10000 [==============================] - 2s 198us/step\n"
          ],
          "name": "stdout"
        },
        {
          "output_type": "execute_result",
          "data": {
            "text/plain": [
              "[0.2722225585699081, 0.9034]"
            ]
          },
          "metadata": {
            "tags": []
          },
          "execution_count": 24
        }
      ]
    },
    {
      "cell_type": "code",
      "metadata": {
        "id": "aj-CqyyiptHG",
        "colab_type": "code",
        "outputId": "59e79feb-64ba-4d4b-d1f8-e1997f7c6938",
        "colab": {
          "base_uri": "https://localhost:8080/",
          "height": 462
        }
      },
      "source": [
        "# Plotting the Learning History\n",
        "import matplotlib.pyplot as plt\n",
        "%matplotlib inline\n",
        "\n",
        "# summarize history for accuracy\n",
        "fig= plt.figure(figsize=(10, 7))\n",
        "plt.plot(history.history['acc'])\n",
        "\n",
        "#plt.plot(history.history['val_acc'])\n",
        "plt.title('model accuracy')\n",
        "plt.ylabel('accuracy')\n",
        "plt.xlabel('epoch')\n",
        "plt.legend(['train', 'test'], loc='upper left')\n",
        "plt.show()\n"
      ],
      "execution_count": 0,
      "outputs": [
        {
          "output_type": "display_data",
          "data": {
            "image/png": "[encoded data removed]",
            "text/plain": [
              "<Figure size 720x504 with 1 Axes>"
            ]
          },
          "metadata": {
            "tags": []
          }
        }
      ]
    },
    {
      "cell_type": "code",
      "metadata": {
        "id": "e6948pjZptWl",
        "colab_type": "code",
        "outputId": "775de66d-ae91-4c24-8816-1636945309c5",
        "colab": {
          "base_uri": "https://localhost:8080/",
          "height": 462
        }
      },
      "source": [
        "# summarize history for loss\n",
        "fig= plt.figure(figsize=(10, 7))\n",
        "plt.plot(history.history['loss'])\n",
        "\n",
        "#plt.plot(history.history['val_loss'])\n",
        "plt.title('model loss')\n",
        "plt.ylabel('loss')\n",
        "plt.xlabel('epoch')\n",
        "plt.legend(['train', 'test'], loc='upper left')\n",
        "plt.show()"
      ],
      "execution_count": 0,
      "outputs": [
        {
          "output_type": "display_data",
          "data": {
            "image/png": "[encoded data removed]",
            "text/plain": [
              "<Figure size 720x504 with 1 Axes>"
            ]
          },
          "metadata": {
            "tags": []
          }
        }
      ]
    },
    {
      "cell_type": "code",
      "metadata": {
        "id": "d02lWhY2ptaV",
        "colab_type": "code",
        "colab": {}
      },
      "source": [
        "# Saving the model"
      ],
      "execution_count": 0,
      "outputs": []
    }
  ]
}