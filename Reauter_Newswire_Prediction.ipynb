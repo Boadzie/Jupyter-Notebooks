{
  "nbformat": 4,
  "nbformat_minor": 0,
  "metadata": {
    "colab": {
      "name": "Reauter Newswire Prediction.ipynb",
      "provenance": [],
      "collapsed_sections": [],
      "include_colab_link": true
    },
    "kernelspec": {
      "name": "python3",
      "display_name": "Python 3"
    },
    "accelerator": "GPU"
  },
  "cells": [
    {
      "cell_type": "markdown",
      "metadata": {
        "id": "view-in-github",
        "colab_type": "text"
      },
      "source": [
        "<a href=\"https://colab.research.google.com/github/Boadzie/Jupyter-Notebooks/blob/master/Reauter_Newswire_Prediction.ipynb\" target=\"_parent\"><img src=\"https://colab.research.google.com/assets/colab-badge.svg\" alt=\"Open In Colab\"/></a>"
      ]
    },
    {
      "cell_type": "markdown",
      "metadata": {
        "id": "3664mVQDpfND",
        "colab_type": "text"
      },
      "source": [
        "# REAUTER NEWSWIRE "
      ]
    },
    {
      "cell_type": "code",
      "metadata": {
        "id": "57p-xL7epUVh",
        "colab_type": "code",
        "outputId": "2c268664-9fce-4685-b11d-afea52eb940f",
        "colab": {
          "base_uri": "https://localhost:8080/",
          "height": 34
        }
      },
      "source": [
        "# importing the libraries\n",
        "import keras\n",
        "import numpy as np\n",
        "import matplotlib.pyplot as plt"
      ],
      "execution_count": 0,
      "outputs": [
        {
          "output_type": "stream",
          "text": [
            "Using TensorFlow backend.\n"
          ],
          "name": "stderr"
        }
      ]
    },
    {
      "cell_type": "code",
      "metadata": {
        "id": "ZmDmy0d9q48o",
        "colab_type": "code",
        "colab": {}
      },
      "source": [
        "# loading the dataset \n",
        "from keras.datasets import reuters\n",
        "(train_data, train_labels), (test_data, test_labels) = reuters.load_data(num_words=1000)"
      ],
      "execution_count": 0,
      "outputs": []
    },
    {
      "cell_type": "code",
      "metadata": {
        "id": "uQihDJHkq5AA",
        "colab_type": "code",
        "outputId": "8b1df61a-4fb0-401a-bdc8-678fa18374e4",
        "colab": {
          "base_uri": "https://localhost:8080/",
          "height": 34
        }
      },
      "source": [
        "print(train_data[10])"
      ],
      "execution_count": 0,
      "outputs": [
        {
          "output_type": "stream",
          "text": [
            "[1, 245, 273, 207, 156, 53, 74, 160, 26, 14, 46, 296, 26, 39, 74, 2, 2, 14, 46, 2, 2, 86, 61, 2, 2, 14, 61, 451, 2, 17, 12]\n"
          ],
          "name": "stdout"
        }
      ]
    },
    {
      "cell_type": "code",
      "metadata": {
        "id": "MWLjChfqq5Co",
        "colab_type": "code",
        "colab": {}
      },
      "source": [
        "import numpy as np\n",
        "def vectorize_sequences(sequences, dimension=10000):\n",
        "  results = np.zeros((len(sequences), dimension))\n",
        "  for i, sequence in enumerate(sequences):\n",
        "    results[i, sequence] = 1.\n",
        "  return results\n",
        " "
      ],
      "execution_count": 0,
      "outputs": []
    },
    {
      "cell_type": "code",
      "metadata": {
        "id": "y-7cffYEq5Fj",
        "colab_type": "code",
        "colab": {}
      },
      "source": [
        " x_train = vectorize_sequences(train_data)\n",
        " x_test = vectorize_sequences(test_data)"
      ],
      "execution_count": 0,
      "outputs": []
    },
    {
      "cell_type": "code",
      "metadata": {
        "id": "KUS6oiagq5I7",
        "colab_type": "code",
        "colab": {}
      },
      "source": [
        "from keras.utils.np_utils import to_categorical\n",
        "one_hot_train_labels = to_categorical(train_labels)\n",
        "one_hot_test_labels = to_categorical(test_labels)"
      ],
      "execution_count": 0,
      "outputs": []
    },
    {
      "cell_type": "code",
      "metadata": {
        "id": "Qr_ifeFitqsz",
        "colab_type": "code",
        "colab": {}
      },
      "source": [
        "# Model Difinition\n",
        "from keras import models\n",
        "from keras import layers\n",
        "model = models.Sequential()\n",
        "model.add(layers.Dense(64, activation='relu', input_shape=(10000,)))\n",
        "model.add(layers.Dense(64, activation='relu'))\n",
        "model.add(layers.Dense(46, activation='softmax'))"
      ],
      "execution_count": 0,
      "outputs": []
    },
    {
      "cell_type": "code",
      "metadata": {
        "id": "nSsCikiutqvT",
        "colab_type": "code",
        "colab": {}
      },
      "source": [
        "# Compiling the Model\n",
        "model.compile(optimizer='rmsprop', loss='categorical_crossentropy', metrics=['accuracy'])"
      ],
      "execution_count": 0,
      "outputs": []
    },
    {
      "cell_type": "code",
      "metadata": {
        "id": "Jrjb1ypmtqyY",
        "colab_type": "code",
        "colab": {}
      },
      "source": [
        "# Setting aside a Validatory set\n",
        "x_val = x_train[:1000]\n",
        "partial_x_train = x_train[1000:]\n",
        "y_val = one_hot_train_labels[:1000]\n",
        "partial_y_train = one_hot_train_labels[1000:]"
      ],
      "execution_count": 0,
      "outputs": []
    },
    {
      "cell_type": "code",
      "metadata": {
        "id": "VlqUn3ftq5K-",
        "colab_type": "code",
        "outputId": "9af9931f-2df2-44d7-bc66-819b8e4c19cf",
        "colab": {
          "base_uri": "https://localhost:8080/",
          "height": 706
        }
      },
      "source": [
        "# Traing the Model\n",
        "history = model.fit(partial_x_train, partial_y_train, epochs=20, batch_size=512, validation_data=(x_val, y_val))"
      ],
      "execution_count": 0,
      "outputs": [
        {
          "output_type": "stream",
          "text": [
            "Train on 7982 samples, validate on 1000 samples\n",
            "Epoch 1/20\n",
            "7982/7982 [==============================] - 3s 365us/step - loss: 2.6078 - acc: 0.4870 - val_loss: 1.8245 - val_acc: 0.5780\n",
            "Epoch 2/20\n",
            "7982/7982 [==============================] - 1s 75us/step - loss: 1.6343 - acc: 0.6333 - val_loss: 1.4847 - val_acc: 0.6600\n",
            "Epoch 3/20\n",
            "7982/7982 [==============================] - 1s 73us/step - loss: 1.3624 - acc: 0.7001 - val_loss: 1.3202 - val_acc: 0.7100\n",
            "Epoch 4/20\n",
            "7982/7982 [==============================] - 1s 74us/step - loss: 1.1974 - acc: 0.7388 - val_loss: 1.2019 - val_acc: 0.7300\n",
            "Epoch 5/20\n",
            "7982/7982 [==============================] - 1s 76us/step - loss: 1.0704 - acc: 0.7681 - val_loss: 1.1229 - val_acc: 0.7530\n",
            "Epoch 6/20\n",
            "7982/7982 [==============================] - 1s 78us/step - loss: 0.9722 - acc: 0.7840 - val_loss: 1.0752 - val_acc: 0.7630\n",
            "Epoch 7/20\n",
            "7982/7982 [==============================] - 1s 78us/step - loss: 0.8949 - acc: 0.7985 - val_loss: 1.0342 - val_acc: 0.7640\n",
            "Epoch 8/20\n",
            "7982/7982 [==============================] - 1s 77us/step - loss: 0.8209 - acc: 0.8123 - val_loss: 1.0192 - val_acc: 0.7630\n",
            "Epoch 9/20\n",
            "7982/7982 [==============================] - 1s 79us/step - loss: 0.7606 - acc: 0.8236 - val_loss: 0.9778 - val_acc: 0.7790\n",
            "Epoch 10/20\n",
            "7982/7982 [==============================] - 1s 77us/step - loss: 0.7077 - acc: 0.8339 - val_loss: 0.9499 - val_acc: 0.7950\n",
            "Epoch 11/20\n",
            "7982/7982 [==============================] - 1s 79us/step - loss: 0.6533 - acc: 0.8497 - val_loss: 0.9496 - val_acc: 0.7900\n",
            "Epoch 12/20\n",
            "7982/7982 [==============================] - 1s 79us/step - loss: 0.6073 - acc: 0.8604 - val_loss: 0.9233 - val_acc: 0.8070\n",
            "Epoch 13/20\n",
            "7982/7982 [==============================] - 1s 78us/step - loss: 0.5715 - acc: 0.8667 - val_loss: 0.9258 - val_acc: 0.8000\n",
            "Epoch 14/20\n",
            "7982/7982 [==============================] - 1s 78us/step - loss: 0.5353 - acc: 0.8773 - val_loss: 0.9163 - val_acc: 0.8010\n",
            "Epoch 15/20\n",
            "7982/7982 [==============================] - 1s 78us/step - loss: 0.4947 - acc: 0.8877 - val_loss: 0.9126 - val_acc: 0.8010\n",
            "Epoch 16/20\n",
            "7982/7982 [==============================] - 1s 78us/step - loss: 0.4657 - acc: 0.8901 - val_loss: 0.9160 - val_acc: 0.8040\n",
            "Epoch 17/20\n",
            "7982/7982 [==============================] - 1s 78us/step - loss: 0.4392 - acc: 0.8958 - val_loss: 0.9170 - val_acc: 0.7960\n",
            "Epoch 18/20\n",
            "7982/7982 [==============================] - 1s 77us/step - loss: 0.4110 - acc: 0.9020 - val_loss: 0.9211 - val_acc: 0.8050\n",
            "Epoch 19/20\n",
            "7982/7982 [==============================] - 1s 77us/step - loss: 0.3936 - acc: 0.9060 - val_loss: 0.9380 - val_acc: 0.7970\n",
            "Epoch 20/20\n",
            "7982/7982 [==============================] - 1s 77us/step - loss: 0.3662 - acc: 0.9128 - val_loss: 0.9757 - val_acc: 0.7830\n"
          ],
          "name": "stdout"
        }
      ]
    },
    {
      "cell_type": "code",
      "metadata": {
        "id": "4NzRgYOaq5Nr",
        "colab_type": "code",
        "outputId": "b2af8411-a07a-4957-9a85-6acd02c6a766",
        "colab": {
          "base_uri": "https://localhost:8080/",
          "height": 376
        }
      },
      "source": [
        "# Plotting the training and validation loss\n",
        "import matplotlib.pyplot as plt\n",
        "loss = history.history['loss']\n",
        "val_loss = history.history['val_loss']\n",
        "epochs = range(1, len(loss) + 1)\n",
        "plt.plot(epochs, loss, 'bo', label='Training loss')\n",
        "plt.plot(epochs, val_loss, 'b', label='Validation loss')\n",
        "plt.title('Training and validation loss')\n",
        "plt.xlabel('Epochs')\n",
        "plt.ylabel('Loss')\n",
        "plt.legend()\n",
        "plt.show()"
      ],
      "execution_count": 0,
      "outputs": [
        {
          "output_type": "display_data",
          "data": {
            "image/png": "[encoded data removed]",
            "text/plain": [
              "<matplotlib.figure.Figure at 0x7fdf85d10908>"
            ]
          },
          "metadata": {
            "tags": []
          }
        }
      ]
    },
    {
      "cell_type": "code",
      "metadata": {
        "id": "NpaOiPvVv2MH",
        "colab_type": "code",
        "outputId": "5f92edb5-9891-41da-a333-9426e0ac02a3",
        "colab": {
          "base_uri": "https://localhost:8080/",
          "height": 376
        }
      },
      "source": [
        "# Plotting the training and validation accuracy\n",
        "plt.clf()\n",
        "acc = history.history['acc']\n",
        "val_acc = history.history['val_acc']\n",
        "plt.plot(epochs, acc, 'bo', label='Training acc')\n",
        "plt.plot(epochs, val_acc, 'b', label='Validation acc')\n",
        "plt.title('Training and validation accuracy')\n",
        "plt.xlabel('Epochs')\n",
        "plt.ylabel('Loss')\n",
        "plt.legend()\n",
        "plt.show()"
      ],
      "execution_count": 0,
      "outputs": [
        {
          "output_type": "display_data",
          "data": {
            "image/png": "[encoded data removed]",
            "text/plain": [
              "<matplotlib.figure.Figure at 0x7fdf85d10860>"
            ]
          },
          "metadata": {
            "tags": []
          }
        }
      ]
    },
    {
      "cell_type": "code",
      "metadata": {
        "id": "62a6aaECv2PJ",
        "colab_type": "code",
        "outputId": "61749cdd-d403-4b25-c419-f1db19d9320d",
        "colab": {
          "base_uri": "https://localhost:8080/",
          "height": 353
        }
      },
      "source": [
        "# Retraining our Model\n",
        "model = models.Sequential()\n",
        "model.add(layers.Dense(64, activation='relu', input_shape=(10000,)))\n",
        "model.add(layers.Dense(64, activation='relu'))\n",
        "model.add(layers.Dense(46, activation='softmax'))\n",
        "model.compile(optimizer='rmsprop',\n",
        "loss='categorical_crossentropy',\n",
        "metrics=['accuracy'])\n",
        "model.fit(partial_x_train,\n",
        "partial_y_train,\n",
        "epochs=9,\n",
        "batch_size=512,\n",
        "validation_data=(x_val, y_val))\n",
        "results = model.evaluate(x_test, one_hot_test_labels)"
      ],
      "execution_count": 0,
      "outputs": [
        {
          "output_type": "stream",
          "text": [
            "Train on 7982 samples, validate on 1000 samples\n",
            "Epoch 1/9\n",
            "7982/7982 [==============================] - 1s 98us/step - loss: 2.6550 - acc: 0.4966 - val_loss: 1.8184 - val_acc: 0.6120\n",
            "Epoch 2/9\n",
            "7982/7982 [==============================] - 1s 75us/step - loss: 1.5919 - acc: 0.6626 - val_loss: 1.4304 - val_acc: 0.6740\n",
            "Epoch 3/9\n",
            "7982/7982 [==============================] - 1s 73us/step - loss: 1.3025 - acc: 0.7125 - val_loss: 1.2648 - val_acc: 0.7170\n",
            "Epoch 4/9\n",
            "7982/7982 [==============================] - 1s 79us/step - loss: 1.1484 - acc: 0.7449 - val_loss: 1.1820 - val_acc: 0.7250\n",
            "Epoch 5/9\n",
            "7982/7982 [==============================] - 1s 77us/step - loss: 1.0341 - acc: 0.7714 - val_loss: 1.1039 - val_acc: 0.7510\n",
            "Epoch 6/9\n",
            "7982/7982 [==============================] - 1s 78us/step - loss: 0.9456 - acc: 0.7903 - val_loss: 1.0370 - val_acc: 0.7740\n",
            "Epoch 7/9\n",
            "7982/7982 [==============================] - 1s 78us/step - loss: 0.8619 - acc: 0.8053 - val_loss: 1.0157 - val_acc: 0.7850\n",
            "Epoch 8/9\n",
            "7982/7982 [==============================] - 1s 77us/step - loss: 0.7950 - acc: 0.8163 - val_loss: 0.9724 - val_acc: 0.7820\n",
            "Epoch 9/9\n",
            "7982/7982 [==============================] - 1s 77us/step - loss: 0.7287 - acc: 0.8294 - val_loss: 0.9574 - val_acc: 0.7870\n",
            "2246/2246 [==============================] - 0s 103us/step\n"
          ],
          "name": "stdout"
        }
      ]
    },
    {
      "cell_type": "code",
      "metadata": {
        "id": "HlCA-fmIv2RU",
        "colab_type": "code",
        "outputId": "7a91911c-3cef-4aea-a919-379f76820710",
        "colab": {
          "base_uri": "https://localhost:8080/",
          "height": 34
        }
      },
      "source": [
        "results"
      ],
      "execution_count": 0,
      "outputs": [
        {
          "output_type": "execute_result",
          "data": {
            "text/plain": [
              "[1.0210256544692327, 0.7600178094390027]"
            ]
          },
          "metadata": {
            "tags": []
          },
          "execution_count": 30
        }
      ]
    },
    {
      "cell_type": "code",
      "metadata": {
        "id": "5UBaLhP9v2Tc",
        "colab_type": "code",
        "colab": {}
      },
      "source": [
        "# Making Predictions\n",
        "predictions = model.predict(x_test)"
      ],
      "execution_count": 0,
      "outputs": []
    },
    {
      "cell_type": "code",
      "metadata": {
        "id": "HSfBNOrZv2V_",
        "colab_type": "code",
        "outputId": "d9f68d84-e28d-44e6-db61-dc2662a8251d",
        "colab": {
          "base_uri": "https://localhost:8080/",
          "height": 34
        }
      },
      "source": [
        "predictions.shape\n"
      ],
      "execution_count": 0,
      "outputs": [
        {
          "output_type": "execute_result",
          "data": {
            "text/plain": [
              "(2246, 46)"
            ]
          },
          "metadata": {
            "tags": []
          },
          "execution_count": 36
        }
      ]
    }
  ]
}