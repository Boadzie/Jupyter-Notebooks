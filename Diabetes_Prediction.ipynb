{
  "nbformat": 4,
  "nbformat_minor": 0,
  "metadata": {
    "colab": {
      "name": "Diabetes Prediction.ipynb",
      "provenance": [],
      "collapsed_sections": [],
      "include_colab_link": true
    },
    "kernelspec": {
      "name": "python3",
      "display_name": "Python 3"
    },
    "accelerator": "TPU"
  },
  "cells": [
    {
      "cell_type": "markdown",
      "metadata": {
        "id": "view-in-github",
        "colab_type": "text"
      },
      "source": [
        "<a href=\"https://colab.research.google.com/github/Boadzie/Jupyter-Notebooks/blob/master/Diabetes_Prediction.ipynb\" target=\"_parent\"><img src=\"https://colab.research.google.com/assets/colab-badge.svg\" alt=\"Open In Colab\"/></a>"
      ]
    },
    {
      "cell_type": "markdown",
      "metadata": {
        "id": "g5jbNo57-INQ",
        "colab_type": "text"
      },
      "source": [
        "# Diabetes Prediction\n",
        "\n",
        "### Business Objective \n",
        "\n",
        "**The business objective is to predict the likelihood of a person being diagnosed with diabetes based on several diagnostic measurements of that person.**\n",
        "\n",
        "### Columns\n",
        "\n",
        "- Pregnancies\n",
        "- Glucose\n",
        "- BloodPressure\n",
        "- SkinThickness\n",
        "- Insulin\n",
        "- BMI\n",
        "- DiabetesPedigreeFunction\n",
        "- Age\n",
        "- Outcome"
      ]
    },
    {
      "cell_type": "code",
      "metadata": {
        "id": "mGmPS1FD96Rk",
        "colab_type": "code",
        "colab": {}
      },
      "source": [
        ""
      ],
      "execution_count": 0,
      "outputs": []
    },
    {
      "cell_type": "markdown",
      "metadata": {
        "id": "FykN1Hol-23Y",
        "colab_type": "text"
      },
      "source": [
        "## Loading the Data"
      ]
    },
    {
      "cell_type": "code",
      "metadata": {
        "id": "57Pu9hRk-HrT",
        "colab_type": "code",
        "colab": {}
      },
      "source": [
        "# importing the libraries\n",
        "import numpy as np\n",
        "import pandas as pd\n",
        "import seaborn as sns"
      ],
      "execution_count": 0,
      "outputs": []
    },
    {
      "cell_type": "code",
      "metadata": {
        "id": "-xucGQrd-Htv",
        "colab_type": "code",
        "colab": {}
      },
      "source": [
        "data = pd.read_csv(\"diabetes.csv\") # loading the data"
      ],
      "execution_count": 0,
      "outputs": []
    },
    {
      "cell_type": "code",
      "metadata": {
        "id": "xTK3QmhW-HwY",
        "colab_type": "code",
        "outputId": "e8a18a28-115d-4896-f784-5fa651c21799",
        "colab": {
          "base_uri": "https://localhost:8080/",
          "height": 34
        }
      },
      "source": [
        "data.shape"
      ],
      "execution_count": 0,
      "outputs": [
        {
          "output_type": "execute_result",
          "data": {
            "text/plain": [
              "(768, 9)"
            ]
          },
          "metadata": {
            "tags": []
          },
          "execution_count": 34
        }
      ]
    },
    {
      "cell_type": "code",
      "metadata": {
        "id": "r5JDVL9r-H4D",
        "colab_type": "code",
        "outputId": "2272233b-d57b-4b3e-efe1-418a522eb18e",
        "colab": {
          "base_uri": "https://localhost:8080/",
          "height": 260
        }
      },
      "source": [
        "data.info() # looking at the attributes"
      ],
      "execution_count": 0,
      "outputs": [
        {
          "output_type": "stream",
          "text": [
            "<class 'pandas.core.frame.DataFrame'>\n",
            "RangeIndex: 768 entries, 0 to 767\n",
            "Data columns (total 9 columns):\n",
            "Pregnancies                 768 non-null int64\n",
            "Glucose                     768 non-null int64\n",
            "BloodPressure               768 non-null int64\n",
            "SkinThickness               768 non-null int64\n",
            "Insulin                     768 non-null int64\n",
            "BMI                         768 non-null float64\n",
            "DiabetesPedigreeFunction    768 non-null float64\n",
            "Age                         768 non-null int64\n",
            "Outcome                     768 non-null int64\n",
            "dtypes: float64(2), int64(7)\n",
            "memory usage: 54.1 KB\n"
          ],
          "name": "stdout"
        }
      ]
    },
    {
      "cell_type": "code",
      "metadata": {
        "id": "2cm3Yo4gAAjr",
        "colab_type": "code",
        "outputId": "4a942dbb-f0e4-4a59-e2e4-66c6b1bd9705",
        "colab": {
          "base_uri": "https://localhost:8080/",
          "height": 34
        }
      },
      "source": [
        "data.isnull().values.any() # checking for NaN values"
      ],
      "execution_count": 0,
      "outputs": [
        {
          "output_type": "execute_result",
          "data": {
            "text/plain": [
              "False"
            ]
          },
          "metadata": {
            "tags": []
          },
          "execution_count": 36
        }
      ]
    },
    {
      "cell_type": "code",
      "metadata": {
        "id": "70y3B0GzACCv",
        "colab_type": "code",
        "outputId": "494433df-127c-45ad-e9bc-0d552f7df5b4",
        "colab": {
          "base_uri": "https://localhost:8080/",
          "height": 191
        }
      },
      "source": [
        "data.eq(0).sum() # checking for zeros"
      ],
      "execution_count": 0,
      "outputs": [
        {
          "output_type": "execute_result",
          "data": {
            "text/plain": [
              "Pregnancies                 111\n",
              "Glucose                       5\n",
              "BloodPressure                35\n",
              "SkinThickness               227\n",
              "Insulin                     374\n",
              "BMI                          11\n",
              "DiabetesPedigreeFunction      0\n",
              "Age                           0\n",
              "Outcome                     500\n",
              "dtype: int64"
            ]
          },
          "metadata": {
            "tags": []
          },
          "execution_count": 37
        }
      ]
    },
    {
      "cell_type": "code",
      "metadata": {
        "id": "Moya3nZXACFT",
        "colab_type": "code",
        "colab": {}
      },
      "source": [
        "data[['Glucose', 'BloodPressure', 'SkinThickness', 'Insulin', 'BMI', 'DiabetesPedigreeFunction', 'Age']] \\\n",
        "= data[['Glucose', 'BloodPressure', 'SkinThickness', 'Insulin', 'BMI', 'DiabetesPedigreeFunction', 'Age']].replace(0, np.NaN)"
      ],
      "execution_count": 0,
      "outputs": []
    },
    {
      "cell_type": "code",
      "metadata": {
        "id": "DD2pKh5SACIU",
        "colab_type": "code",
        "colab": {}
      },
      "source": [
        "data.fillna(data.mean(), inplace=True)"
      ],
      "execution_count": 0,
      "outputs": []
    },
    {
      "cell_type": "code",
      "metadata": {
        "id": "5nzDpJK3AAmp",
        "colab_type": "code",
        "outputId": "bd2286f3-f243-42a4-a8c6-e9f7c69a985f",
        "colab": {
          "base_uri": "https://localhost:8080/",
          "height": 191
        }
      },
      "source": [
        "data.eq(0).sum() # checking for zeros"
      ],
      "execution_count": 0,
      "outputs": [
        {
          "output_type": "execute_result",
          "data": {
            "text/plain": [
              "Pregnancies                 111\n",
              "Glucose                       0\n",
              "BloodPressure                 0\n",
              "SkinThickness                 0\n",
              "Insulin                       0\n",
              "BMI                           0\n",
              "DiabetesPedigreeFunction      0\n",
              "Age                           0\n",
              "Outcome                     500\n",
              "dtype: int64"
            ]
          },
          "metadata": {
            "tags": []
          },
          "execution_count": 41
        }
      ]
    },
    {
      "cell_type": "markdown",
      "metadata": {
        "id": "mJBYFpIdHVY2",
        "colab_type": "text"
      },
      "source": [
        "## Finding the Correlation between the Features"
      ]
    },
    {
      "cell_type": "code",
      "metadata": {
        "id": "TaWkjtJaAAhB",
        "colab_type": "code",
        "outputId": "c2b18c78-6a87-4ca0-c27e-377c7658c1a8",
        "colab": {
          "base_uri": "https://localhost:8080/",
          "height": 225
        }
      },
      "source": [
        "corr = data.corr()\n",
        "print(corr)"
      ],
      "execution_count": 0,
      "outputs": [
        {
          "output_type": "stream",
          "text": [
            "                          Pregnancies   Glucose  ...       Age   Outcome\n",
            "Pregnancies                  1.000000  0.127911  ...  0.544341  0.221898\n",
            "Glucose                      0.127911  1.000000  ...  0.266534  0.492928\n",
            "BloodPressure                0.208522  0.218367  ...  0.324595  0.166074\n",
            "SkinThickness                0.082989  0.192991  ...  0.127872  0.215299\n",
            "Insulin                      0.056027  0.420157  ...  0.136734  0.214411\n",
            "BMI                          0.021565  0.230941  ...  0.025519  0.311924\n",
            "DiabetesPedigreeFunction    -0.033523  0.137060  ...  0.033561  0.173844\n",
            "Age                          0.544341  0.266534  ...  1.000000  0.238356\n",
            "Outcome                      0.221898  0.492928  ...  0.238356  1.000000\n",
            "\n",
            "[9 rows x 9 columns]\n"
          ],
          "name": "stdout"
        }
      ]
    },
    {
      "cell_type": "markdown",
      "metadata": {
        "id": "G4wjf_jvHjlC",
        "colab_type": "text"
      },
      "source": [
        "## Ploting the Correlation"
      ]
    },
    {
      "cell_type": "code",
      "metadata": {
        "id": "kTuxtcgsFhxG",
        "colab_type": "code",
        "outputId": "bac27c80-ea8a-4fe9-dd21-c59c229affd3",
        "colab": {
          "base_uri": "https://localhost:8080/",
          "height": 734
        }
      },
      "source": [
        "# Visualizing the correlation\n",
        "fig, ax = plt.subplots(figsize=(10, 10))\n",
        "sns.heatmap(corr, annot=True)"
      ],
      "execution_count": 0,
      "outputs": [
        {
          "output_type": "execute_result",
          "data": {
            "text/plain": [
              "<matplotlib.axes._subplots.AxesSubplot at 0x7f2dc28cc518>"
            ]
          },
          "metadata": {
            "tags": []
          },
          "execution_count": 54
        },
        {
          "output_type": "display_data",
          "data": {
            "image/png": "[encoded data removed]",
            "text/plain": [
              "<Figure size 720x720 with 2 Axes>"
            ]
          },
          "metadata": {
            "tags": []
          }
        }
      ]
    },
    {
      "cell_type": "code",
      "metadata": {
        "id": "NjSiF6iBJqTC",
        "colab_type": "code",
        "outputId": "bdc61d83-cc92-4b51-c740-4231ee10a979",
        "colab": {
          "base_uri": "https://localhost:8080/",
          "height": 52
        }
      },
      "source": [
        "# Print out the 4 largest correlated Features\n",
        "print(data.corr().nlargest(4, 'Outcome').index)\n",
        "\n",
        "\n",
        "#---print the top 4 correlation values---\n",
        "print(data.corr().nlargest(4, 'Outcome').values[:,8])"
      ],
      "execution_count": 0,
      "outputs": [
        {
          "output_type": "stream",
          "text": [
            "Index(['Outcome', 'Glucose', 'BMI', 'Age'], dtype='object')\n",
            "[1.         0.49292767 0.31192439 0.23835598]\n"
          ],
          "name": "stdout"
        }
      ]
    },
    {
      "cell_type": "markdown",
      "metadata": {
        "id": "bD_QBx66L7h7",
        "colab_type": "text"
      },
      "source": [
        "## Evaluating the Algorithms\n",
        "\n",
        "- Logistic Regression\n",
        "- K-Nearest Neighbors (KNN)\n",
        "- Support Vector Machines (SVM)—Linear and RBF Kernels"
      ]
    },
    {
      "cell_type": "code",
      "metadata": {
        "id": "4VS81TNtFh1r",
        "colab_type": "code",
        "outputId": "5c61df04-dc5a-41db-f8ff-e1910124dab2",
        "colab": {
          "base_uri": "https://localhost:8080/",
          "height": 384
        }
      },
      "source": [
        "# Logistic Regression\n",
        "from sklearn import linear_model\n",
        "from sklearn.model_selection import cross_val_score\n",
        "\n",
        "\n",
        "#---features---\n",
        "X = data[['Glucose','BMI','Age']]\n",
        "\n",
        "\n",
        "#---label---\n",
        "y = data.iloc[:,8]\n",
        "\n",
        "log_regress = linear_model.LogisticRegression()\n",
        "\n",
        "# evaluating the model\n",
        "log_regress_score = cross_val_score(log_regress, X, y, cv=10, scoring='accuracy').mean()\n"
      ],
      "execution_count": 0,
      "outputs": [
        {
          "output_type": "stream",
          "text": [
            "/usr/local/lib/python3.6/dist-packages/sklearn/linear_model/logistic.py:433: FutureWarning: Default solver will be changed to 'lbfgs' in 0.22. Specify a solver to silence this warning.\n",
            "  FutureWarning)\n",
            "/usr/local/lib/python3.6/dist-packages/sklearn/linear_model/logistic.py:433: FutureWarning: Default solver will be changed to 'lbfgs' in 0.22. Specify a solver to silence this warning.\n",
            "  FutureWarning)\n",
            "/usr/local/lib/python3.6/dist-packages/sklearn/linear_model/logistic.py:433: FutureWarning: Default solver will be changed to 'lbfgs' in 0.22. Specify a solver to silence this warning.\n",
            "  FutureWarning)\n",
            "/usr/local/lib/python3.6/dist-packages/sklearn/linear_model/logistic.py:433: FutureWarning: Default solver will be changed to 'lbfgs' in 0.22. Specify a solver to silence this warning.\n",
            "  FutureWarning)\n",
            "/usr/local/lib/python3.6/dist-packages/sklearn/linear_model/logistic.py:433: FutureWarning: Default solver will be changed to 'lbfgs' in 0.22. Specify a solver to silence this warning.\n",
            "  FutureWarning)\n",
            "/usr/local/lib/python3.6/dist-packages/sklearn/linear_model/logistic.py:433: FutureWarning: Default solver will be changed to 'lbfgs' in 0.22. Specify a solver to silence this warning.\n",
            "  FutureWarning)\n",
            "/usr/local/lib/python3.6/dist-packages/sklearn/linear_model/logistic.py:433: FutureWarning: Default solver will be changed to 'lbfgs' in 0.22. Specify a solver to silence this warning.\n",
            "  FutureWarning)\n",
            "/usr/local/lib/python3.6/dist-packages/sklearn/linear_model/logistic.py:433: FutureWarning: Default solver will be changed to 'lbfgs' in 0.22. Specify a solver to silence this warning.\n",
            "  FutureWarning)\n",
            "/usr/local/lib/python3.6/dist-packages/sklearn/linear_model/logistic.py:433: FutureWarning: Default solver will be changed to 'lbfgs' in 0.22. Specify a solver to silence this warning.\n",
            "  FutureWarning)\n",
            "/usr/local/lib/python3.6/dist-packages/sklearn/linear_model/logistic.py:433: FutureWarning: Default solver will be changed to 'lbfgs' in 0.22. Specify a solver to silence this warning.\n",
            "  FutureWarning)\n"
          ],
          "name": "stderr"
        }
      ]
    },
    {
      "cell_type": "code",
      "metadata": {
        "id": "9ycAumAXOXBy",
        "colab_type": "code",
        "outputId": "8cebbeda-fac7-4337-8226-1db895eb0fe2",
        "colab": {
          "base_uri": "https://localhost:8080/",
          "height": 34
        }
      },
      "source": [
        "print(log_regress_score)"
      ],
      "execution_count": 0,
      "outputs": [
        {
          "output_type": "stream",
          "text": [
            "0.7617737525632263\n"
          ],
          "name": "stdout"
        }
      ]
    },
    {
      "cell_type": "code",
      "metadata": {
        "id": "z8UC-0lHFh4m",
        "colab_type": "code",
        "colab": {}
      },
      "source": [
        "# saving the result\n",
        "result = []\n",
        "result.append(log_regress_score)"
      ],
      "execution_count": 0,
      "outputs": []
    },
    {
      "cell_type": "code",
      "metadata": {
        "id": "6ofancJNFh7X",
        "colab_type": "code",
        "colab": {}
      },
      "source": [
        ""
      ],
      "execution_count": 0,
      "outputs": []
    },
    {
      "cell_type": "code",
      "metadata": {
        "id": "rDQa19jHFhzp",
        "colab_type": "code",
        "outputId": "d709a0ea-67da-47a2-9bf0-b12bd84530c0",
        "colab": {
          "base_uri": "https://localhost:8080/",
          "height": 52
        }
      },
      "source": [
        "# K-Nearest Neighbors\n",
        "from sklearn.neighbors import KNeighborsClassifier\n",
        "\n",
        "# empty list that will hold cv (cross-validates) scores\n",
        "cv_scores = []\n",
        "\n",
        "# number of folds\n",
        "\n",
        "folds = 10\n",
        "# creating odd list of K for KNN---\n",
        "ks = list(range(1,int(len(X) * ((folds - 1)/folds)), 2))\n",
        "\n",
        "# perform k-fold cross validation---\n",
        "for k in ks:\n",
        "  knn = KNeighborsClassifier(n_neighbors=k)\n",
        "  score = cross_val_score(knn, X, y, cv=folds, scoring='accuracy').mean()\n",
        "  cv_scores.append(score)\n",
        "\n",
        "\n",
        "# get the maximum score\n",
        "knn_score = max(cv_scores)\n",
        "\n",
        "# find the optimal k that gives the highest score\n",
        "optimal_k = ks[cv_scores.index(knn_score)]\n",
        "print(f\"The optimal number of neighbors is {optimal_k}\")\n",
        "print(knn_score)\n",
        "result.append(knn_score)"
      ],
      "execution_count": 0,
      "outputs": [
        {
          "output_type": "stream",
          "text": [
            "The optimal number of neighbors is 19\n",
            "0.7721462747778537\n"
          ],
          "name": "stdout"
        }
      ]
    },
    {
      "cell_type": "code",
      "metadata": {
        "id": "MJ5s3wXoNg9g",
        "colab_type": "code",
        "colab": {}
      },
      "source": [
        ""
      ],
      "execution_count": 0,
      "outputs": []
    },
    {
      "cell_type": "code",
      "metadata": {
        "id": "xwcf_72eNhCv",
        "colab_type": "code",
        "outputId": "4836196d-4bac-409a-96f1-458c6f5934a9",
        "colab": {
          "base_uri": "https://localhost:8080/",
          "height": 34
        }
      },
      "source": [
        "# Support Vector Machines\n",
        "from sklearn import svm\n",
        "\n",
        "linear_svm = svm.SVC(kernel='linear')\n",
        "\n",
        "linear_svm_score = cross_val_score(linear_svm, X, y, cv=10, scoring='accuracy').mean()\n",
        "\n",
        "print(linear_svm_score)\n",
        "result.append(linear_svm_score)"
      ],
      "execution_count": 0,
      "outputs": [
        {
          "output_type": "stream",
          "text": [
            "0.7656527682843473\n"
          ],
          "name": "stdout"
        }
      ]
    },
    {
      "cell_type": "code",
      "metadata": {
        "id": "fZBufNa7NhH6",
        "colab_type": "code",
        "colab": {}
      },
      "source": [
        ""
      ],
      "execution_count": 0,
      "outputs": []
    },
    {
      "cell_type": "code",
      "metadata": {
        "id": "WbvIL_RtNhFn",
        "colab_type": "code",
        "outputId": "99e568b4-339b-4b1d-b29c-311882502dd9",
        "colab": {
          "base_uri": "https://localhost:8080/",
          "height": 384
        }
      },
      "source": [
        "# Uisng the RBF Kernel\n",
        "rbf = svm.SVC(kernel='rbf')\n",
        "\n",
        "rbf_score = cross_val_score(rbf, X, y, cv=10, scoring='accuracy').mean()\n"
      ],
      "execution_count": 0,
      "outputs": [
        {
          "output_type": "stream",
          "text": [
            "/usr/local/lib/python3.6/dist-packages/sklearn/svm/base.py:196: FutureWarning: The default value of gamma will change from 'auto' to 'scale' in version 0.22 to account better for unscaled features. Set gamma explicitly to 'auto' or 'scale' to avoid this warning.\n",
            "  \"avoid this warning.\", FutureWarning)\n",
            "/usr/local/lib/python3.6/dist-packages/sklearn/svm/base.py:196: FutureWarning: The default value of gamma will change from 'auto' to 'scale' in version 0.22 to account better for unscaled features. Set gamma explicitly to 'auto' or 'scale' to avoid this warning.\n",
            "  \"avoid this warning.\", FutureWarning)\n",
            "/usr/local/lib/python3.6/dist-packages/sklearn/svm/base.py:196: FutureWarning: The default value of gamma will change from 'auto' to 'scale' in version 0.22 to account better for unscaled features. Set gamma explicitly to 'auto' or 'scale' to avoid this warning.\n",
            "  \"avoid this warning.\", FutureWarning)\n",
            "/usr/local/lib/python3.6/dist-packages/sklearn/svm/base.py:196: FutureWarning: The default value of gamma will change from 'auto' to 'scale' in version 0.22 to account better for unscaled features. Set gamma explicitly to 'auto' or 'scale' to avoid this warning.\n",
            "  \"avoid this warning.\", FutureWarning)\n",
            "/usr/local/lib/python3.6/dist-packages/sklearn/svm/base.py:196: FutureWarning: The default value of gamma will change from 'auto' to 'scale' in version 0.22 to account better for unscaled features. Set gamma explicitly to 'auto' or 'scale' to avoid this warning.\n",
            "  \"avoid this warning.\", FutureWarning)\n",
            "/usr/local/lib/python3.6/dist-packages/sklearn/svm/base.py:196: FutureWarning: The default value of gamma will change from 'auto' to 'scale' in version 0.22 to account better for unscaled features. Set gamma explicitly to 'auto' or 'scale' to avoid this warning.\n",
            "  \"avoid this warning.\", FutureWarning)\n",
            "/usr/local/lib/python3.6/dist-packages/sklearn/svm/base.py:196: FutureWarning: The default value of gamma will change from 'auto' to 'scale' in version 0.22 to account better for unscaled features. Set gamma explicitly to 'auto' or 'scale' to avoid this warning.\n",
            "  \"avoid this warning.\", FutureWarning)\n",
            "/usr/local/lib/python3.6/dist-packages/sklearn/svm/base.py:196: FutureWarning: The default value of gamma will change from 'auto' to 'scale' in version 0.22 to account better for unscaled features. Set gamma explicitly to 'auto' or 'scale' to avoid this warning.\n",
            "  \"avoid this warning.\", FutureWarning)\n",
            "/usr/local/lib/python3.6/dist-packages/sklearn/svm/base.py:196: FutureWarning: The default value of gamma will change from 'auto' to 'scale' in version 0.22 to account better for unscaled features. Set gamma explicitly to 'auto' or 'scale' to avoid this warning.\n",
            "  \"avoid this warning.\", FutureWarning)\n",
            "/usr/local/lib/python3.6/dist-packages/sklearn/svm/base.py:196: FutureWarning: The default value of gamma will change from 'auto' to 'scale' in version 0.22 to account better for unscaled features. Set gamma explicitly to 'auto' or 'scale' to avoid this warning.\n",
            "  \"avoid this warning.\", FutureWarning)\n"
          ],
          "name": "stderr"
        }
      ]
    },
    {
      "cell_type": "code",
      "metadata": {
        "id": "TEmD1dMiOH6K",
        "colab_type": "code",
        "outputId": "ec2807ea-6ea0-4dcb-a5ab-a7886815d0fe",
        "colab": {
          "base_uri": "https://localhost:8080/",
          "height": 34
        }
      },
      "source": [
        "print(rbf_score)\n",
        "result.append(rbf_score)"
      ],
      "execution_count": 0,
      "outputs": [
        {
          "output_type": "stream",
          "text": [
            "0.6353725222146275\n"
          ],
          "name": "stdout"
        }
      ]
    },
    {
      "cell_type": "code",
      "metadata": {
        "id": "L1cddMJJOH-C",
        "colab_type": "code",
        "colab": {}
      },
      "source": [
        "# Selecting the Best Performing Algorithm\n",
        "\n",
        "# algorithms = [\"Logistic Regression\", \"K Nearest Neighbors\", \"SVM Linear Kernel\", \"SVM RBF Kernel\"]\n",
        "# cv_mean = pd.DataFrame(result,index = algorithms)\n",
        "# cv_mean.columns=[\"Accuracy\"]\n",
        "# cv_mean.sort_values(by=\"Accuracy\", ascending=False)"
      ],
      "execution_count": 0,
      "outputs": []
    },
    {
      "cell_type": "code",
      "metadata": {
        "id": "CjM_5YZ9OOiX",
        "colab_type": "code",
        "colab": {}
      },
      "source": [
        ""
      ],
      "execution_count": 0,
      "outputs": []
    },
    {
      "cell_type": "markdown",
      "metadata": {
        "id": "6FOJfJgMPfsU",
        "colab_type": "text"
      },
      "source": [
        "## Training and Saving the Model"
      ]
    },
    {
      "cell_type": "code",
      "metadata": {
        "id": "RSfViqGiOH3N",
        "colab_type": "code",
        "outputId": "e01e0298-489d-4b5e-c779-14222c93a416",
        "colab": {
          "base_uri": "https://localhost:8080/",
          "height": 69
        }
      },
      "source": [
        "knn = KNeighborsClassifier(n_neighbors=19)\n",
        "knn.fit(X, y)"
      ],
      "execution_count": 0,
      "outputs": [
        {
          "output_type": "execute_result",
          "data": {
            "text/plain": [
              "KNeighborsClassifier(algorithm='auto', leaf_size=30, metric='minkowski',\n",
              "           metric_params=None, n_jobs=None, n_neighbors=19, p=2,\n",
              "           weights='uniform')"
            ]
          },
          "metadata": {
            "tags": []
          },
          "execution_count": 82
        }
      ]
    },
    {
      "cell_type": "code",
      "metadata": {
        "id": "Fz8QkUm7PoLE",
        "colab_type": "code",
        "colab": {}
      },
      "source": [
        "import pickle\n",
        "\n",
        "#save the model to disk\n",
        "filename = 'diabetes.sav'\n",
        "\n",
        "# write to the file using write and binary mode\n",
        "pickle.dump(knn, open(filename, 'wb'))"
      ],
      "execution_count": 0,
      "outputs": []
    },
    {
      "cell_type": "code",
      "metadata": {
        "id": "I7lDBq56P4oP",
        "colab_type": "code",
        "colab": {}
      },
      "source": [
        "# load the model from disk\n",
        "loaded_model = pickle.load(open(filename, 'rb'))"
      ],
      "execution_count": 0,
      "outputs": []
    },
    {
      "cell_type": "code",
      "metadata": {
        "id": "dZXAGDkGP4r8",
        "colab_type": "code",
        "outputId": "9661ab4b-bb51-4d69-9cee-9134d54a5214",
        "colab": {
          "base_uri": "https://localhost:8080/",
          "height": 52
        }
      },
      "source": [
        "# Making a prediction\n",
        "Glucose = 65\n",
        "BMI = 70\n",
        "Age = 50\n",
        "\n",
        "\n",
        "prediction = loaded_model.predict([[Glucose, BMI, Age]])\n",
        "\n",
        "print(prediction)\n",
        "\n",
        "if (prediction[0]==0):\n",
        "  print(\"Non-diabetic\")\n",
        "else:\n",
        "  print(\"Diabetic\")"
      ],
      "execution_count": 0,
      "outputs": [
        {
          "output_type": "stream",
          "text": [
            "[0]\n",
            "Non-diabetic\n"
          ],
          "name": "stdout"
        }
      ]
    },
    {
      "cell_type": "code",
      "metadata": {
        "id": "aVEXjztaQZdg",
        "colab_type": "code",
        "outputId": "140892f1-4298-4bc1-95f9-402835c24ae3",
        "colab": {
          "base_uri": "https://localhost:8080/",
          "height": 52
        }
      },
      "source": [
        "# Getting the Probability of the Prediction\n",
        "\n",
        "proba = loaded_model.predict_proba([[Glucose, BMI, Age]])\n",
        "print(proba)\n",
        "print(\"Confidence: \" + str(round(np.amax(proba[0]) * 100 ,2)) + \"%\")"
      ],
      "execution_count": 0,
      "outputs": [
        {
          "output_type": "stream",
          "text": [
            "[[0.94736842 0.05263158]]\n",
            "Confidence: 94.74%\n"
          ],
          "name": "stdout"
        }
      ]
    },
    {
      "cell_type": "code",
      "metadata": {
        "id": "1YanPq4BQZZq",
        "colab_type": "code",
        "colab": {}
      },
      "source": [
        ""
      ],
      "execution_count": 0,
      "outputs": []
    }
  ]
}