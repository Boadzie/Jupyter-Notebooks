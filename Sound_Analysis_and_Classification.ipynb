{
  "nbformat": 4,
  "nbformat_minor": 0,
  "metadata": {
    "colab": {
      "name": "Sound_Analysis and Classification.ipynb",
      "provenance": [],
      "collapsed_sections": [],
      "machine_shape": "hm",
      "include_colab_link": true
    },
    "kernelspec": {
      "name": "python3",
      "display_name": "Python 3"
    },
    "accelerator": "GPU"
  },
  "cells": [
    {
      "cell_type": "markdown",
      "metadata": {
        "id": "view-in-github",
        "colab_type": "text"
      },
      "source": [
        "<a href=\"https://colab.research.google.com/github/Boadzie/Jupyter-Notebooks/blob/master/Sound_Analysis_and_Classification.ipynb\" target=\"_parent\"><img src=\"https://colab.research.google.com/assets/colab-badge.svg\" alt=\"Open In Colab\"/></a>"
      ]
    },
    {
      "cell_type": "markdown",
      "metadata": {
        "id": "y2H775XjOJqu",
        "colab_type": "text"
      },
      "source": [
        "# Sound_Analysis and Classification.ipynb"
      ]
    },
    {
      "cell_type": "markdown",
      "metadata": {
        "id": "n6nJm8wvZMkC",
        "colab_type": "text"
      },
      "source": [
        "### Classes of Sound include:\n",
        "\n",
        "1. Volcanic Eruption (1hour of mp3)\n",
        "2. Hurricane         (2hour 30min of mp3)"
      ]
    },
    {
      "cell_type": "code",
      "metadata": {
        "id": "wj1SZPepP1sa",
        "colab_type": "code",
        "outputId": "2096b607-be67-48e7-8438-27530216393e",
        "colab": {
          "base_uri": "https://localhost:8080/",
          "height": 193
        }
      },
      "source": [
        "# Installing dependencies\n",
        "!pip install pydub\n",
        "!pip install youtube_dl"
      ],
      "execution_count": 0,
      "outputs": [
        {
          "output_type": "stream",
          "text": [
            "Collecting pydub\n",
            "  Downloading https://files.pythonhosted.org/packages/79/db/eaf620b73a1eec3c8c6f8f5b0b236a50f9da88ad57802154b7ba7664d0b8/pydub-0.23.1-py2.py3-none-any.whl\n",
            "Installing collected packages: pydub\n",
            "Successfully installed pydub-0.23.1\n",
            "Collecting youtube_dl\n",
            "\u001b[?25l  Downloading https://files.pythonhosted.org/packages/ef/f8/3424069c6d1e285fda98a83c48470578d2df4047e6e77e1b16fc28cf95d3/youtube_dl-2020.1.15-py2.py3-none-any.whl (1.8MB)\n",
            "\u001b[K     |████████████████████████████████| 1.8MB 2.8MB/s \n",
            "\u001b[?25hInstalling collected packages: youtube-dl\n",
            "Successfully installed youtube-dl-2020.1.15\n"
          ],
          "name": "stdout"
        }
      ]
    },
    {
      "cell_type": "code",
      "metadata": {
        "id": "AmM2y0_nIgWO",
        "colab_type": "code",
        "outputId": "dad2b01e-2251-41a0-8e59-297cd0c999de",
        "colab": {
          "base_uri": "https://localhost:8080/",
          "height": 332
        }
      },
      "source": [
        "# Downloading the data from Youtube\n",
        "from __future__ import unicode_literals\n",
        "import youtube_dl\n",
        "\n",
        "\n",
        "ydl_opts = {\n",
        "    'format': 'bestaudio/best',\n",
        "    'postprocessors': [{\n",
        "        'key': 'FFmpegExtractAudio',\n",
        "        'preferredcodec': 'mp3',\n",
        "        'preferredquality': '192',\n",
        "    }],\n",
        "}\n",
        "\n",
        "with youtube_dl.YoutubeDL(ydl_opts) as ydl:\n",
        "    ydl.download(['https://www.youtube.com/watch?v=Sh09jaKZeWY&t=2077s','https://www.youtube.com/watch?v=HBjpO6zJ2y8'])"
      ],
      "execution_count": 0,
      "outputs": [
        {
          "output_type": "stream",
          "text": [
            "[youtube] Sh09jaKZeWY: Downloading webpage\n",
            "[youtube] Sh09jaKZeWY: Downloading video info webpage\n",
            "[youtube] Sh09jaKZeWY: Downloading js player vflFbRRRp\n",
            "[youtube] Sh09jaKZeWY: Downloading js player vflFbRRRp\n",
            "[youtube] Sh09jaKZeWY: Downloading MPD manifest\n",
            "[dashsegments] Total fragments: 722\n",
            "[download] Destination: Volcano Soundscape _ Fire, Magma, and Calamitous Seismic Sounds-Sh09jaKZeWY.m4a\n",
            "[download] 100% of 54.56MiB in 00:21\n",
            "[ffmpeg] Correcting container in \"Volcano Soundscape _ Fire, Magma, and Calamitous Seismic Sounds-Sh09jaKZeWY.m4a\"\n",
            "[ffmpeg] Destination: Volcano Soundscape _ Fire, Magma, and Calamitous Seismic Sounds-Sh09jaKZeWY.mp3\n",
            "Deleting original file Volcano Soundscape _ Fire, Magma, and Calamitous Seismic Sounds-Sh09jaKZeWY.m4a (pass -k to keep)\n",
            "[youtube] HBjpO6zJ2y8: Downloading webpage\n",
            "[youtube] HBjpO6zJ2y8: Downloading video info webpage\n",
            "[download] Destination: 💨 Hurricane Wind Storm Sounds For Sleeping, Relaxing ~ Heavy Blowing Gale Gust Leaves Ambience-HBjpO6zJ2y8.webm\n",
            "[download] 100% of 127.18MiB in 00:09\n",
            "[ffmpeg] Destination: 💨 Hurricane Wind Storm Sounds For Sleeping, Relaxing ~ Heavy Blowing Gale Gust Leaves Ambience-HBjpO6zJ2y8.mp3\n",
            "Deleting original file 💨 Hurricane Wind Storm Sounds For Sleeping, Relaxing ~ Heavy Blowing Gale Gust Leaves Ambience-HBjpO6zJ2y8.webm (pass -k to keep)\n"
          ],
          "name": "stdout"
        }
      ]
    },
    {
      "cell_type": "markdown",
      "metadata": {
        "id": "8buOxtSlRALj",
        "colab_type": "text"
      },
      "source": [
        "## Converting Audio Files from .mp3 to .wav"
      ]
    },
    {
      "cell_type": "code",
      "metadata": {
        "id": "H8twYUzbOJLm",
        "colab_type": "code",
        "outputId": "6da66df6-da1a-42b0-c62f-66d07521b763",
        "colab": {
          "base_uri": "https://localhost:8080/",
          "height": 34
        }
      },
      "source": [
        "#convert volcanic_eruption mp3 to .wav\n",
        "from pydub import AudioSegment\n",
        "\n",
        "sound = AudioSegment.from_mp3(\"volcanic_eruption.mp3\")\n",
        "sound.export(\"volcanic_eruption.wav\", format=\"wav\")"
      ],
      "execution_count": 0,
      "outputs": [
        {
          "output_type": "execute_result",
          "data": {
            "text/plain": [
              "<_io.BufferedRandom name='volcanic_eruption.wav'>"
            ]
          },
          "metadata": {
            "tags": []
          },
          "execution_count": 3
        }
      ]
    },
    {
      "cell_type": "code",
      "metadata": {
        "id": "iR_ZgXsOSEp6",
        "colab_type": "code",
        "outputId": "460dcaa4-cc1c-4bc4-f423-dc2a1759958c",
        "colab": {
          "base_uri": "https://localhost:8080/",
          "height": 34
        }
      },
      "source": [
        "#convert hurricane mp3 to .wav\n",
        "from pydub import AudioSegment\n",
        "\n",
        "sound = AudioSegment.from_mp3(\"hurricane.mp3\")\n",
        "sound.export(\"hurricane.wav\", format=\"wav\")"
      ],
      "execution_count": 0,
      "outputs": [
        {
          "output_type": "execute_result",
          "data": {
            "text/plain": [
              "<_io.BufferedRandom name='hurricane.wav'>"
            ]
          },
          "metadata": {
            "tags": []
          },
          "execution_count": 4
        }
      ]
    },
    {
      "cell_type": "markdown",
      "metadata": {
        "id": "EnqxSrwsRLQE",
        "colab_type": "text"
      },
      "source": [
        "## Extracting Chunks of Audios"
      ]
    },
    {
      "cell_type": "code",
      "metadata": {
        "id": "-tL-L-UKOJSF",
        "colab_type": "code",
        "colab": {}
      },
      "source": [
        "from pydub import AudioSegment\n",
        "import os\n",
        "if not os.path.exists(\"volcanic_eruption\"):\n",
        "    os.makedirs(\"volcanic_eruption\")\n",
        "\n",
        "count=1\n",
        "for i in range(1,1000,15):\n",
        "    t1 = i * 1000 #Works in milliseconds\n",
        "    t2 = (i+15) * 1000\n",
        "    newAudio = AudioSegment.from_wav(\"volcanic_eruption.wav\")\n",
        "    newAudio = newAudio[t1:t2]\n",
        "    newAudio.export('volcanic_eruption/'+str(count)+'.wav', format=\"wav\") #Exports to a wav file in the current path.\n",
        "    print(count)\n",
        "    count+=1"
      ],
      "execution_count": 0,
      "outputs": []
    },
    {
      "cell_type": "code",
      "metadata": {
        "id": "CfvXYQyJOJIY",
        "colab_type": "code",
        "colab": {}
      },
      "source": [
        "# do the same for the Hurricane.wav\n",
        "if not os.path.exists(\"hurricane\"):\n",
        "    os.makedirs(\"hurricane\")\n",
        "\n",
        "count=1\n",
        "for i in range(1,1000,15):\n",
        "    t1 = i * 1000 #Works in milliseconds\n",
        "    t2 = (i+15) * 1000\n",
        "    newAudio = AudioSegment.from_wav(\"hurricane.wav\")\n",
        "    newAudio = newAudio[t1:t2]\n",
        "    newAudio.export('hurricane/'+str(count)+'.wav', format=\"wav\") #Exports to a wav file in the current path.\n",
        "    print(count)\n",
        "    count+=1"
      ],
      "execution_count": 0,
      "outputs": []
    },
    {
      "cell_type": "markdown",
      "metadata": {
        "id": "WUpf3eXSSfdD",
        "colab_type": "text"
      },
      "source": [
        "## Plotting Amplitude Waveforms"
      ]
    },
    {
      "cell_type": "code",
      "metadata": {
        "id": "NiIkGJeVS4ET",
        "colab_type": "code",
        "colab": {}
      },
      "source": [
        "# Plots for volcanic_eruption\n",
        "from scipy.io.wavfile import read\n",
        "import matplotlib.pyplot as plt\n",
        "from os import walk\n",
        "import os\n",
        "if not os.path.exists(\"volcanic_eruptionPlots\"):\n",
        "    os.makedirs(\"volcanic_eruptionPlots\")\n",
        "volcanic_wavs = []\n",
        "for (_,_,filenames) in walk('volcanic_eruption'):\n",
        "    volcanic_wavs.extend(filenames)\n",
        "    break\n",
        "for volcanic_wav in volcanic_wavs:\n",
        "    # read audio samples\n",
        "    input_data = read(\"volcanic_eruption/\" + volcanic_wav)\n",
        "    audio = input_data[1]\n",
        "    # plot the first 1024 samples\n",
        "    plt.plot(audio)\n",
        "    # label the axes\n",
        "    plt.ylabel(\"Amplitude\")\n",
        "    plt.xlabel(\"Time\")\n",
        "    # set the title\n",
        "    # plt.title(\"Sample Wav\")\n",
        "    # display the plot\n",
        "    plt.savefig(\"volcanic_eruptionPlots/\" + volcanic_wav.split('.')[0] + '.png')\n",
        "    # plt.show()\n",
        "    plt.close('all')"
      ],
      "execution_count": 0,
      "outputs": []
    },
    {
      "cell_type": "code",
      "metadata": {
        "id": "EurQ3kYLS4BB",
        "colab_type": "code",
        "colab": {}
      },
      "source": [
        "if not os.path.exists(\"hurricanePlots\"):\n",
        "    os.makedirs(\"hurricanePlots\")\n",
        "hurricane_wavs = []\n",
        "for (_,_,filenames) in walk('hurricane'):\n",
        "    hurricane_wavs.extend(filenames)\n",
        "    break\n",
        "for hurricane_wav in hurricane_wavs:\n",
        "    # read audio samples\n",
        "    input_data = read(\"hurricane/\" + hurricane_wav)\n",
        "    audio = input_data[1]\n",
        "    # plot the first 1024 samples\n",
        "    plt.plot(audio)\n",
        "    # label the axes\n",
        "    plt.ylabel(\"Amplitude\")\n",
        "    plt.xlabel(\"Time\")\n",
        "    # set the title\n",
        "    # plt.title(\"Sample Wav\")\n",
        "    # display the plot\n",
        "    plt.savefig(\"hurricanePlots/\" + hurricane_wav.split('.')[0] + '.png')\n",
        "    # plt.show()\n",
        "    plt.close('all')"
      ],
      "execution_count": 0,
      "outputs": []
    },
    {
      "cell_type": "code",
      "metadata": {
        "id": "5wmkCWYixh11",
        "colab_type": "code",
        "colab": {}
      },
      "source": [
        ""
      ],
      "execution_count": 0,
      "outputs": []
    },
    {
      "cell_type": "markdown",
      "metadata": {
        "id": "CEJHNBOnxq8n",
        "colab_type": "text"
      },
      "source": [
        "# Using Just Machine Learning with Sklearn"
      ]
    },
    {
      "cell_type": "code",
      "metadata": {
        "id": "d4yVUJqgx5z3",
        "colab_type": "code",
        "colab": {}
      },
      "source": [
        "# import the libraries\n",
        "from pathlib import Path\n",
        "import matplotlib.pyplot as plt\n",
        "import numpy as np\n",
        "%matplotlib notebook\n",
        "from sklearn import svm, metrics, datasets\n",
        "from sklearn.utils import Bunch\n",
        "from sklearn.model_selection import GridSearchCV, train_test_split\n",
        "\n",
        "from skimage.io import imread\n",
        "from skimage.transform import resize\n",
        "\n",
        "from PIL import Image"
      ],
      "execution_count": 0,
      "outputs": []
    },
    {
      "cell_type": "code",
      "metadata": {
        "id": "4li0m3sazywn",
        "colab_type": "code",
        "colab": {}
      },
      "source": [
        "!unzip images.zip # unzipping data"
      ],
      "execution_count": 0,
      "outputs": []
    },
    {
      "cell_type": "code",
      "metadata": {
        "id": "ZEbs4B5Xx58U",
        "colab_type": "code",
        "colab": {}
      },
      "source": [
        "# Load images in structured directory like it's sklearn sample dataset\n",
        "\n",
        "def load_image_files(container_path, dimension=(64, 64)):\n",
        "    \"\"\"\n",
        "    Load image files with categories as subfolder names \n",
        "    which performs like scikit-learn sample dataset\n",
        "    \n",
        "    Parameters\n",
        "    ----------\n",
        "    container_path : string or unicode\n",
        "        Path to the main folder holding one subfolder per category\n",
        "    dimension : tuple\n",
        "        size to which image are adjusted to\n",
        "        \n",
        "    Returns\n",
        "    -------\n",
        "    Bunch\n",
        "    \"\"\"\n",
        "    image_dir = Path(container_path)\n",
        "    folders = [directory for directory in image_dir.iterdir() if directory.is_dir()]\n",
        "    categories = [fo.name for fo in folders]\n",
        "\n",
        "    descr = \"A image classification dataset\"\n",
        "    images = []\n",
        "    flat_data = []\n",
        "    target = []\n",
        "    for i, direc in enumerate(folders):\n",
        "        for file in direc.iterdir():\n",
        "            img = skimage.io.imread(file)\n",
        "            img_resized = resize(img, dimension, anti_aliasing=True, mode='reflect')\n",
        "            flat_data.append(img_resized.flatten()) \n",
        "            images.append(img_resized)\n",
        "            target.append(i)\n",
        "    flat_data = np.array(flat_data)\n",
        "    target = np.array(target)\n",
        "    images = np.array(images)\n",
        "\n",
        "    return Bunch(data=flat_data,\n",
        "                 target=target,\n",
        "                 target_names=categories,\n",
        "                 images=images,\n",
        "                 DESCR=descr)\n",
        "\n"
      ],
      "execution_count": 0,
      "outputs": []
    },
    {
      "cell_type": "code",
      "metadata": {
        "id": "ZvtFuP1Yx56H",
        "colab_type": "code",
        "colab": {}
      },
      "source": [
        "import skimage\n",
        "image_dataset = load_image_files(\"images/\")"
      ],
      "execution_count": 0,
      "outputs": []
    },
    {
      "cell_type": "code",
      "metadata": {
        "id": "blPvwh340JBR",
        "colab_type": "code",
        "colab": {}
      },
      "source": [
        "# splitting the data\n",
        "X_train, X_test, y_train, y_test = train_test_split(\n",
        "    image_dataset.data, image_dataset.target, test_size=0.3,random_state=109)"
      ],
      "execution_count": 0,
      "outputs": []
    },
    {
      "cell_type": "code",
      "metadata": {
        "id": "Ns-xOH-w0JHK",
        "colab_type": "code",
        "outputId": "a221e86a-b0ef-42e8-932e-6c160239b752",
        "colab": {
          "base_uri": "https://localhost:8080/",
          "height": 243
        }
      },
      "source": [
        "# Train data with parameter optimization¶(using svc)\n",
        "param_grid = [\n",
        "  {'C': [1, 10, 100, 1000], 'kernel': ['linear']},\n",
        "  {'C': [1, 10, 100, 1000], 'gamma': [0.001, 0.0001], 'kernel': ['rbf']},\n",
        " ]\n",
        "svc = svm.SVC()\n",
        "clf = GridSearchCV(svc, param_grid)\n",
        "clf.fit(X_train, y_train)"
      ],
      "execution_count": 0,
      "outputs": [
        {
          "output_type": "execute_result",
          "data": {
            "text/plain": [
              "GridSearchCV(cv=None, error_score=nan,\n",
              "             estimator=SVC(C=1.0, break_ties=False, cache_size=200,\n",
              "                           class_weight=None, coef0=0.0,\n",
              "                           decision_function_shape='ovr', degree=3,\n",
              "                           gamma='scale', kernel='rbf', max_iter=-1,\n",
              "                           probability=False, random_state=None, shrinking=True,\n",
              "                           tol=0.001, verbose=False),\n",
              "             iid='deprecated', n_jobs=None,\n",
              "             param_grid=[{'C': [1, 10, 100, 1000], 'kernel': ['linear']},\n",
              "                         {'C': [1, 10, 100, 1000], 'gamma': [0.001, 0.0001],\n",
              "                          'kernel': ['rbf']}],\n",
              "             pre_dispatch='2*n_jobs', refit=True, return_train_score=False,\n",
              "             scoring=None, verbose=0)"
            ]
          },
          "metadata": {
            "tags": []
          },
          "execution_count": 9
        }
      ]
    },
    {
      "cell_type": "code",
      "metadata": {
        "id": "byiuOXgyCPy2",
        "colab_type": "code",
        "outputId": "0ecd4718-83b1-4e6b-ccea-7dc538a6315f",
        "colab": {
          "base_uri": "https://localhost:8080/",
          "height": 52
        }
      },
      "source": [
        "# Making a prediction\n",
        "y_pred = clf.predict(X_test)\n",
        "\n",
        "y_pred"
      ],
      "execution_count": 0,
      "outputs": [
        {
          "output_type": "execute_result",
          "data": {
            "text/plain": [
              "array([1, 0, 1, 1, 0, 0, 0, 1, 1, 0, 1, 1, 0, 0, 1, 1, 1, 1, 1, 0, 0, 1,\n",
              "       0, 0, 0, 0, 1, 1, 0, 1, 0, 1, 1, 0, 1, 0, 0, 0, 1, 1, 0])"
            ]
          },
          "metadata": {
            "tags": []
          },
          "execution_count": 10
        }
      ]
    },
    {
      "cell_type": "code",
      "metadata": {
        "id": "SsdwYiVCCafA",
        "colab_type": "code",
        "outputId": "060a7135-fbc2-44b9-def6-17e036c60be1",
        "colab": {
          "base_uri": "https://localhost:8080/",
          "height": 434
        }
      },
      "source": [
        "# Generating a Report\n",
        "\n",
        "print(\"Classification report for - \\n{}:\\n{}\\n\".format(\n",
        "    clf, metrics.classification_report(y_test, y_pred)))"
      ],
      "execution_count": 0,
      "outputs": [
        {
          "output_type": "stream",
          "text": [
            "Classification report for - \n",
            "GridSearchCV(cv=None, error_score=nan,\n",
            "             estimator=SVC(C=1.0, break_ties=False, cache_size=200,\n",
            "                           class_weight=None, coef0=0.0,\n",
            "                           decision_function_shape='ovr', degree=3,\n",
            "                           gamma='scale', kernel='rbf', max_iter=-1,\n",
            "                           probability=False, random_state=None, shrinking=True,\n",
            "                           tol=0.001, verbose=False),\n",
            "             iid='deprecated', n_jobs=None,\n",
            "             param_grid=[{'C': [1, 10, 100, 1000], 'kernel': ['linear']},\n",
            "                         {'C': [1, 10, 100, 1000], 'gamma': [0.001, 0.0001],\n",
            "                          'kernel': ['rbf']}],\n",
            "             pre_dispatch='2*n_jobs', refit=True, return_train_score=False,\n",
            "             scoring=None, verbose=0):\n",
            "              precision    recall  f1-score   support\n",
            "\n",
            "           0       0.95      1.00      0.97        19\n",
            "           1       1.00      0.95      0.98        22\n",
            "\n",
            "    accuracy                           0.98        41\n",
            "   macro avg       0.97      0.98      0.98        41\n",
            "weighted avg       0.98      0.98      0.98        41\n",
            "\n",
            "\n"
          ],
          "name": "stdout"
        }
      ]
    },
    {
      "cell_type": "code",
      "metadata": {
        "id": "7hgqdIIENyjq",
        "colab_type": "code",
        "outputId": "a353d12f-b97b-4e5a-b017-3505e214e1da",
        "colab": {
          "base_uri": "https://localhost:8080/",
          "height": 405
        }
      },
      "source": [
        "# Visualizing the model's performance using ROC curve\n",
        "from sklearn.metrics import plot_roc_curve\n",
        "import matplotlib.pyplot as plt\n",
        "%matplotlib inline\n",
        "plt.rcParams[\"figure.figsize\"] = (10,6)\n",
        "\n",
        "\n",
        "figure = plt.figure(figsize=(6, 8))\n",
        "svc_disp = plot_roc_curve(clf, X_test, y_test)"
      ],
      "execution_count": 0,
      "outputs": [
        {
          "output_type": "display_data",
          "data": {
            "text/plain": [
              "<Figure size 432x576 with 0 Axes>"
            ]
          },
          "metadata": {
            "tags": []
          }
        },
        {
          "output_type": "display_data",
          "data": {
            "image/png": "[encoded data removed]",
            "text/plain": [
              "<Figure size 720x432 with 1 Axes>"
            ]
          },
          "metadata": {
            "tags": []
          }
        }
      ]
    },
    {
      "cell_type": "code",
      "metadata": {
        "id": "C_FW4KF2QotD",
        "colab_type": "code",
        "outputId": "0f132ee6-36bf-45bd-98ef-51d3662d9cf2",
        "colab": {
          "base_uri": "https://localhost:8080/",
          "height": 405
        }
      },
      "source": [
        "# Plotting the confussion matrix\n",
        "plt.rcParams[\"figure.figsize\"] = (50,6)\n",
        "\n",
        "\n",
        "fig= plt.figure(figsize=(50, 8))\n",
        "plot = metrics.plot_confusion_matrix(clf, X_test, y_test)"
      ],
      "execution_count": 0,
      "outputs": [
        {
          "output_type": "display_data",
          "data": {
            "text/plain": [
              "<Figure size 3600x576 with 0 Axes>"
            ]
          },
          "metadata": {
            "tags": []
          }
        },
        {
          "output_type": "display_data",
          "data": {
            "image/png": "[encoded data removed]",
            "text/plain": [
              "<Figure size 3600x432 with 2 Axes>"
            ]
          },
          "metadata": {
            "tags": []
          }
        }
      ]
    },
    {
      "cell_type": "code",
      "metadata": {
        "id": "fosYl2tZ3CJQ",
        "colab_type": "code",
        "colab": {}
      },
      "source": [
        "# Supress warnings\n",
        "import warnings\n",
        "warnings.filterwarnings(\"ignore\")"
      ],
      "execution_count": 0,
      "outputs": []
    },
    {
      "cell_type": "code",
      "metadata": {
        "id": "4pP7PJDEyFiz",
        "colab_type": "code",
        "outputId": "0a33954b-951a-4fc8-97de-fee1b42d6484",
        "colab": {
          "base_uri": "https://localhost:8080/",
          "height": 104
        }
      },
      "source": [
        "# Uisng Other models\n",
        "from sklearn.ensemble import  RandomForestClassifier, AdaBoostClassifier\n",
        "from sklearn.neighbors import KNeighborsClassifier\n",
        "from sklearn.linear_model import LogisticRegression\n",
        "from sklearn import model_selection\n",
        "from sklearn.metrics import roc_auc_score \n",
        "\n",
        "import xgboost\n",
        "\n",
        "# getting the model's performance metrics\n",
        "for model in [LogisticRegression, KNeighborsClassifier, RandomForestClassifier, \n",
        "              AdaBoostClassifier,xgboost.XGBClassifier]:\n",
        "              cls = model()\n",
        "              kfold = model_selection.KFold(n_splits=10, random_state=42)\n",
        "              s = model_selection.cross_validate(cls, X_test, y_test, scoring=[\"accuracy\", \"recall\", \"precision\", \"f1\"], cv=kfold)\n",
        "              print(f\"{model.__name__:22} Accuracy: \"f\"{s['test_accuracy'].mean().round(2)}   Recall: {s['test_recall'].mean().round(2)} \\\n",
        "                    Precision: {s['test_precision'].mean().round(2)}   F1-score: {s['test_recall'].mean().round(2)}\")\n"
      ],
      "execution_count": 0,
      "outputs": [
        {
          "output_type": "stream",
          "text": [
            "LogisticRegression     Accuracy: 0.9   Recall: 0.98                     Precision: 0.88    F1-score: 0.98\n",
            "KNeighborsClassifier   Accuracy: 0.78   Recall: 0.94                     Precision: 0.74    F1-score: 0.94\n",
            "RandomForestClassifier Accuracy: 1.0   Recall: 1.0                     Precision: 1.0    F1-score: 1.0\n",
            "AdaBoostClassifier     Accuracy: 1.0   Recall: 1.0                     Precision: 1.0    F1-score: 1.0\n",
            "XGBClassifier          Accuracy: 1.0   Recall: 1.0                     Precision: 1.0    F1-score: 1.0\n"
          ],
          "name": "stdout"
        }
      ]
    },
    {
      "cell_type": "code",
      "metadata": {
        "id": "YsAB7xsQXRka",
        "colab_type": "code",
        "colab": {}
      },
      "source": [
        "cls = cls.fit(X_test, y_test) # testing the model"
      ],
      "execution_count": 0,
      "outputs": []
    },
    {
      "cell_type": "code",
      "metadata": {
        "id": "qq7-KJe6WvaC",
        "colab_type": "code",
        "outputId": "56504d32-6498-464a-fabd-5b1b9b6c1588",
        "colab": {
          "base_uri": "https://localhost:8080/",
          "height": 1000
        }
      },
      "source": [
        "# Visualizing the model\n",
        "from sklearn.metrics import plot_roc_curve\n",
        "import matplotlib.pyplot as plt\n",
        "%matplotlib inline\n",
        "plt.rcParams[\"figure.figsize\"] = (10,6)\n",
        "\n",
        "for model in [LogisticRegression(), KNeighborsClassifier(), RandomForestClassifier(), \n",
        "              AdaBoostClassifier(),xgboost.XGBClassifier()]:\n",
        "              cls = model.fit(X_train, y_train)\n",
        "              figure = plt.figure(figsize=(6, 8))\n",
        "              disp = plot_roc_curve(cls, X_test, y_test)\n",
        "\n"
      ],
      "execution_count": 0,
      "outputs": [
        {
          "output_type": "display_data",
          "data": {
            "text/plain": [
              "<Figure size 432x576 with 0 Axes>"
            ]
          },
          "metadata": {
            "tags": []
          }
        },
        {
          "output_type": "display_data",
          "data": {
            "image/png": "[encoded data removed]",
            "text/plain": [
              "<Figure size 720x432 with 1 Axes>"
            ]
          },
          "metadata": {
            "tags": []
          }
        },
        {
          "output_type": "display_data",
          "data": {
            "text/plain": [
              "<Figure size 432x576 with 0 Axes>"
            ]
          },
          "metadata": {
            "tags": []
          }
        },
        {
          "output_type": "display_data",
          "data": {
            "image/png": "[encoded data removed]",
            "text/plain": [
              "<Figure size 720x432 with 1 Axes>"
            ]
          },
          "metadata": {
            "tags": []
          }
        },
        {
          "output_type": "display_data",
          "data": {
            "text/plain": [
              "<Figure size 432x576 with 0 Axes>"
            ]
          },
          "metadata": {
            "tags": []
          }
        },
        {
          "output_type": "display_data",
          "data": {
            "image/png": "[encoded data removed]",
            "text/plain": [
              "<Figure size 720x432 with 1 Axes>"
            ]
          },
          "metadata": {
            "tags": []
          }
        },
        {
          "output_type": "display_data",
          "data": {
            "text/plain": [
              "<Figure size 432x576 with 0 Axes>"
            ]
          },
          "metadata": {
            "tags": []
          }
        },
        {
          "output_type": "display_data",
          "data": {
            "image/png": "[encoded data removed]",
            "text/plain": [
              "<Figure size 720x432 with 1 Axes>"
            ]
          },
          "metadata": {
            "tags": []
          }
        },
        {
          "output_type": "display_data",
          "data": {
            "text/plain": [
              "<Figure size 432x576 with 0 Axes>"
            ]
          },
          "metadata": {
            "tags": []
          }
        },
        {
          "output_type": "display_data",
          "data": {
            "image/png": "[encoded data removed]",
            "text/plain": [
              "<Figure size 720x432 with 1 Axes>"
            ]
          },
          "metadata": {
            "tags": []
          }
        }
      ]
    },
    {
      "cell_type": "code",
      "metadata": {
        "id": "vO-sg1C3Cz4f",
        "colab_type": "code",
        "colab": {}
      },
      "source": [
        "# Saving the model\n",
        "import pickle\n",
        "\n",
        "with open('sound_ml_model.pkl', 'wb') as model:\n",
        "  pickle.dump(clf, model)"
      ],
      "execution_count": 0,
      "outputs": []
    },
    {
      "cell_type": "markdown",
      "metadata": {
        "id": "UbBfV7swxikU",
        "colab_type": "text"
      },
      "source": [
        "# Using Transfer Learning "
      ]
    },
    {
      "cell_type": "markdown",
      "metadata": {
        "id": "T-X9_2DmT0VP",
        "colab_type": "text"
      },
      "source": [
        "## Extracting Features and Training LinearSVM"
      ]
    },
    {
      "cell_type": "code",
      "metadata": {
        "id": "3o7LWuuXTylY",
        "colab_type": "code",
        "outputId": "78ff6161-5e80-4a21-eb21-8f24f07b8d61",
        "colab": {
          "base_uri": "https://localhost:8080/",
          "height": 483
        }
      },
      "source": [
        "import os\n",
        "from keras.applications.vgg19 import VGG19\n",
        "from keras.preprocessing import image\n",
        "from keras.applications.vgg19 import preprocess_input\n",
        "from keras.models import Model\n",
        "import numpy as np\n",
        "\n",
        "# using the pretrianed VGG19 model\n",
        "base_model = VGG19(weights='imagenet')\n",
        "model = Model(inputs=base_model.input, outputs=base_model.get_layer('flatten').output)\n",
        "\n",
        "def get_features(img_path):\n",
        "    img = image.load_img(img_path, target_size=(224, 224))\n",
        "    x = image.img_to_array(img)\n",
        "    x = np.expand_dims(x, axis=0)\n",
        "    x = preprocess_input(x)\n",
        "    flatten = model.predict(x)\n",
        "    return list(flatten[0])\n",
        "\n",
        "X = []\n",
        "y = []\n",
        "\n",
        "# learning the features of our dataset\n",
        "volcanic_plots = []\n",
        "for (_,_,filenames) in os.walk('volcanic_eruptionPlots'):\n",
        "    volcanic_plots.extend(filenames)\n",
        "    break\n",
        "\n",
        "for vplot in volcanic_plots:\n",
        "    X.append(get_features('volcanic_eruptionPlots/' + vplot))\n",
        "    y.append(0)\n",
        "\n",
        "hurricane_plots = []\n",
        "for (_,_,filenames) in os.walk('hurricanePlots'):\n",
        "    hurricane_plots.extend(filenames)\n",
        "    break\n",
        "\n",
        "for hplot in hurricane_plots:\n",
        "    X.append(get_features('hurricanePlots/' + hplot))\n",
        "    y.append(1)\n"
      ],
      "execution_count": 0,
      "outputs": [
        {
          "output_type": "stream",
          "text": [
            "Using TensorFlow backend.\n"
          ],
          "name": "stderr"
        },
        {
          "output_type": "display_data",
          "data": {
            "text/html": [
              "<p style=\"color: red;\">\n",
              "The default version of TensorFlow in Colab will soon switch to TensorFlow 2.x.<br>\n",
              "We recommend you <a href=\"https://www.tensorflow.org/guide/migrate\" target=\"_blank\">upgrade</a> now \n",
              "or ensure your notebook will continue to use TensorFlow 1.x via the <code>%tensorflow_version 1.x</code> magic:\n",
              "<a href=\"https://colab.research.google.com/notebooks/tensorflow_version.ipynb\" target=\"_blank\">more info</a>.</p>\n"
            ],
            "text/plain": [
              "<IPython.core.display.HTML object>"
            ]
          },
          "metadata": {
            "tags": []
          }
        },
        {
          "output_type": "stream",
          "text": [
            "WARNING:tensorflow:From /usr/local/lib/python3.6/dist-packages/keras/backend/tensorflow_backend.py:66: The name tf.get_default_graph is deprecated. Please use tf.compat.v1.get_default_graph instead.\n",
            "\n",
            "WARNING:tensorflow:From /usr/local/lib/python3.6/dist-packages/keras/backend/tensorflow_backend.py:541: The name tf.placeholder is deprecated. Please use tf.compat.v1.placeholder instead.\n",
            "\n",
            "WARNING:tensorflow:From /usr/local/lib/python3.6/dist-packages/keras/backend/tensorflow_backend.py:4432: The name tf.random_uniform is deprecated. Please use tf.random.uniform instead.\n",
            "\n",
            "WARNING:tensorflow:From /usr/local/lib/python3.6/dist-packages/keras/backend/tensorflow_backend.py:4267: The name tf.nn.max_pool is deprecated. Please use tf.nn.max_pool2d instead.\n",
            "\n",
            "Downloading data from https://github.com/fchollet/deep-learning-models/releases/download/v0.1/vgg19_weights_tf_dim_ordering_tf_kernels.h5\n",
            "574717952/574710816 [==============================] - 6s 0us/step\n",
            "WARNING:tensorflow:From /usr/local/lib/python3.6/dist-packages/keras/backend/tensorflow_backend.py:190: The name tf.get_default_session is deprecated. Please use tf.compat.v1.get_default_session instead.\n",
            "\n",
            "WARNING:tensorflow:From /usr/local/lib/python3.6/dist-packages/keras/backend/tensorflow_backend.py:197: The name tf.ConfigProto is deprecated. Please use tf.compat.v1.ConfigProto instead.\n",
            "\n",
            "WARNING:tensorflow:From /usr/local/lib/python3.6/dist-packages/keras/backend/tensorflow_backend.py:203: The name tf.Session is deprecated. Please use tf.compat.v1.Session instead.\n",
            "\n",
            "WARNING:tensorflow:From /usr/local/lib/python3.6/dist-packages/keras/backend/tensorflow_backend.py:207: The name tf.global_variables is deprecated. Please use tf.compat.v1.global_variables instead.\n",
            "\n",
            "WARNING:tensorflow:From /usr/local/lib/python3.6/dist-packages/keras/backend/tensorflow_backend.py:216: The name tf.is_variable_initialized is deprecated. Please use tf.compat.v1.is_variable_initialized instead.\n",
            "\n",
            "WARNING:tensorflow:From /usr/local/lib/python3.6/dist-packages/keras/backend/tensorflow_backend.py:223: The name tf.variables_initializer is deprecated. Please use tf.compat.v1.variables_initializer instead.\n",
            "\n"
          ],
          "name": "stdout"
        }
      ]
    },
    {
      "cell_type": "code",
      "metadata": {
        "id": "Mx9pE14jTyrB",
        "colab_type": "code",
        "colab": {}
      },
      "source": [
        "# Building a LinearSVC model on top of our model\n",
        "from sklearn.model_selection import train_test_split\n",
        "from sklearn.svm import LinearSVC\n",
        "from sklearn.metrics import accuracy_score\n",
        "\n",
        "X_train, X_test, y_train, y_test = train_test_split(X, y, test_size=0.30, random_state=42, stratify=y)\n",
        "\n",
        "clf = LinearSVC(random_state=0, tol=1e-5)\n",
        "clf.fit(X_train, y_train)\n",
        "\n",
        "predicted = clf.predict(X_test)\n",
        "\n",
        "# get the accuracy\n",
        "print (accuracy_score(y_test, predicted))"
      ],
      "execution_count": 0,
      "outputs": []
    },
    {
      "cell_type": "code",
      "metadata": {
        "id": "GECWrLdYy15M",
        "colab_type": "code",
        "outputId": "7d2a8e4d-0dc4-4535-88c1-3a16d10b8bfe",
        "colab": {
          "base_uri": "https://localhost:8080/",
          "height": 34
        }
      },
      "source": [
        "# Testing model using k_fold crosss validation\n",
        "\n",
        "from sklearn.model_selection import cross_val_score\n",
        "\n",
        "scores = cross_val_score(clf, X, y, cv=10)\n",
        "scores.mean()"
      ],
      "execution_count": 0,
      "outputs": [
        {
          "output_type": "execute_result",
          "data": {
            "text/plain": [
              "1.0"
            ]
          },
          "metadata": {
            "tags": []
          },
          "execution_count": 13
        }
      ]
    },
    {
      "cell_type": "code",
      "metadata": {
        "id": "3WQPCtV2Xw6v",
        "colab_type": "code",
        "outputId": "7194ccf0-7d68-4ab2-cc00-3f7b0a0dfbb3",
        "colab": {
          "base_uri": "https://localhost:8080/",
          "height": 405
        }
      },
      "source": [
        "from sklearn.metrics import plot_roc_curve\n",
        "import matplotlib.pyplot as plt\n",
        "%matplotlib inline\n",
        "plt.rcParams[\"figure.figsize\"] = (10,6)\n",
        "\n",
        "\n",
        "figure = plt.figure(figsize=(6, 8))\n",
        "svc_disp = plot_roc_curve(clf, X_test, y_test)"
      ],
      "execution_count": 0,
      "outputs": [
        {
          "output_type": "display_data",
          "data": {
            "text/plain": [
              "<Figure size 432x576 with 0 Axes>"
            ]
          },
          "metadata": {
            "tags": []
          }
        },
        {
          "output_type": "display_data",
          "data": {
            "image/png": "[encoded data removed]",
            "text/plain": [
              "<Figure size 720x432 with 1 Axes>"
            ]
          },
          "metadata": {
            "tags": []
          }
        }
      ]
    },
    {
      "cell_type": "markdown",
      "metadata": {
        "id": "Z27rrQqajFbB",
        "colab_type": "text"
      },
      "source": [
        "## Saving the model"
      ]
    },
    {
      "cell_type": "code",
      "metadata": {
        "id": "-K7-5TE1Tyon",
        "colab_type": "code",
        "colab": {}
      },
      "source": [
        "import pickle\n",
        "\n",
        "with open('sound_model.pkl', 'wb') as model:\n",
        "  pickle.dump(clf, model)"
      ],
      "execution_count": 0,
      "outputs": []
    },
    {
      "cell_type": "code",
      "metadata": {
        "id": "cePlNfypTyiU",
        "colab_type": "code",
        "colab": {}
      },
      "source": [
        ""
      ],
      "execution_count": 0,
      "outputs": []
    },
    {
      "cell_type": "code",
      "metadata": {
        "id": "R7yllJxgTyec",
        "colab_type": "code",
        "colab": {}
      },
      "source": [
        ""
      ],
      "execution_count": 0,
      "outputs": []
    },
    {
      "cell_type": "code",
      "metadata": {
        "id": "5gvAt3wY_tED",
        "colab_type": "code",
        "colab": {}
      },
      "source": [
        ""
      ],
      "execution_count": 0,
      "outputs": []
    },
    {
      "cell_type": "code",
      "metadata": {
        "id": "dJkxQZ9f_uEG",
        "colab_type": "code",
        "colab": {}
      },
      "source": [
        ""
      ],
      "execution_count": 0,
      "outputs": []
    }
  ]
}