{
  "nbformat": 4,
  "nbformat_minor": 0,
  "metadata": {
    "colab": {
      "name": "Logo Brand Preiction; Pepsi vs. Coke.ipynb",
      "provenance": [],
      "collapsed_sections": [],
      "toc_visible": true,
      "include_colab_link": true
    },
    "kernelspec": {
      "name": "python3",
      "display_name": "Python 3"
    },
    "accelerator": "TPU"
  },
  "cells": [
    {
      "cell_type": "markdown",
      "metadata": {
        "id": "view-in-github",
        "colab_type": "text"
      },
      "source": [
        "<a href=\"https://colab.research.google.com/github/Boadzie/Jupyter-Notebooks/blob/master/Logo_Brand_Preiction%3B_Pepsi_vs_Coke.ipynb\" target=\"_parent\"><img src=\"https://colab.research.google.com/assets/colab-badge.svg\" alt=\"Open In Colab\"/></a>"
      ]
    },
    {
      "cell_type": "markdown",
      "metadata": {
        "id": "tCQBXJRnmpKk",
        "colab_type": "text"
      },
      "source": [
        "# Business Problem\n",
        "\n",
        "**We have a few images of the product logos of Pepsi and Coca-Cola (Coke). We want to build a basic Deep Learning classifier that can read an image and tell us if it is a logo of Pepsi or Coke.**"
      ]
    },
    {
      "cell_type": "markdown",
      "metadata": {
        "id": "qi7Nhz6aoHaY",
        "colab_type": "text"
      },
      "source": [
        "### Step 1: Getting the Data"
      ]
    },
    {
      "cell_type": "code",
      "metadata": {
        "id": "rXnY5ySDgoCS",
        "colab_type": "code",
        "outputId": "52ce979a-015c-4fe7-a2a6-081f831c49a4",
        "colab": {
          "base_uri": "https://localhost:8080/",
          "height": 208
        }
      },
      "source": [
        "# Download sample images in folder structure for Data Augmentation\n",
        "!wget -O LOGOS_DATTARAJ.zip https://s3.ap-south-1.amazonaws.com/dattaraj-public/LOGOS_DATTARAJ.zip\n"
      ],
      "execution_count": 0,
      "outputs": [
        {
          "output_type": "stream",
          "text": [
            "--2019-06-05 13:39:37--  https://s3.ap-south-1.amazonaws.com/dattaraj-public/LOGOS_DATTARAJ.zip\n",
            "Resolving s3.ap-south-1.amazonaws.com (s3.ap-south-1.amazonaws.com)... 52.219.64.45\n",
            "Connecting to s3.ap-south-1.amazonaws.com (s3.ap-south-1.amazonaws.com)|52.219.64.45|:443... connected.\n",
            "HTTP request sent, awaiting response... 200 OK\n",
            "Length: 1823063 (1.7M) [application/zip]\n",
            "Saving to: ‘LOGOS_DATTARAJ.zip’\n",
            "\n",
            "LOGOS_DATTARAJ.zip  100%[===================>]   1.74M  1.24MB/s    in 1.4s    \n",
            "\n",
            "2019-06-05 13:39:40 (1.24 MB/s) - ‘LOGOS_DATTARAJ.zip’ saved [1823063/1823063]\n",
            "\n"
          ],
          "name": "stdout"
        }
      ]
    },
    {
      "cell_type": "code",
      "metadata": {
        "id": "l1p5H0tfoCgz",
        "colab_type": "code",
        "outputId": "bcc0f565-aa07-4e7c-fe6e-5c382f863557",
        "colab": {
          "base_uri": "https://localhost:8080/",
          "height": 1163
        }
      },
      "source": [
        "# Unzipping the folder\n",
        "!unzip LOGOS_DATTARAJ.zip"
      ],
      "execution_count": 0,
      "outputs": [
        {
          "output_type": "stream",
          "text": [
            "Archive:  LOGOS_DATTARAJ.zip\n",
            "   creating: LOGOS_DATTARAJ/\n",
            "  inflating: LOGOS_DATTARAJ/.DS_Store  \n",
            "   creating: __MACOSX/\n",
            "   creating: __MACOSX/LOGOS_DATTARAJ/\n",
            "  inflating: __MACOSX/LOGOS_DATTARAJ/._.DS_Store  \n",
            "   creating: LOGOS_DATTARAJ/training/\n",
            "  inflating: LOGOS_DATTARAJ/training/.DS_Store  \n",
            "   creating: __MACOSX/LOGOS_DATTARAJ/training/\n",
            "  inflating: __MACOSX/LOGOS_DATTARAJ/training/._.DS_Store  \n",
            "   creating: LOGOS_DATTARAJ/training/CocaCola/\n",
            "  inflating: LOGOS_DATTARAJ/training/CocaCola/Screen Shot 2018-11-07 at 5.55.46 PM.png  \n",
            "   creating: __MACOSX/LOGOS_DATTARAJ/training/CocaCola/\n",
            "  inflating: __MACOSX/LOGOS_DATTARAJ/training/CocaCola/._Screen Shot 2018-11-07 at 5.55.46 PM.png  \n",
            "  inflating: LOGOS_DATTARAJ/training/CocaCola/Screen Shot 2018-11-07 at 5.56.01 PM.png  \n",
            "  inflating: __MACOSX/LOGOS_DATTARAJ/training/CocaCola/._Screen Shot 2018-11-07 at 5.56.01 PM.png  \n",
            "  inflating: LOGOS_DATTARAJ/training/CocaCola/Screen Shot 2018-11-07 at 5.56.10 PM.png  \n",
            "  inflating: __MACOSX/LOGOS_DATTARAJ/training/CocaCola/._Screen Shot 2018-11-07 at 5.56.10 PM.png  \n",
            "  inflating: LOGOS_DATTARAJ/training/CocaCola/Screen Shot 2018-11-07 at 5.56.22 PM.png  \n",
            "  inflating: __MACOSX/LOGOS_DATTARAJ/training/CocaCola/._Screen Shot 2018-11-07 at 5.56.22 PM.png  \n",
            "  inflating: LOGOS_DATTARAJ/training/CocaCola/Screen Shot 2018-11-07 at 5.57.52 PM.png  \n",
            "  inflating: __MACOSX/LOGOS_DATTARAJ/training/CocaCola/._Screen Shot 2018-11-07 at 5.57.52 PM.png  \n",
            "   creating: LOGOS_DATTARAJ/training/Pepsi/\n",
            "  inflating: LOGOS_DATTARAJ/training/Pepsi/Screen Shot 2018-11-07 at 5.58.32 PM.png  \n",
            "   creating: __MACOSX/LOGOS_DATTARAJ/training/Pepsi/\n",
            "  inflating: __MACOSX/LOGOS_DATTARAJ/training/Pepsi/._Screen Shot 2018-11-07 at 5.58.32 PM.png  \n",
            "  inflating: LOGOS_DATTARAJ/training/Pepsi/Screen Shot 2018-11-07 at 5.58.44 PM.png  \n",
            "  inflating: __MACOSX/LOGOS_DATTARAJ/training/Pepsi/._Screen Shot 2018-11-07 at 5.58.44 PM.png  \n",
            "  inflating: LOGOS_DATTARAJ/training/Pepsi/Screen Shot 2018-11-07 at 5.58.54 PM.png  \n",
            "  inflating: __MACOSX/LOGOS_DATTARAJ/training/Pepsi/._Screen Shot 2018-11-07 at 5.58.54 PM.png  \n",
            "  inflating: LOGOS_DATTARAJ/training/Pepsi/Screen Shot 2018-11-07 at 5.59.02 PM.png  \n",
            "  inflating: __MACOSX/LOGOS_DATTARAJ/training/Pepsi/._Screen Shot 2018-11-07 at 5.59.02 PM.png  \n",
            "  inflating: LOGOS_DATTARAJ/training/Pepsi/Screen Shot 2018-11-07 at 6.02.09 PM.png  \n",
            "  inflating: __MACOSX/LOGOS_DATTARAJ/training/Pepsi/._Screen Shot 2018-11-07 at 6.02.09 PM.png  \n",
            "   creating: LOGOS_DATTARAJ/validation/\n",
            "  inflating: LOGOS_DATTARAJ/validation/.DS_Store  \n",
            "   creating: __MACOSX/LOGOS_DATTARAJ/validation/\n",
            "  inflating: __MACOSX/LOGOS_DATTARAJ/validation/._.DS_Store  \n",
            "   creating: LOGOS_DATTARAJ/validation/CocaCola/\n",
            "  inflating: LOGOS_DATTARAJ/validation/CocaCola/.DS_Store  \n",
            "   creating: __MACOSX/LOGOS_DATTARAJ/validation/CocaCola/\n",
            "  inflating: __MACOSX/LOGOS_DATTARAJ/validation/CocaCola/._.DS_Store  \n",
            "  inflating: LOGOS_DATTARAJ/validation/CocaCola/Screen Shot 2018-11-07 at 6.04.21 PM.png  \n",
            "  inflating: __MACOSX/LOGOS_DATTARAJ/validation/CocaCola/._Screen Shot 2018-11-07 at 6.04.21 PM.png  \n",
            "  inflating: LOGOS_DATTARAJ/validation/CocaCola/Screen Shot 2018-11-07 at 6.04.33 PM.png  \n",
            "  inflating: __MACOSX/LOGOS_DATTARAJ/validation/CocaCola/._Screen Shot 2018-11-07 at 6.04.33 PM.png  \n",
            "  inflating: LOGOS_DATTARAJ/validation/CocaCola/Screen Shot 2018-11-07 at 6.04.49 PM.png  \n",
            "  inflating: __MACOSX/LOGOS_DATTARAJ/validation/CocaCola/._Screen Shot 2018-11-07 at 6.04.49 PM.png  \n",
            "  inflating: LOGOS_DATTARAJ/validation/CocaCola/Screen Shot 2018-11-07 at 6.04.57 PM.png  \n",
            "  inflating: __MACOSX/LOGOS_DATTARAJ/validation/CocaCola/._Screen Shot 2018-11-07 at 6.04.57 PM.png  \n",
            "  inflating: LOGOS_DATTARAJ/validation/CocaCola/Screen Shot 2018-11-07 at 6.05.06 PM.png  \n",
            "  inflating: __MACOSX/LOGOS_DATTARAJ/validation/CocaCola/._Screen Shot 2018-11-07 at 6.05.06 PM.png  \n",
            "   creating: LOGOS_DATTARAJ/validation/Pepsi/\n",
            "  inflating: LOGOS_DATTARAJ/validation/Pepsi/.DS_Store  \n",
            "   creating: __MACOSX/LOGOS_DATTARAJ/validation/Pepsi/\n",
            "  inflating: __MACOSX/LOGOS_DATTARAJ/validation/Pepsi/._.DS_Store  \n",
            "  inflating: LOGOS_DATTARAJ/validation/Pepsi/Screen Shot 2018-11-07 at 5.58.21 PM.png  \n",
            "  inflating: __MACOSX/LOGOS_DATTARAJ/validation/Pepsi/._Screen Shot 2018-11-07 at 5.58.21 PM.png  \n",
            "  inflating: LOGOS_DATTARAJ/validation/Pepsi/Screen Shot 2018-11-07 at 6.01.57 PM.png  \n",
            "  inflating: __MACOSX/LOGOS_DATTARAJ/validation/Pepsi/._Screen Shot 2018-11-07 at 6.01.57 PM.png  \n",
            "  inflating: LOGOS_DATTARAJ/validation/Pepsi/Screen Shot 2018-11-07 at 6.05.38 PM.png  \n",
            "  inflating: __MACOSX/LOGOS_DATTARAJ/validation/Pepsi/._Screen Shot 2018-11-07 at 6.05.38 PM.png  \n",
            "  inflating: LOGOS_DATTARAJ/validation/Pepsi/Screen Shot 2018-11-07 at 6.06.02 PM.png  \n",
            "  inflating: __MACOSX/LOGOS_DATTARAJ/validation/Pepsi/._Screen Shot 2018-11-07 at 6.06.02 PM.png  \n",
            "  inflating: LOGOS_DATTARAJ/validation/Pepsi/Screen Shot 2018-11-07 at 6.06.07 PM.png  \n",
            "  inflating: __MACOSX/LOGOS_DATTARAJ/validation/Pepsi/._Screen Shot 2018-11-07 at 6.06.07 PM.png  \n"
          ],
          "name": "stdout"
        }
      ]
    },
    {
      "cell_type": "code",
      "metadata": {
        "id": "cder2XSPou2W",
        "colab_type": "code",
        "colab": {}
      },
      "source": [
        ""
      ],
      "execution_count": 0,
      "outputs": []
    },
    {
      "cell_type": "markdown",
      "metadata": {
        "id": "889O5-E0o7Na",
        "colab_type": "text"
      },
      "source": [
        "### Step 2: Data Augmentation to Generate New Images for Training"
      ]
    },
    {
      "cell_type": "code",
      "metadata": {
        "id": "xeUIsIZAou5a",
        "colab_type": "code",
        "outputId": "270efbab-88a4-44da-f1b6-b59370fefb4a",
        "colab": {
          "base_uri": "https://localhost:8080/",
          "height": 34
        }
      },
      "source": [
        "from keras.preprocessing.image import ImageDataGenerator\n",
        "import matplotlib.pyplot as plt\n",
        "%matplotlib inline\n",
        "\n",
        "# specify the directories for training and validation images\n",
        "training_dir = './LOGOS_DATTARAJ/training'\n",
        "validation_dir = './LOGOS_DATTARAJ/validation'"
      ],
      "execution_count": 0,
      "outputs": [
        {
          "output_type": "stream",
          "text": [
            "Using TensorFlow backend.\n"
          ],
          "name": "stderr"
        }
      ]
    },
    {
      "cell_type": "code",
      "metadata": {
        "id": "XBy3I-Vtou75",
        "colab_type": "code",
        "colab": {}
      },
      "source": [
        "# we will generate 1 image at a time - we could do so in batches\n",
        "gen_batch_size = 1"
      ],
      "execution_count": 0,
      "outputs": []
    },
    {
      "cell_type": "code",
      "metadata": {
        "id": "r8SDkfqPou-V",
        "colab_type": "code",
        "colab": {}
      },
      "source": [
        "# we will create a generator of generating training data\n",
        "# we will apply transformations and rotations to new images\n",
        "# idea is to capture different variations we see in real world\n",
        "train_datagen = ImageDataGenerator(\n",
        "          rescale=1./255,\n",
        "          shear_range=0.2,\n",
        "          zoom_range=0.2,\n",
        "          fill_mode = \"nearest\",\n",
        "          width_shift_range = 0.3, height_shift_range=0.3, rotation_range=20, horizontal_flip=False)"
      ],
      "execution_count": 0,
      "outputs": []
    },
    {
      "cell_type": "code",
      "metadata": {
        "id": "SlRDdGjNpPVg",
        "colab_type": "code",
        "outputId": "24051456-e88f-404b-8891-7382c289b818",
        "colab": {
          "base_uri": "https://localhost:8080/",
          "height": 34
        }
      },
      "source": [
        "# this is a generator that will read pictures found in\n",
        "# subfolders and indefinitely generate\n",
        "# batches of augmented image data\n",
        "train_generator = train_datagen.flow_from_directory(\n",
        "training_dir, # this is the target directory\n",
        "target_size=(150, 150), batch_size=gen_batch_size, class_mode='binary')"
      ],
      "execution_count": 0,
      "outputs": [
        {
          "output_type": "stream",
          "text": [
            "Found 10 images belonging to 2 classes.\n"
          ],
          "name": "stdout"
        }
      ]
    },
    {
      "cell_type": "code",
      "metadata": {
        "id": "sx8qz5DOpPYE",
        "colab_type": "code",
        "colab": {}
      },
      "source": [
        "# since we use binary_crossentropy loss, we need binary labels\n",
        "# generator will specify classes by index 0, 1\n",
        "class_names = ['Coca-Cola', 'Pepsi']"
      ],
      "execution_count": 0,
      "outputs": []
    },
    {
      "cell_type": "code",
      "metadata": {
        "id": "lJ8KZOY3pPSD",
        "colab_type": "code",
        "outputId": "d22f1104-e8cf-47cf-e76c-0ffb1704b038",
        "colab": {
          "base_uri": "https://localhost:8080/",
          "height": 5108
        }
      },
      "source": [
        "# lets generate some images and plot them\n",
        "print('Generating images now...')\n",
        "ROW = 10\n",
        "plt.figure(figsize=(20,20))\n",
        "for i in range(ROW*ROW):\n",
        "  plt.subplot(ROW,ROW,i+1)\n",
        "  plt.xticks([])\n",
        "\n",
        "  # run the generator to get the next image – we can do this forever!\n",
        "  next_set = train_generator.next()\n",
        "  plt.imshow(next_set[0][0])\n",
        "  plt.xticks([])\n",
        "  plt.yticks([])\n",
        "  plt.grid(False)\n",
        "  plt.xlabel(class_names[int(next_set[1][0])])\n",
        "  plt.show()"
      ],
      "execution_count": 0,
      "outputs": [
        {
          "output_type": "stream",
          "text": [
            "Generating images now...\n"
          ],
          "name": "stdout"
        },
        {
          "output_type": "display_data",
          "data": {
            "image/png": "[encoded data removed]",
            "text/plain": [
              "<Figure size 1440x1440 with 1 Axes>"
            ]
          },
          "metadata": {
            "tags": []
          }
        },
        {
          "output_type": "display_data",
          "data": {
            "image/png": "[encoded data removed]",
            "text/plain": [
              "<Figure size 432x288 with 1 Axes>"
            ]
          },
          "metadata": {
            "tags": []
          }
        },
        {
          "output_type": "display_data",
          "data": {
            "image/png": "[encoded data removed]",
            "text/plain": [
              "<Figure size 432x288 with 1 Axes>"
            ]
          },
          "metadata": {
            "tags": []
          }
        },
        {
          "output_type": "display_data",
          "data": {
            "image/png": "[encoded data removed]",
            "text/plain": [
              "<Figure size 432x288 with 1 Axes>"
            ]
          },
          "metadata": {
            "tags": []
          }
        },
        {
          "output_type": "display_data",
          "data": {
            "image/png": "[encoded data removed]",
            "text/plain": [
              "<Figure size 432x288 with 1 Axes>"
            ]
          },
          "metadata": {
            "tags": []
          }
        },
        {
          "output_type": "display_data",
          "data": {
            "image/png": "[encoded data removed]",
            "text/plain": [
              "<Figure size 432x288 with 1 Axes>"
            ]
          },
          "metadata": {
            "tags": []
          }
        },
        {
          "output_type": "display_data",
          "data": {
            "image/png": "[encoded data removed]",
            "text/plain": [
              "<Figure size 432x288 with 1 Axes>"
            ]
          },
          "metadata": {
            "tags": []
          }
        },
        {
          "output_type": "display_data",
          "data": {
            "image/png": "[encoded data removed]",
            "text/plain": [
              "<Figure size 432x288 with 1 Axes>"
            ]
          },
          "metadata": {
            "tags": []
          }
        },
        {
          "output_type": "display_data",
          "data": {
            "image/png": "[encoded data removed]",
            "text/plain": [
              "<Figure size 432x288 with 1 Axes>"
            ]
          },
          "metadata": {
            "tags": []
          }
        },
        {
          "output_type": "display_data",
          "data": {
            "image/png": "[encoded data removed]",
            "text/plain": [
              "<Figure size 432x288 with 1 Axes>"
            ]
          },
          "metadata": {
            "tags": []
          }
        },
        {
          "output_type": "display_data",
          "data": {
            "image/png": "[encoded data removed]",
            "text/plain": [
              "<Figure size 432x288 with 1 Axes>"
            ]
          },
          "metadata": {
            "tags": []
          }
        },
        {
          "output_type": "display_data",
          "data": {
            "image/png": "[encoded data removed]",
            "text/plain": [
              "<Figure size 432x288 with 1 Axes>"
            ]
          },
          "metadata": {
            "tags": []
          }
        },
        {
          "output_type": "display_data",
          "data": {
            "image/png": "[encoded data removed]",
            "text/plain": [
              "<Figure size 432x288 with 1 Axes>"
            ]
          },
          "metadata": {
            "tags": []
          }
        },
        {
          "output_type": "display_data",
          "data": {
            "image/png": "[encoded data removed]",
            "text/plain": [
              "<Figure size 432x288 with 1 Axes>"
            ]
          },
          "metadata": {
            "tags": []
          }
        },
        {
          "output_type": "display_data",
          "data": {
            "image/png": "[encoded data removed]",
            "text/plain": [
              "<Figure size 432x288 with 1 Axes>"
            ]
          },
          "metadata": {
            "tags": []
          }
        },
        {
          "output_type": "display_data",
          "data": {
            "image/png": "[encoded data removed]",
            "text/plain": [
              "<Figure size 432x288 with 1 Axes>"
            ]
          },
          "metadata": {
            "tags": []
          }
        },
        {
          "output_type": "display_data",
          "data": {
            "image/png": "[encoded data removed]",
            "text/plain": [
              "<Figure size 432x288 with 1 Axes>"
            ]
          },
          "metadata": {
            "tags": []
          }
        },
        {
          "output_type": "display_data",
          "data": {
            "image/png": "[encoded data removed]",
            "text/plain": [
              "<Figure size 432x288 with 1 Axes>"
            ]
          },
          "metadata": {
            "tags": []
          }
        },
        {
          "output_type": "display_data",
          "data": {
            "image/png": "[encoded data removed]",
            "text/plain": [
              "<Figure size 432x288 with 1 Axes>"
            ]
          },
          "metadata": {
            "tags": []
          }
        },
        {
          "output_type": "display_data",
          "data": {
            "image/png": "[encoded data removed]",
            "text/plain": [
              "<Figure size 432x288 with 1 Axes>"
            ]
          },
          "metadata": {
            "tags": []
          }
        },
        {
          "output_type": "display_data",
          "data": {
            "image/png": "[encoded data removed]",
            "text/plain": [
              "<Figure size 432x288 with 1 Axes>"
            ]
          },
          "metadata": {
            "tags": []
          }
        },
        {
          "output_type": "display_data",
          "data": {
            "image/png": "[encoded data removed]",
            "text/plain": [
              "<Figure size 432x288 with 1 Axes>"
            ]
          },
          "metadata": {
            "tags": []
          }
        },
        {
          "output_type": "display_data",
          "data": {
            "image/png": "[encoded data removed]",
            "text/plain": [
              "<Figure size 432x288 with 1 Axes>"
            ]
          },
          "metadata": {
            "tags": []
          }
        },
        {
          "output_type": "display_data",
          "data": {
            "image/png": "[encoded data removed]",
            "text/plain": [
              "<Figure size 432x288 with 1 Axes>"
            ]
          },
          "metadata": {
            "tags": []
          }
        },
        {
          "output_type": "display_data",
          "data": {
            "image/png": "[encoded data removed]",
            "text/plain": [
              "<Figure size 432x288 with 1 Axes>"
            ]
          },
          "metadata": {
            "tags": []
          }
        },
        {
          "output_type": "display_data",
          "data": {
            "image/png": "[encoded data removed]",
            "text/plain": [
              "<Figure size 432x288 with 1 Axes>"
            ]
          },
          "metadata": {
            "tags": []
          }
        },
        {
          "output_type": "display_data",
          "data": {
            "image/png": "[encoded data removed]",
            "text/plain": [
              "<Figure size 432x288 with 1 Axes>"
            ]
          },
          "metadata": {
            "tags": []
          }
        },
        {
          "output_type": "display_data",
          "data": {
            "image/png": "[encoded data removed]",
            "text/plain": [
              "<Figure size 432x288 with 1 Axes>"
            ]
          },
          "metadata": {
            "tags": []
          }
        },
        {
          "output_type": "display_data",
          "data": {
            "image/png": "[encoded data removed]",
            "text/plain": [
              "<Figure size 432x288 with 1 Axes>"
            ]
          },
          "metadata": {
            "tags": []
          }
        },
        {
          "output_type": "display_data",
          "data": {
            "image/png": "[encoded data removed]",
            "text/plain": [
              "<Figure size 432x288 with 1 Axes>"
            ]
          },
          "metadata": {
            "tags": []
          }
        },
        {
          "output_type": "display_data",
          "data": {
            "image/png": "[encoded data removed]",
            "text/plain": [
              "<Figure size 432x288 with 1 Axes>"
            ]
          },
          "metadata": {
            "tags": []
          }
        },
        {
          "output_type": "display_data",
          "data": {
            "image/png": "[encoded data removed]",
            "text/plain": [
              "<Figure size 432x288 with 1 Axes>"
            ]
          },
          "metadata": {
            "tags": []
          }
        },
        {
          "output_type": "display_data",
          "data": {
            "image/png": "[encoded data removed]",
            "text/plain": [
              "<Figure size 432x288 with 1 Axes>"
            ]
          },
          "metadata": {
            "tags": []
          }
        },
        {
          "output_type": "display_data",
          "data": {
            "image/png": "[encoded data removed]",
            "text/plain": [
              "<Figure size 432x288 with 1 Axes>"
            ]
          },
          "metadata": {
            "tags": []
          }
        },
        {
          "output_type": "display_data",
          "data": {
            "image/png": "[encoded data removed]",
            "text/plain": [
              "<Figure size 432x288 with 1 Axes>"
            ]
          },
          "metadata": {
            "tags": []
          }
        },
        {
          "output_type": "display_data",
          "data": {
            "image/png": "[encoded data removed]",
            "text/plain": [
              "<Figure size 432x288 with 1 Axes>"
            ]
          },
          "metadata": {
            "tags": []
          }
        },
        {
          "output_type": "display_data",
          "data": {
            "image/png": "[encoded data removed]",
            "text/plain": [
              "<Figure size 432x288 with 1 Axes>"
            ]
          },
          "metadata": {
            "tags": []
          }
        },
        {
          "output_type": "display_data",
          "data": {
            "image/png": "[encoded data removed]",
            "text/plain": [
              "<Figure size 432x288 with 1 Axes>"
            ]
          },
          "metadata": {
            "tags": []
          }
        },
        {
          "output_type": "display_data",
          "data": {
            "image/png": "[encoded data removed]",
            "text/plain": [
              "<Figure size 432x288 with 1 Axes>"
            ]
          },
          "metadata": {
            "tags": []
          }
        },
        {
          "output_type": "display_data",
          "data": {
            "image/png": "[encoded data removed]",
            "text/plain": [
              "<Figure size 432x288 with 1 Axes>"
            ]
          },
          "metadata": {
            "tags": []
          }
        },
        {
          "output_type": "display_data",
          "data": {
            "image/png": "[encoded data removed]",
            "text/plain": [
              "<Figure size 432x288 with 1 Axes>"
            ]
          },
          "metadata": {
            "tags": []
          }
        },
        {
          "output_type": "display_data",
          "data": {
            "image/png": "[encoded data removed]",
            "text/plain": [
              "<Figure size 432x288 with 1 Axes>"
            ]
          },
          "metadata": {
            "tags": []
          }
        },
        {
          "output_type": "display_data",
          "data": {
            "image/png": "[encoded data removed]",
            "text/plain": [
              "<Figure size 432x288 with 1 Axes>"
            ]
          },
          "metadata": {
            "tags": []
          }
        },
        {
          "output_type": "display_data",
          "data": {
            "image/png": "[encoded data removed]",
            "text/plain": [
              "<Figure size 432x288 with 1 Axes>"
            ]
          },
          "metadata": {
            "tags": []
          }
        },
        {
          "output_type": "display_data",
          "data": {
            "image/png": "[encoded data removed]",
            "text/plain": [
              "<Figure size 432x288 with 1 Axes>"
            ]
          },
          "metadata": {
            "tags": []
          }
        },
        {
          "output_type": "display_data",
          "data": {
            "image/png": "[encoded data removed]",
            "text/plain": [
              "<Figure size 432x288 with 1 Axes>"
            ]
          },
          "metadata": {
            "tags": []
          }
        },
        {
          "output_type": "display_data",
          "data": {
            "image/png": "[encoded data removed]",
            "text/plain": [
              "<Figure size 432x288 with 1 Axes>"
            ]
          },
          "metadata": {
            "tags": []
          }
        },
        {
          "output_type": "display_data",
          "data": {
            "image/png": "[encoded data removed]",
            "text/plain": [
              "<Figure size 432x288 with 1 Axes>"
            ]
          },
          "metadata": {
            "tags": []
          }
        },
        {
          "output_type": "display_data",
          "data": {
            "image/png": "[encoded data removed]",
            "text/plain": [
              "<Figure size 432x288 with 1 Axes>"
            ]
          },
          "metadata": {
            "tags": []
          }
        },
        {
          "output_type": "display_data",
          "data": {
            "image/png": "[encoded data removed]",
            "text/plain": [
              "<Figure size 432x288 with 1 Axes>"
            ]
          },
          "metadata": {
            "tags": []
          }
        },
        {
          "output_type": "display_data",
          "data": {
            "image/png": "[encoded data removed]",
            "text/plain": [
              "<Figure size 432x288 with 1 Axes>"
            ]
          },
          "metadata": {
            "tags": []
          }
        },
        {
          "output_type": "display_data",
          "data": {
            "image/png": "[encoded data removed]",
            "text/plain": [
              "<Figure size 432x288 with 1 Axes>"
            ]
          },
          "metadata": {
            "tags": []
          }
        },
        {
          "output_type": "display_data",
          "data": {
            "image/png": "[encoded data removed]",
            "text/plain": [
              "<Figure size 432x288 with 1 Axes>"
            ]
          },
          "metadata": {
            "tags": []
          }
        },
        {
          "output_type": "display_data",
          "data": {
            "image/png": "[encoded data removed]",
            "text/plain": [
              "<Figure size 432x288 with 1 Axes>"
            ]
          },
          "metadata": {
            "tags": []
          }
        },
        {
          "output_type": "display_data",
          "data": {
            "image/png": "[encoded data removed]",
            "text/plain": [
              "<Figure size 432x288 with 1 Axes>"
            ]
          },
          "metadata": {
            "tags": []
          }
        },
        {
          "output_type": "display_data",
          "data": {
            "image/png": "[encoded data removed]",
            "text/plain": [
              "<Figure size 432x288 with 1 Axes>"
            ]
          },
          "metadata": {
            "tags": []
          }
        },
        {
          "output_type": "display_data",
          "data": {
            "image/png": "[encoded data removed]",
            "text/plain": [
              "<Figure size 432x288 with 1 Axes>"
            ]
          },
          "metadata": {
            "tags": []
          }
        },
        {
          "output_type": "display_data",
          "data": {
            "image/png": "[encoded data removed]",
            "text/plain": [
              "<Figure size 432x288 with 1 Axes>"
            ]
          },
          "metadata": {
            "tags": []
          }
        },
        {
          "output_type": "display_data",
          "data": {
            "image/png": "[encoded data removed]",
            "text/plain": [
              "<Figure size 432x288 with 1 Axes>"
            ]
          },
          "metadata": {
            "tags": []
          }
        },
        {
          "output_type": "display_data",
          "data": {
            "image/png": "[encoded data removed]",
            "text/plain": [
              "<Figure size 432x288 with 1 Axes>"
            ]
          },
          "metadata": {
            "tags": []
          }
        },
        {
          "output_type": "display_data",
          "data": {
            "image/png": "[encoded data removed]",
            "text/plain": [
              "<Figure size 432x288 with 1 Axes>"
            ]
          },
          "metadata": {
            "tags": []
          }
        },
        {
          "output_type": "display_data",
          "data": {
            "image/png": "[encoded data removed]",
            "text/plain": [
              "<Figure size 432x288 with 1 Axes>"
            ]
          },
          "metadata": {
            "tags": []
          }
        },
        {
          "output_type": "display_data",
          "data": {
            "image/png": "[encoded data removed]",
            "text/plain": [
              "<Figure size 432x288 with 1 Axes>"
            ]
          },
          "metadata": {
            "tags": []
          }
        },
        {
          "output_type": "display_data",
          "data": {
            "image/png": "[encoded data removed]",
            "text/plain": [
              "<Figure size 432x288 with 1 Axes>"
            ]
          },
          "metadata": {
            "tags": []
          }
        },
        {
          "output_type": "display_data",
          "data": {
            "image/png": "[encoded data removed]",
            "text/plain": [
              "<Figure size 432x288 with 1 Axes>"
            ]
          },
          "metadata": {
            "tags": []
          }
        },
        {
          "output_type": "display_data",
          "data": {
            "image/png": "[encoded data removed]",
            "text/plain": [
              "<Figure size 432x288 with 1 Axes>"
            ]
          },
          "metadata": {
            "tags": []
          }
        },
        {
          "output_type": "display_data",
          "data": {
            "image/png": "[encoded data removed]",
            "text/plain": [
              "<Figure size 432x288 with 1 Axes>"
            ]
          },
          "metadata": {
            "tags": []
          }
        },
        {
          "output_type": "display_data",
          "data": {
            "image/png": "[encoded data removed]",
            "text/plain": [
              "<Figure size 432x288 with 1 Axes>"
            ]
          },
          "metadata": {
            "tags": []
          }
        },
        {
          "output_type": "display_data",
          "data": {
            "image/png": "[encoded data removed]",
            "text/plain": [
              "<Figure size 432x288 with 1 Axes>"
            ]
          },
          "metadata": {
            "tags": []
          }
        },
        {
          "output_type": "display_data",
          "data": {
            "image/png": "[encoded data removed]",
            "text/plain": [
              "<Figure size 432x288 with 1 Axes>"
            ]
          },
          "metadata": {
            "tags": []
          }
        },
        {
          "output_type": "display_data",
          "data": {
            "image/png": "[encoded data removed]",
            "text/plain": [
              "<Figure size 432x288 with 1 Axes>"
            ]
          },
          "metadata": {
            "tags": []
          }
        },
        {
          "output_type": "display_data",
          "data": {
            "image/png": "[encoded data removed]",
            "text/plain": [
              "<Figure size 432x288 with 1 Axes>"
            ]
          },
          "metadata": {
            "tags": []
          }
        },
        {
          "output_type": "display_data",
          "data": {
            "image/png": "[encoded data removed]",
            "text/plain": [
              "<Figure size 432x288 with 1 Axes>"
            ]
          },
          "metadata": {
            "tags": []
          }
        },
        {
          "output_type": "display_data",
          "data": {
            "image/png": "[encoded data removed]",
            "text/plain": [
              "<Figure size 432x288 with 1 Axes>"
            ]
          },
          "metadata": {
            "tags": []
          }
        },
        {
          "output_type": "display_data",
          "data": {
            "image/png": "[encoded data removed]",
            "text/plain": [
              "<Figure size 432x288 with 1 Axes>"
            ]
          },
          "metadata": {
            "tags": []
          }
        },
        {
          "output_type": "display_data",
          "data": {
            "image/png": "[encoded data removed]",
            "text/plain": [
              "<Figure size 432x288 with 1 Axes>"
            ]
          },
          "metadata": {
            "tags": []
          }
        },
        {
          "output_type": "display_data",
          "data": {
            "image/png": "[encoded data removed]",
            "text/plain": [
              "<Figure size 432x288 with 1 Axes>"
            ]
          },
          "metadata": {
            "tags": []
          }
        },
        {
          "output_type": "display_data",
          "data": {
            "image/png": "[encoded data removed]",
            "text/plain": [
              "<Figure size 432x288 with 1 Axes>"
            ]
          },
          "metadata": {
            "tags": []
          }
        },
        {
          "output_type": "display_data",
          "data": {
            "image/png": "[encoded data removed]",
            "text/plain": [
              "<Figure size 432x288 with 1 Axes>"
            ]
          },
          "metadata": {
            "tags": []
          }
        },
        {
          "output_type": "display_data",
          "data": {
            "image/png": "[encoded data removed]",
            "text/plain": [
              "<Figure size 432x288 with 1 Axes>"
            ]
          },
          "metadata": {
            "tags": []
          }
        },
        {
          "output_type": "display_data",
          "data": {
            "image/png": "[encoded data removed]",
            "text/plain": [
              "<Figure size 432x288 with 1 Axes>"
            ]
          },
          "metadata": {
            "tags": []
          }
        },
        {
          "output_type": "display_data",
          "data": {
            "image/png": "[encoded data removed]",
            "text/plain": [
              "<Figure size 432x288 with 1 Axes>"
            ]
          },
          "metadata": {
            "tags": []
          }
        },
        {
          "output_type": "display_data",
          "data": {
            "image/png": "[encoded data removed]",
            "text/plain": [
              "<Figure size 432x288 with 1 Axes>"
            ]
          },
          "metadata": {
            "tags": []
          }
        },
        {
          "output_type": "display_data",
          "data": {
            "image/png": "[encoded data removed]",
            "text/plain": [
              "<Figure size 432x288 with 1 Axes>"
            ]
          },
          "metadata": {
            "tags": []
          }
        },
        {
          "output_type": "display_data",
          "data": {
            "image/png": "[encoded data removed]",
            "text/plain": [
              "<Figure size 432x288 with 1 Axes>"
            ]
          },
          "metadata": {
            "tags": []
          }
        },
        {
          "output_type": "display_data",
          "data": {
            "image/png": "[encoded data removed]",
            "text/plain": [
              "<Figure size 432x288 with 1 Axes>"
            ]
          },
          "metadata": {
            "tags": []
          }
        },
        {
          "output_type": "display_data",
          "data": {
            "image/png": "[encoded data removed]",
            "text/plain": [
              "<Figure size 432x288 with 1 Axes>"
            ]
          },
          "metadata": {
            "tags": []
          }
        },
        {
          "output_type": "display_data",
          "data": {
            "image/png": "[encoded data removed]",
            "text/plain": [
              "<Figure size 432x288 with 1 Axes>"
            ]
          },
          "metadata": {
            "tags": []
          }
        },
        {
          "output_type": "display_data",
          "data": {
            "image/png": "[encoded data removed]",
            "text/plain": [
              "<Figure size 432x288 with 1 Axes>"
            ]
          },
          "metadata": {
            "tags": []
          }
        },
        {
          "output_type": "display_data",
          "data": {
            "image/png": "[encoded data removed]",
            "text/plain": [
              "<Figure size 432x288 with 1 Axes>"
            ]
          },
          "metadata": {
            "tags": []
          }
        },
        {
          "output_type": "display_data",
          "data": {
            "image/png": "[encoded data removed]",
            "text/plain": [
              "<Figure size 432x288 with 1 Axes>"
            ]
          },
          "metadata": {
            "tags": []
          }
        },
        {
          "output_type": "display_data",
          "data": {
            "image/png": "[encoded data removed]",
            "text/plain": [
              "<Figure size 432x288 with 1 Axes>"
            ]
          },
          "metadata": {
            "tags": []
          }
        },
        {
          "output_type": "display_data",
          "data": {
            "image/png": "[encoded data removed]",
            "text/plain": [
              "<Figure size 432x288 with 1 Axes>"
            ]
          },
          "metadata": {
            "tags": []
          }
        },
        {
          "output_type": "display_data",
          "data": {
            "image/png": "[encoded data removed]",
            "text/plain": [
              "<Figure size 432x288 with 1 Axes>"
            ]
          },
          "metadata": {
            "tags": []
          }
        },
        {
          "output_type": "display_data",
          "data": {
            "image/png": "[encoded data removed]",
            "text/plain": [
              "<Figure size 432x288 with 1 Axes>"
            ]
          },
          "metadata": {
            "tags": []
          }
        },
        {
          "output_type": "display_data",
          "data": {
            "image/png": "[encoded data removed]",
            "text/plain": [
              "<Figure size 432x288 with 1 Axes>"
            ]
          },
          "metadata": {
            "tags": []
          }
        },
        {
          "output_type": "display_data",
          "data": {
            "image/png": "[encoded data removed]",
            "text/plain": [
              "<Figure size 432x288 with 1 Axes>"
            ]
          },
          "metadata": {
            "tags": []
          }
        },
        {
          "output_type": "display_data",
          "data": {
            "image/png": "[encoded data removed]",
            "text/plain": [
              "<Figure size 432x288 with 1 Axes>"
            ]
          },
          "metadata": {
            "tags": []
          }
        },
        {
          "output_type": "display_data",
          "data": {
            "image/png": "[encoded data removed]",
            "text/plain": [
              "<Figure size 432x288 with 1 Axes>"
            ]
          },
          "metadata": {
            "tags": []
          }
        },
        {
          "output_type": "display_data",
          "data": {
            "image/png": "[encoded data removed]",
            "text/plain": [
              "<Figure size 432x288 with 1 Axes>"
            ]
          },
          "metadata": {
            "tags": []
          }
        }
      ]
    },
    {
      "cell_type": "code",
      "metadata": {
        "id": "K4hwVLmtqiay",
        "colab_type": "code",
        "colab": {}
      },
      "source": [
        ""
      ],
      "execution_count": 0,
      "outputs": []
    },
    {
      "cell_type": "markdown",
      "metadata": {
        "id": "jKVYujbNqiyR",
        "colab_type": "text"
      },
      "source": [
        "### Step 3: Transfer Learning"
      ]
    },
    {
      "cell_type": "code",
      "metadata": {
        "id": "3lTQNwWcqpbm",
        "colab_type": "code",
        "colab": {}
      },
      "source": [
        "from keras.layers import Flatten\n",
        "from keras.layers import Dense\n",
        "from keras.layers import Dropout\n",
        "from keras import Model\n",
        "from keras import optimizers\n",
        "from keras.applications.vgg16 import VGG16\n",
        "\n",
        "# set a size of image we will feed to our Model as input\n",
        "# this is the same size we should have our generator build images\n",
        "img_width, img_height = 150, 150"
      ],
      "execution_count": 0,
      "outputs": []
    },
    {
      "cell_type": "code",
      "metadata": {
        "id": "pK3JFBPuqphy",
        "colab_type": "code",
        "outputId": "c5afa4b3-8291-479b-ee2f-3ab4490136c8",
        "colab": {
          "base_uri": "https://localhost:8080/",
          "height": 124
        }
      },
      "source": [
        "# load VGG16 model in headless mode - include_top = False\n",
        "model = VGG16(weights = \"imagenet\", include_top=False, input_shape =(img_width, img_height, 3))"
      ],
      "execution_count": 0,
      "outputs": [
        {
          "output_type": "stream",
          "text": [
            "WARNING:tensorflow:From /usr/local/lib/python3.6/dist-packages/tensorflow/python/framework/op_def_library.py:263: colocate_with (from tensorflow.python.framework.ops) is deprecated and will be removed in a future version.\n",
            "Instructions for updating:\n",
            "Colocations handled automatically by placer.\n",
            "Downloading data from https://github.com/fchollet/deep-learning-models/releases/download/v0.1/vgg16_weights_tf_dim_ordering_tf_kernels_notop.h5\n",
            "58892288/58889256 [==============================] - 1s 0us/step\n"
          ],
          "name": "stdout"
        }
      ]
    },
    {
      "cell_type": "code",
      "metadata": {
        "id": "CUmB9ZJjqzvz",
        "colab_type": "code",
        "colab": {}
      },
      "source": [
        "# Freeze all the feature-extractor layers which you don't want to train.\n",
        "for layer in model.layers:\n",
        "  layer.trainable = False"
      ],
      "execution_count": 0,
      "outputs": []
    },
    {
      "cell_type": "code",
      "metadata": {
        "id": "UCscsnWNqz1B",
        "colab_type": "code",
        "outputId": "37c7df02-9aa4-41b5-fdd0-ae3d582294de",
        "colab": {
          "base_uri": "https://localhost:8080/",
          "height": 89
        }
      },
      "source": [
        "# Add custom Layers for our Binary Classification problem\n",
        "x = model.output\n",
        "x = Flatten()(x)\n",
        "x = Dense(512, activation=\"relu\")(x)\n",
        "x = Dropout(0.5)(x)\n",
        "x = Dense(64, activation=\"relu\")(x)\n",
        "predictions = Dense(1, activation=\"sigmoid\")(x)"
      ],
      "execution_count": 0,
      "outputs": [
        {
          "output_type": "stream",
          "text": [
            "WARNING:tensorflow:From /usr/local/lib/python3.6/dist-packages/keras/backend/tensorflow_backend.py:3445: calling dropout (from tensorflow.python.ops.nn_ops) with keep_prob is deprecated and will be removed in a future version.\n",
            "Instructions for updating:\n",
            "Please use `rate` instead of `keep_prob`. Rate should be set to `rate = 1 - keep_prob`.\n"
          ],
          "name": "stdout"
        }
      ]
    },
    {
      "cell_type": "code",
      "metadata": {
        "id": "k1MJ-JWXqz5m",
        "colab_type": "code",
        "outputId": "7ffbe36e-8ec4-41d6-bf01-6e34990c5e34",
        "colab": {
          "base_uri": "https://localhost:8080/",
          "height": 72
        }
      },
      "source": [
        "# create final Model which we will use\n",
        "model_final = Model(input = model.input, output = predictions)"
      ],
      "execution_count": 0,
      "outputs": [
        {
          "output_type": "stream",
          "text": [
            "/usr/local/lib/python3.6/dist-packages/ipykernel_launcher.py:1: UserWarning: Update your `Model` call to the Keras 2 API: `Model(inputs=Tensor(\"in..., outputs=Tensor(\"de...)`\n",
            "  \"\"\"Entry point for launching an IPython kernel.\n"
          ],
          "name": "stderr"
        }
      ]
    },
    {
      "cell_type": "code",
      "metadata": {
        "id": "TlH9kz3Rqz72",
        "colab_type": "code",
        "outputId": "a72a638a-c353-4378-f3f2-09d42cbad02d",
        "colab": {
          "base_uri": "https://localhost:8080/",
          "height": 972
        }
      },
      "source": [
        "# show summary of this new Model\n",
        "model_final.summary()"
      ],
      "execution_count": 0,
      "outputs": [
        {
          "output_type": "stream",
          "text": [
            "_________________________________________________________________\n",
            "Layer (type)                 Output Shape              Param #   \n",
            "=================================================================\n",
            "input_1 (InputLayer)         (None, 150, 150, 3)       0         \n",
            "_________________________________________________________________\n",
            "block1_conv1 (Conv2D)        (None, 150, 150, 64)      1792      \n",
            "_________________________________________________________________\n",
            "block1_conv2 (Conv2D)        (None, 150, 150, 64)      36928     \n",
            "_________________________________________________________________\n",
            "block1_pool (MaxPooling2D)   (None, 75, 75, 64)        0         \n",
            "_________________________________________________________________\n",
            "block2_conv1 (Conv2D)        (None, 75, 75, 128)       73856     \n",
            "_________________________________________________________________\n",
            "block2_conv2 (Conv2D)        (None, 75, 75, 128)       147584    \n",
            "_________________________________________________________________\n",
            "block2_pool (MaxPooling2D)   (None, 37, 37, 128)       0         \n",
            "_________________________________________________________________\n",
            "block3_conv1 (Conv2D)        (None, 37, 37, 256)       295168    \n",
            "_________________________________________________________________\n",
            "block3_conv2 (Conv2D)        (None, 37, 37, 256)       590080    \n",
            "_________________________________________________________________\n",
            "block3_conv3 (Conv2D)        (None, 37, 37, 256)       590080    \n",
            "_________________________________________________________________\n",
            "block3_pool (MaxPooling2D)   (None, 18, 18, 256)       0         \n",
            "_________________________________________________________________\n",
            "block4_conv1 (Conv2D)        (None, 18, 18, 512)       1180160   \n",
            "_________________________________________________________________\n",
            "block4_conv2 (Conv2D)        (None, 18, 18, 512)       2359808   \n",
            "_________________________________________________________________\n",
            "block4_conv3 (Conv2D)        (None, 18, 18, 512)       2359808   \n",
            "_________________________________________________________________\n",
            "block4_pool (MaxPooling2D)   (None, 9, 9, 512)         0         \n",
            "_________________________________________________________________\n",
            "block5_conv1 (Conv2D)        (None, 9, 9, 512)         2359808   \n",
            "_________________________________________________________________\n",
            "block5_conv2 (Conv2D)        (None, 9, 9, 512)         2359808   \n",
            "_________________________________________________________________\n",
            "block5_conv3 (Conv2D)        (None, 9, 9, 512)         2359808   \n",
            "_________________________________________________________________\n",
            "block5_pool (MaxPooling2D)   (None, 4, 4, 512)         0         \n",
            "_________________________________________________________________\n",
            "flatten_1 (Flatten)          (None, 8192)              0         \n",
            "_________________________________________________________________\n",
            "dense_1 (Dense)              (None, 512)               4194816   \n",
            "_________________________________________________________________\n",
            "dropout_1 (Dropout)          (None, 512)               0         \n",
            "_________________________________________________________________\n",
            "dense_2 (Dense)              (None, 64)                32832     \n",
            "_________________________________________________________________\n",
            "dense_3 (Dense)              (None, 1)                 65        \n",
            "=================================================================\n",
            "Total params: 18,942,401\n",
            "Trainable params: 4,227,713\n",
            "Non-trainable params: 14,714,688\n",
            "_________________________________________________________________\n"
          ],
          "name": "stdout"
        }
      ]
    },
    {
      "cell_type": "code",
      "metadata": {
        "id": "vR8vVvo-qzy-",
        "colab_type": "code",
        "colab": {}
      },
      "source": [
        ""
      ],
      "execution_count": 0,
      "outputs": []
    },
    {
      "cell_type": "markdown",
      "metadata": {
        "id": "R6c4H9fJsNde",
        "colab_type": "text"
      },
      "source": [
        "### Step 4: Create Training and Validation Generators to Load and Normalize Images from Directory"
      ]
    },
    {
      "cell_type": "code",
      "metadata": {
        "id": "5MnpAbejsRu-",
        "colab_type": "code",
        "colab": {}
      },
      "source": [
        "# validation images here\n",
        "validation_dir = './LOGOS_DATTARAJ/validation'"
      ],
      "execution_count": 0,
      "outputs": []
    },
    {
      "cell_type": "code",
      "metadata": {
        "id": "hfoTbe9XsRx9",
        "colab_type": "code",
        "colab": {}
      },
      "source": [
        "# we will generate 1 image at a time - we could do so in batches\n",
        "gen_batch_size = 1"
      ],
      "execution_count": 0,
      "outputs": []
    },
    {
      "cell_type": "code",
      "metadata": {
        "id": "1xluMkuZsR0e",
        "colab_type": "code",
        "colab": {}
      },
      "source": [
        "# we will create a generator of generating validation data\n",
        "# we will apply only scaling to this generator nothing else\n",
        "validation_datagen = ImageDataGenerator(rescale=1./255)"
      ],
      "execution_count": 0,
      "outputs": []
    },
    {
      "cell_type": "code",
      "metadata": {
        "id": "DK6kX57esR2s",
        "colab_type": "code",
        "outputId": "ae00dfaa-da40-4362-c651-9ae6338d1a4f",
        "colab": {
          "base_uri": "https://localhost:8080/",
          "height": 34
        }
      },
      "source": [
        "# this is a similar generator, for validation data\n",
        "validation_generator = validation_datagen.flow_from_directory(\n",
        "          validation_dir,\n",
        "          target_size=(150, 150),\n",
        "          batch_size=gen_batch_size,\n",
        "          class_mode='binary')"
      ],
      "execution_count": 0,
      "outputs": [
        {
          "output_type": "stream",
          "text": [
            "Found 10 images belonging to 2 classes.\n"
          ],
          "name": "stdout"
        }
      ]
    },
    {
      "cell_type": "code",
      "metadata": {
        "id": "fpGUz13JsR68",
        "colab_type": "code",
        "colab": {}
      },
      "source": [
        ""
      ],
      "execution_count": 0,
      "outputs": []
    },
    {
      "cell_type": "markdown",
      "metadata": {
        "id": "mPHZty8os7YZ",
        "colab_type": "text"
      },
      "source": [
        "### Step 5: Training The Model"
      ]
    },
    {
      "cell_type": "code",
      "metadata": {
        "id": "iqpm28PKs6Qt",
        "colab_type": "code",
        "colab": {}
      },
      "source": [
        "model_final.compile(optimizer=\"adam\", loss=\"binary_crossentropy\", metrics=[\"accuracy\"])"
      ],
      "execution_count": 0,
      "outputs": []
    },
    {
      "cell_type": "code",
      "metadata": {
        "id": "2LXJS62CsR_Y",
        "colab_type": "code",
        "outputId": "81a25d5f-8b04-4097-c9ea-71fa9cfc91d1",
        "colab": {
          "base_uri": "https://localhost:8080/",
          "height": 176
        }
      },
      "source": [
        "# Train the model\n",
        "model_final.fit_generator(\n",
        "      train_generator,\n",
        "      steps_per_epoch = 1000,\n",
        "      epochs = 2,\n",
        "      validation_data = validation_generator, validation_steps = 100\n",
        "      )"
      ],
      "execution_count": 0,
      "outputs": [
        {
          "output_type": "stream",
          "text": [
            "WARNING:tensorflow:From /usr/local/lib/python3.6/dist-packages/tensorflow/python/ops/math_ops.py:3066: to_int32 (from tensorflow.python.ops.math_ops) is deprecated and will be removed in a future version.\n",
            "Instructions for updating:\n",
            "Use tf.cast instead.\n",
            "Epoch 1/2\n",
            "1000/1000 [==============================] - 341s 341ms/step - loss: 0.1218 - acc: 0.9630 - val_loss: 0.7595 - val_acc: 0.8000\n",
            "Epoch 2/2\n",
            "1000/1000 [==============================] - 341s 341ms/step - loss: 0.1808 - acc: 0.9750 - val_loss: 1.9115 - val_acc: 0.8000\n"
          ],
          "name": "stdout"
        },
        {
          "output_type": "execute_result",
          "data": {
            "text/plain": [
              "<keras.callbacks.History at 0x7fba5d7a6860>"
            ]
          },
          "metadata": {
            "tags": []
          },
          "execution_count": 20
        }
      ]
    },
    {
      "cell_type": "markdown",
      "metadata": {
        "id": "Q1Gswcios6tL",
        "colab_type": "text"
      },
      "source": [
        "### Step 6: Make Predictions with Our New Model"
      ]
    },
    {
      "cell_type": "code",
      "metadata": {
        "id": "YerWUc1BvX2b",
        "colab_type": "code",
        "colab": {}
      },
      "source": [
        "# Download 2 test images to validate our Model\n",
        "test1= \"test1.png\"\n",
        "\n",
        "# the second image\n",
        "test2 = \"test2.png\""
      ],
      "execution_count": 0,
      "outputs": []
    },
    {
      "cell_type": "code",
      "metadata": {
        "id": "J8nsPFyvvn6F",
        "colab_type": "code",
        "colab": {}
      },
      "source": [
        "# The Prediction\n",
        "from keras.preprocessing.image import load_img\n",
        "from keras.preprocessing.image import img_to_array\n",
        "from keras.applications.vgg16 import preprocess_input\n",
        "import numpy as np\n",
        "\n",
        "\n",
        "# function that reads image, shows it on-screen and makes prediction\n",
        "def predict_for(img_name):\n",
        "  # load image from file - VGG16 takes (244,244) input\n",
        "  myimg = load_img(img_name, target_size=(150, 150))\n",
        "  plt.imshow(myimg)\n",
        "  plt.show()\n",
        "  \n",
        "  # convert image pixels to array\n",
        "  myimg = img_to_array(myimg)\n",
        "  myimg = np.expand_dims(myimg, axis=0)\n",
        "  \n",
        "  # prepare image for the VGG model\n",
        "  myimg = preprocess_input(myimg)\n",
        "  \n",
        "  # predict probability for all 1000 classes\n",
        "  pred = int(model_final.predict(myimg)[0][0])\n",
        "  print('Prediction for %s: %s'%(img_name, class_names[pred]))"
      ],
      "execution_count": 0,
      "outputs": []
    },
    {
      "cell_type": "code",
      "metadata": {
        "id": "toMpW_DPvn9k",
        "colab_type": "code",
        "outputId": "0261c4f4-72fa-4b92-efad-a22ecca43db1",
        "colab": {
          "base_uri": "https://localhost:8080/",
          "height": 556
        }
      },
      "source": [
        "predict_for('test1.png')\n",
        "predict_for('test2.jpg')"
      ],
      "execution_count": 0,
      "outputs": [
        {
          "output_type": "display_data",
          "data": {
            "image/png": "[encoded data removed]",
            "text/plain": [
              "<Figure size 432x288 with 1 Axes>"
            ]
          },
          "metadata": {
            "tags": []
          }
        },
        {
          "output_type": "stream",
          "text": [
            "Prediction for test1.png: Coca-Cola\n"
          ],
          "name": "stdout"
        },
        {
          "output_type": "display_data",
          "data": {
            "image/png": "[encoded data removed]",
            "text/plain": [
              "<Figure size 432x288 with 1 Axes>"
            ]
          },
          "metadata": {
            "tags": []
          }
        },
        {
          "output_type": "stream",
          "text": [
            "Prediction for test2.jpg: Pepsi\n"
          ],
          "name": "stdout"
        }
      ]
    },
    {
      "cell_type": "code",
      "metadata": {
        "id": "4rt--KJVvoAa",
        "colab_type": "code",
        "colab": {}
      },
      "source": [
        ""
      ],
      "execution_count": 0,
      "outputs": []
    },
    {
      "cell_type": "code",
      "metadata": {
        "id": "uRIwRDeTvn20",
        "colab_type": "code",
        "colab": {}
      },
      "source": [
        ""
      ],
      "execution_count": 0,
      "outputs": []
    },
    {
      "cell_type": "markdown",
      "metadata": {
        "id": "EmDBDzbkwYXs",
        "colab_type": "text"
      },
      "source": [
        "### Step 6: Save the Trained Model to an H5 File"
      ]
    },
    {
      "cell_type": "code",
      "metadata": {
        "id": "05vmzvriwe5Y",
        "colab_type": "code",
        "colab": {}
      },
      "source": [
        "# save the trained Model to a H5 file\n",
        "model_final.save('my_logo_model.h5')"
      ],
      "execution_count": 0,
      "outputs": []
    },
    {
      "cell_type": "code",
      "metadata": {
        "id": "oAL0z2Alwe-H",
        "colab_type": "code",
        "colab": {}
      },
      "source": [
        ""
      ],
      "execution_count": 0,
      "outputs": []
    },
    {
      "cell_type": "code",
      "metadata": {
        "id": "VIrL2qXiwfA0",
        "colab_type": "code",
        "colab": {}
      },
      "source": [
        ""
      ],
      "execution_count": 0,
      "outputs": []
    },
    {
      "cell_type": "markdown",
      "metadata": {
        "id": "ZLhUgaW3w4Nx",
        "colab_type": "text"
      },
      "source": [
        "### Step 7: Load the Saved Model from an H5 file and Make Predictions"
      ]
    },
    {
      "cell_type": "code",
      "metadata": {
        "id": "nr8FeA5sxNjp",
        "colab_type": "code",
        "colab": {}
      },
      "source": [
        "from keras.models import load_model\n",
        "\n",
        "\n",
        "# load Model from saved H5 file\n",
        "new_model = load_model('my_logo_model.h5')"
      ],
      "execution_count": 0,
      "outputs": []
    },
    {
      "cell_type": "code",
      "metadata": {
        "id": "0g2vEU1Fw7HS",
        "colab_type": "code",
        "outputId": "ae2a690a-c0d4-4491-a097-a331c727925a",
        "colab": {
          "base_uri": "https://localhost:8080/",
          "height": 208
        }
      },
      "source": [
        "# download an image to test our model on\n",
        "image_url = \"http://yourblackworld.net/wp-content/uploads/2018/02/pepsi-cans.jpg\"\n",
        "\n",
        "!wget -O test.jpg {image_url}"
      ],
      "execution_count": 0,
      "outputs": [
        {
          "output_type": "stream",
          "text": [
            "--2019-06-05 13:56:44--  http://yourblackworld.net/wp-content/uploads/2018/02/pepsi-cans.jpg\n",
            "Resolving yourblackworld.net (yourblackworld.net)... 184.154.31.58\n",
            "Connecting to yourblackworld.net (yourblackworld.net)|184.154.31.58|:80... connected.\n",
            "HTTP request sent, awaiting response... 200 OK\n",
            "Length: 62473 (61K) [image/jpeg]\n",
            "Saving to: ‘test.jpg’\n",
            "\n",
            "\rtest.jpg              0%[                    ]       0  --.-KB/s               \rtest.jpg            100%[===================>]  61.01K  --.-KB/s    in 0.03s   \n",
            "\n",
            "2019-06-05 13:56:44 (1.84 MB/s) - ‘test.jpg’ saved [62473/62473]\n",
            "\n"
          ],
          "name": "stdout"
        }
      ]
    },
    {
      "cell_type": "code",
      "metadata": {
        "id": "ECP1U5GPKaVa",
        "colab_type": "code",
        "colab": {}
      },
      "source": [
        ""
      ],
      "execution_count": 0,
      "outputs": []
    },
    {
      "cell_type": "code",
      "metadata": {
        "id": "LJ4HZbolw7KX",
        "colab_type": "code",
        "colab": {}
      },
      "source": [
        "# Now let's do the prediction on this image with new model\n",
        "# function that reads an image and makes prediction\n",
        "def new_predict_for(img_name):\n",
        "  # load image from file - VGG16 takes (244,244) input\n",
        "  myimg = load_img(img_name, target_size=(150, 150))\n",
        "  plt.imshow(myimg)\n",
        "  plt.show()\n",
        "  \n",
        "  # convert image pixels to array\n",
        "  myimg = img_to_array(myimg)\n",
        "  myimg = np.expand_dims(myimg, axis=0)\n",
        "  \n",
        "  # prepare image for the VGG model\n",
        "  myimg = preprocess_input(myimg)\n",
        "  \n",
        "  # predict probability for all 1000 classes\n",
        "  pred = int(new_model.predict(myimg)[0][0])\n",
        "  print('Prediction for %s: %s'%(img_name, class_names[pred]))"
      ],
      "execution_count": 0,
      "outputs": []
    },
    {
      "cell_type": "code",
      "metadata": {
        "id": "DT-M_yCrxdcN",
        "colab_type": "code",
        "outputId": "d98da925-392e-4909-b777-d2643b40510d",
        "colab": {
          "base_uri": "https://localhost:8080/",
          "height": 286
        }
      },
      "source": [
        "new_predict_for('test.jpg')"
      ],
      "execution_count": 0,
      "outputs": [
        {
          "output_type": "display_data",
          "data": {
            "image/png": "[encoded data removed]",
            "text/plain": [
              "<Figure size 432x288 with 1 Axes>"
            ]
          },
          "metadata": {
            "tags": []
          }
        },
        {
          "output_type": "stream",
          "text": [
            "Prediction for test.jpg: Coca-Cola\n"
          ],
          "name": "stdout"
        }
      ]
    },
    {
      "cell_type": "code",
      "metadata": {
        "id": "jJ5txc6lxdYr",
        "colab_type": "code",
        "colab": {}
      },
      "source": [
        ""
      ],
      "execution_count": 0,
      "outputs": []
    },
    {
      "cell_type": "code",
      "metadata": {
        "id": "egbsA43QK3vB",
        "colab_type": "code",
        "colab": {}
      },
      "source": [
        ""
      ],
      "execution_count": 0,
      "outputs": []
    },
    {
      "cell_type": "code",
      "metadata": {
        "id": "q-pYeau1K35v",
        "colab_type": "code",
        "colab": {}
      },
      "source": [
        ""
      ],
      "execution_count": 0,
      "outputs": []
    },
    {
      "cell_type": "markdown",
      "metadata": {
        "id": "Mm09Q6-wK4rB",
        "colab_type": "text"
      },
      "source": [
        "# Flask With Swagger"
      ]
    },
    {
      "cell_type": "code",
      "metadata": {
        "id": "WTg61kRDK31f",
        "colab_type": "code",
        "colab": {}
      },
      "source": [
        "from keras.models import load_model\n",
        "from PIL import Image\n",
        "import numpy as np\n",
        "from flasgger import Swagger\n",
        "from flask import Flask, request\n",
        "\n",
        "app = Flask(__name__)\n",
        "swagger = Swagger(app)\n",
        "\n",
        "model = load_model('my_logo_model.h5')\n",
        "\n",
        "@app.route('/', methods=['POST', 'GET'])\n",
        "def predict_logo():\n",
        "    '''\n",
        "      parameters:\n",
        "          name: image\n",
        "          in: forrmData\n",
        "          type: file\n",
        "          required: True\n",
        "    '''\n",
        "    img = Image.open(request.files['image'])\n",
        "    img2arr = np.array(img).reshape((1, 1, 28, 28))\n",
        "    return str(np.argmax(model.predict(img2arr)))\n",
        "\n",
        "\n",
        "    if __name__== '__main__':\n",
        "        app.run(port='5000')"
      ],
      "execution_count": 0,
      "outputs": []
    },
    {
      "cell_type": "code",
      "metadata": {
        "id": "2pY4Eid1LBw7",
        "colab_type": "code",
        "colab": {}
      },
      "source": [
        "# !pip install flasgger"
      ],
      "execution_count": 0,
      "outputs": []
    }
  ]
}