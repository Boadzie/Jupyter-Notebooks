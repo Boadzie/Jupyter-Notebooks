{
  "nbformat": 4,
  "nbformat_minor": 0,
  "metadata": {
    "colab": {
      "name": " Churn Analysis with Artificial Neural Net.ipynb",
      "provenance": [],
      "collapsed_sections": [],
      "include_colab_link": true
    },
    "kernelspec": {
      "name": "python3",
      "display_name": "Python 3"
    }
  },
  "cells": [
    {
      "cell_type": "markdown",
      "metadata": {
        "id": "view-in-github",
        "colab_type": "text"
      },
      "source": [
        "<a href=\"https://colab.research.google.com/github/Boadzie/Jupyter-Notebooks/blob/master/Churn_Analysis_with_Artificial_Neural_Net.ipynb\" target=\"_parent\"><img src=\"https://colab.research.google.com/assets/colab-badge.svg\" alt=\"Open In Colab\"/></a>"
      ]
    },
    {
      "cell_type": "markdown",
      "metadata": {
        "id": "QJEahYSo7F0h",
        "colab_type": "text"
      },
      "source": [
        "# Churn Analysis using Artificial Neural Net with Python\n",
        "### This is a project by Boadzie Daniel [website](https://www.boadzie.herokuapp.com)\n",
        "\n",
        "### The project design follow the CROSS INDUSTRIAL STANDARD FOR DATA MINING(CRIS-DM)"
      ]
    },
    {
      "cell_type": "markdown",
      "metadata": {
        "id": "EbOCxbBj-fc1",
        "colab_type": "text"
      },
      "source": [
        "## Business Understanding\n",
        "\n",
        "#### Based some some features of a customer, we want to predict whether he/she will quit doing business with the bank on not.\n"
      ]
    },
    {
      "cell_type": "markdown",
      "metadata": {
        "id": "padEygiv_a-M",
        "colab_type": "text"
      },
      "source": [
        "### Part 1 - Data Preprocessing\n",
        "\n",
        "\n"
      ]
    },
    {
      "cell_type": "code",
      "metadata": {
        "id": "Wlx8pj9z_hPk",
        "colab_type": "code",
        "colab": {}
      },
      "source": [
        "# Importing the libraries\n",
        "import numpy as np\n",
        "import matplotlib.pyplot as plt\n",
        "import pandas as pd\n"
      ],
      "execution_count": 0,
      "outputs": []
    },
    {
      "cell_type": "code",
      "metadata": {
        "id": "csqCyhRfI2ry",
        "colab_type": "code",
        "outputId": "0c3a1e94-d4a9-4693-8132-eba9f8b3d2af",
        "colab": {
          "resources": {
            "http://localhost:8080/nbextensions/google.colab/files.js": {
              "data": "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",
              "ok": true,
              "headers": [
                [
                  "content-type",
                  "application/javascript"
                ]
              ],
              "status": 200,
              "status_text": ""
            }
          },
          "base_uri": "https://localhost:8080/",
          "height": 92
        }
      },
      "source": [
        "# Getting the filles into colab\n",
        "from google.colab import files\n",
        "uploaded = files.upload()\n",
        "\n",
        "for fn in uploaded.keys():\n",
        "  print('User uploaded file \"{name}\" with length {length} bytes'.format(\n",
        "      name=fn, length=len(uploaded[fn])))"
      ],
      "execution_count": 0,
      "outputs": [
        {
          "output_type": "display_data",
          "data": {
            "text/html": [
              "\n",
              "     <input type=\"file\" id=\"files-705f7034-bb83-4782-a983-ae86f9d0dbc1\" name=\"files[]\" multiple disabled />\n",
              "     <output id=\"result-705f7034-bb83-4782-a983-ae86f9d0dbc1\">\n",
              "      Upload widget is only available when the cell has been executed in the\n",
              "      current browser session. Please rerun this cell to enable.\n",
              "      </output>\n",
              "      <script src=\"/nbextensions/google.colab/files.js\"></script> "
            ],
            "text/plain": [
              "<IPython.core.display.HTML object>"
            ]
          },
          "metadata": {
            "tags": []
          }
        },
        {
          "output_type": "stream",
          "text": [
            "Saving Churn_Modelling.csv to Churn_Modelling.csv\n",
            "User uploaded file \"Churn_Modelling.csv\" with length 684858 bytes\n"
          ],
          "name": "stdout"
        }
      ]
    },
    {
      "cell_type": "code",
      "metadata": {
        "id": "ik0Tvmlj_meM",
        "colab_type": "code",
        "colab": {}
      },
      "source": [
        "\n",
        "# Importing the dataset\n",
        "dataset = pd.read_csv(\"Churn_Modelling.csv\")\n",
        "X = dataset.iloc[:, 3:13].values\n",
        "y = dataset.iloc[:, 13].values"
      ],
      "execution_count": 0,
      "outputs": []
    },
    {
      "cell_type": "code",
      "metadata": {
        "id": "574iFTJn_tm_",
        "colab_type": "code",
        "colab": {}
      },
      "source": [
        "# Encoding categorical data\n",
        "from sklearn.preprocessing import LabelEncoder, OneHotEncoder\n",
        "labelencoder_X_1 = LabelEncoder()\n",
        "X[:, 1] = labelencoder_X_1.fit_transform(X[:, 1])\n",
        "labelencoder_X_2 = LabelEncoder()\n",
        "X[:, 2] = labelencoder_X_2.fit_transform(X[:, 2])\n",
        "onehotencoder = OneHotEncoder(categorical_features = [1])\n",
        "X = onehotencoder.fit_transform(X).toarray()\n",
        "X = X[:, 1:]"
      ],
      "execution_count": 0,
      "outputs": []
    },
    {
      "cell_type": "code",
      "metadata": {
        "id": "5RcqeJ2H_6Mf",
        "colab_type": "code",
        "colab": {}
      },
      "source": [
        "# Splitting the dataset into the Training set and Test set\n",
        "from sklearn.model_selection import train_test_split\n",
        "X_train, X_test, y_train, y_test = train_test_split(X, y, test_size = 0.2, random_state = 0)"
      ],
      "execution_count": 0,
      "outputs": []
    },
    {
      "cell_type": "code",
      "metadata": {
        "id": "xp8TBssuAGo_",
        "colab_type": "code",
        "colab": {}
      },
      "source": [
        "\n",
        "# Feature Scaling\n",
        "from sklearn.preprocessing import StandardScaler\n",
        "sc = StandardScaler()\n",
        "X_train = sc.fit_transform(X_train)\n",
        "X_test = sc.transform(X_test)"
      ],
      "execution_count": 0,
      "outputs": []
    },
    {
      "cell_type": "markdown",
      "metadata": {
        "id": "wiExm-4gAJOI",
        "colab_type": "text"
      },
      "source": [
        "### Part 2 - Now let's make the ANN!\n"
      ]
    },
    {
      "cell_type": "code",
      "metadata": {
        "id": "mXxrWZknAkhf",
        "colab_type": "code",
        "colab": {}
      },
      "source": [
        "# Importing the Keras libraries and packages\n",
        "import keras\n",
        "from keras.models import Sequential\n",
        "from keras.layers import Dense"
      ],
      "execution_count": 0,
      "outputs": []
    },
    {
      "cell_type": "code",
      "metadata": {
        "id": "Q762TxZwBIo4",
        "colab_type": "code",
        "colab": {}
      },
      "source": [
        "# Initialising the ANN\n",
        "classifier = Sequential()"
      ],
      "execution_count": 0,
      "outputs": []
    },
    {
      "cell_type": "code",
      "metadata": {
        "id": "i1zRnjnGBTbd",
        "colab_type": "code",
        "outputId": "36e1ec14-00a1-4526-89c0-4f9fa1a8f8b4",
        "colab": {
          "base_uri": "https://localhost:8080/",
          "height": 73
        }
      },
      "source": [
        "# Adding the input layer and the first hidden layer\n",
        "classifier.add(Dense(output_dim = 6, init = 'uniform', activation = 'relu', input_dim = 11))"
      ],
      "execution_count": 0,
      "outputs": [
        {
          "output_type": "stream",
          "text": [
            "/usr/local/lib/python3.6/dist-packages/ipykernel_launcher.py:1: UserWarning: Update your `Dense` call to the Keras 2 API: `Dense(activation=\"relu\", input_dim=11, units=6, kernel_initializer=\"uniform\")`\n",
            "  \"\"\"Entry point for launching an IPython kernel.\n"
          ],
          "name": "stderr"
        }
      ]
    },
    {
      "cell_type": "code",
      "metadata": {
        "id": "x8SF8wVCBb87",
        "colab_type": "code",
        "outputId": "bf264725-bf06-43f1-d59b-4ef0e288b3ef",
        "colab": {
          "base_uri": "https://localhost:8080/",
          "height": 73
        }
      },
      "source": [
        "# Adding the second hidden layer\n",
        "classifier.add(Dense(output_dim = 6, init = 'uniform', activation = 'relu'))"
      ],
      "execution_count": 0,
      "outputs": [
        {
          "output_type": "stream",
          "text": [
            "/usr/local/lib/python3.6/dist-packages/ipykernel_launcher.py:1: UserWarning: Update your `Dense` call to the Keras 2 API: `Dense(activation=\"relu\", units=6, kernel_initializer=\"uniform\")`\n",
            "  \"\"\"Entry point for launching an IPython kernel.\n"
          ],
          "name": "stderr"
        }
      ]
    },
    {
      "cell_type": "code",
      "metadata": {
        "id": "or-1ep0QBlPE",
        "colab_type": "code",
        "outputId": "83c5c3e7-0ced-4754-fd39-c0e79cf178e5",
        "colab": {
          "base_uri": "https://localhost:8080/",
          "height": 73
        }
      },
      "source": [
        "# Adding the output layer\n",
        "classifier.add(Dense(output_dim = 1, init = 'uniform', activation = 'sigmoid'))"
      ],
      "execution_count": 0,
      "outputs": [
        {
          "output_type": "stream",
          "text": [
            "/usr/local/lib/python3.6/dist-packages/ipykernel_launcher.py:1: UserWarning: Update your `Dense` call to the Keras 2 API: `Dense(activation=\"sigmoid\", units=1, kernel_initializer=\"uniform\")`\n",
            "  \"\"\"Entry point for launching an IPython kernel.\n"
          ],
          "name": "stderr"
        }
      ]
    },
    {
      "cell_type": "code",
      "metadata": {
        "id": "HJDN8hVUB25-",
        "colab_type": "code",
        "colab": {}
      },
      "source": [
        "# Compiling the ANN\n",
        "classifier.compile(optimizer = 'adam', loss = 'binary_crossentropy', metrics = ['accuracy'])"
      ],
      "execution_count": 0,
      "outputs": []
    },
    {
      "cell_type": "code",
      "metadata": {
        "id": "uxt8yOaUCElX",
        "colab_type": "code",
        "outputId": "f24ec33d-8e84-4957-b035-7e00c170ba5a",
        "colab": {
          "base_uri": "https://localhost:8080/",
          "height": 3691
        }
      },
      "source": [
        "\n",
        "# Fitting the ANN to the Training set\n",
        "classifier.fit(X_train, y_train, batch_size = 10, nb_epoch = 100)"
      ],
      "execution_count": 0,
      "outputs": [
        {
          "output_type": "stream",
          "text": [
            "/usr/local/lib/python3.6/dist-packages/keras/models.py:981: UserWarning: The `nb_epoch` argument in `fit` has been renamed `epochs`.\n",
            "  warnings.warn('The `nb_epoch` argument in `fit` '\n"
          ],
          "name": "stderr"
        },
        {
          "output_type": "stream",
          "text": [
            "Epoch 1/100\n",
            "8000/8000 [==============================] - 1s 149us/step - loss: 0.5019 - acc: 0.7949\n",
            "Epoch 2/100\n",
            "8000/8000 [==============================] - 1s 120us/step - loss: 0.4141 - acc: 0.8225\n",
            "Epoch 3/100\n",
            "8000/8000 [==============================] - 1s 122us/step - loss: 0.4007 - acc: 0.8262\n",
            "Epoch 4/100\n",
            "8000/8000 [==============================] - 1s 123us/step - loss: 0.3923 - acc: 0.8284\n",
            "Epoch 5/100\n",
            "8000/8000 [==============================] - 1s 125us/step - loss: 0.3853 - acc: 0.8304\n",
            "Epoch 6/100\n",
            "8000/8000 [==============================] - 1s 126us/step - loss: 0.3806 - acc: 0.8311\n",
            "Epoch 7/100\n",
            "8000/8000 [==============================] - 1s 124us/step - loss: 0.3768 - acc: 0.8306\n",
            "Epoch 8/100\n",
            "8000/8000 [==============================] - 1s 122us/step - loss: 0.3739 - acc: 0.8421\n",
            "Epoch 9/100\n",
            "8000/8000 [==============================] - 1s 124us/step - loss: 0.3707 - acc: 0.8470\n",
            "Epoch 10/100\n",
            "2100/8000 [======>.......................] - ETA: 0s - loss: 0.3826 - acc: 0.8381"
          ],
          "name": "stdout"
        },
        {
          "output_type": "stream",
          "text": [
            "8000/8000 [==============================] - 1s 123us/step - loss: 0.3684 - acc: 0.8486\n",
            "Epoch 11/100\n",
            "8000/8000 [==============================] - 1s 126us/step - loss: 0.3660 - acc: 0.8496\n",
            "Epoch 12/100\n",
            "8000/8000 [==============================] - 1s 125us/step - loss: 0.3645 - acc: 0.8497\n",
            "Epoch 13/100\n",
            "8000/8000 [==============================] - 1s 123us/step - loss: 0.3626 - acc: 0.8524\n",
            "Epoch 14/100\n",
            "8000/8000 [==============================] - 1s 124us/step - loss: 0.3609 - acc: 0.8531\n",
            "Epoch 15/100\n",
            "8000/8000 [==============================] - 1s 123us/step - loss: 0.3598 - acc: 0.8527\n",
            "Epoch 16/100\n",
            "8000/8000 [==============================] - 1s 124us/step - loss: 0.3593 - acc: 0.8536\n",
            "Epoch 17/100\n",
            "8000/8000 [==============================] - 1s 125us/step - loss: 0.3576 - acc: 0.8521\n",
            "Epoch 18/100\n",
            "8000/8000 [==============================] - 1s 124us/step - loss: 0.3560 - acc: 0.8554\n",
            "Epoch 19/100\n",
            "2870/8000 [=========>....................] - ETA: 0s - loss: 0.3602 - acc: 0.8537"
          ],
          "name": "stdout"
        },
        {
          "output_type": "stream",
          "text": [
            "8000/8000 [==============================] - 1s 124us/step - loss: 0.3544 - acc: 0.8554\n",
            "Epoch 20/100\n",
            "8000/8000 [==============================] - 1s 125us/step - loss: 0.3529 - acc: 0.8566\n",
            "Epoch 21/100\n",
            "8000/8000 [==============================] - 1s 122us/step - loss: 0.3521 - acc: 0.8559\n",
            "Epoch 22/100\n",
            "8000/8000 [==============================] - 1s 125us/step - loss: 0.3503 - acc: 0.8570\n",
            "Epoch 23/100\n",
            "8000/8000 [==============================] - 1s 125us/step - loss: 0.3499 - acc: 0.8587\n",
            "Epoch 24/100\n",
            "8000/8000 [==============================] - 1s 124us/step - loss: 0.3487 - acc: 0.8590\n",
            "Epoch 25/100\n",
            "8000/8000 [==============================] - 1s 122us/step - loss: 0.3478 - acc: 0.8542\n",
            "Epoch 26/100\n",
            "8000/8000 [==============================] - 1s 123us/step - loss: 0.3474 - acc: 0.8582\n",
            "Epoch 27/100\n",
            "8000/8000 [==============================] - 1s 122us/step - loss: 0.3467 - acc: 0.8580\n",
            "Epoch 28/100\n",
            "2840/8000 [=========>....................] - ETA: 0s - loss: 0.3454 - acc: 0.8577"
          ],
          "name": "stdout"
        },
        {
          "output_type": "stream",
          "text": [
            "8000/8000 [==============================] - 1s 126us/step - loss: 0.3467 - acc: 0.8591\n",
            "Epoch 29/100\n",
            "8000/8000 [==============================] - 1s 125us/step - loss: 0.3461 - acc: 0.8590\n",
            "Epoch 30/100\n",
            "8000/8000 [==============================] - 1s 123us/step - loss: 0.3447 - acc: 0.8594\n",
            "Epoch 31/100\n",
            "8000/8000 [==============================] - 1s 124us/step - loss: 0.3442 - acc: 0.8591\n",
            "Epoch 32/100\n",
            "8000/8000 [==============================] - 1s 126us/step - loss: 0.3438 - acc: 0.8600\n",
            "Epoch 33/100\n",
            "8000/8000 [==============================] - 1s 123us/step - loss: 0.3438 - acc: 0.8611\n",
            "Epoch 34/100\n",
            "8000/8000 [==============================] - 1s 127us/step - loss: 0.3446 - acc: 0.8587\n",
            "Epoch 35/100\n",
            "8000/8000 [==============================] - 1s 124us/step - loss: 0.3433 - acc: 0.8605\n",
            "Epoch 36/100\n",
            "8000/8000 [==============================] - 1s 125us/step - loss: 0.3429 - acc: 0.8601\n",
            "Epoch 37/100\n",
            "2780/8000 [=========>....................] - ETA: 0s - loss: 0.3446 - acc: 0.8558"
          ],
          "name": "stdout"
        },
        {
          "output_type": "stream",
          "text": [
            "8000/8000 [==============================] - 1s 126us/step - loss: 0.3418 - acc: 0.8604\n",
            "Epoch 38/100\n",
            "8000/8000 [==============================] - 1s 127us/step - loss: 0.3420 - acc: 0.8604\n",
            "Epoch 39/100\n",
            "8000/8000 [==============================] - 1s 127us/step - loss: 0.3420 - acc: 0.8625\n",
            "Epoch 40/100\n",
            "8000/8000 [==============================] - 1s 125us/step - loss: 0.3423 - acc: 0.8610\n",
            "Epoch 41/100\n",
            "8000/8000 [==============================] - 1s 126us/step - loss: 0.3417 - acc: 0.8589\n",
            "Epoch 42/100\n",
            "8000/8000 [==============================] - 1s 124us/step - loss: 0.3407 - acc: 0.8610\n",
            "Epoch 43/100\n",
            "8000/8000 [==============================] - 1s 124us/step - loss: 0.3413 - acc: 0.8617\n",
            "Epoch 44/100\n",
            "8000/8000 [==============================] - 1s 123us/step - loss: 0.3417 - acc: 0.8577\n",
            "Epoch 45/100\n",
            "8000/8000 [==============================] - 1s 125us/step - loss: 0.3413 - acc: 0.8606\n",
            "Epoch 46/100\n",
            "2390/8000 [=======>......................] - ETA: 0s - loss: 0.3393 - acc: 0.8653"
          ],
          "name": "stdout"
        },
        {
          "output_type": "stream",
          "text": [
            "8000/8000 [==============================] - 1s 125us/step - loss: 0.3409 - acc: 0.8620\n",
            "Epoch 47/100\n",
            "8000/8000 [==============================] - 1s 126us/step - loss: 0.3411 - acc: 0.8610\n",
            "Epoch 48/100\n",
            "8000/8000 [==============================] - 1s 126us/step - loss: 0.3411 - acc: 0.8612\n",
            "Epoch 49/100\n",
            "8000/8000 [==============================] - 1s 123us/step - loss: 0.3403 - acc: 0.8590\n",
            "Epoch 50/100\n",
            "8000/8000 [==============================] - 1s 125us/step - loss: 0.3401 - acc: 0.8612\n",
            "Epoch 51/100\n",
            "8000/8000 [==============================] - 1s 125us/step - loss: 0.3409 - acc: 0.8591\n",
            "Epoch 52/100\n",
            "8000/8000 [==============================] - 1s 123us/step - loss: 0.3396 - acc: 0.8599\n",
            "Epoch 53/100\n",
            "8000/8000 [==============================] - 1s 125us/step - loss: 0.3398 - acc: 0.8605\n",
            "Epoch 54/100\n",
            "8000/8000 [==============================] - 1s 126us/step - loss: 0.3400 - acc: 0.8594\n",
            "Epoch 55/100\n",
            "2460/8000 [========>.....................] - ETA: 0s - loss: 0.3217 - acc: 0.8748"
          ],
          "name": "stdout"
        },
        {
          "output_type": "stream",
          "text": [
            "8000/8000 [==============================] - 1s 124us/step - loss: 0.3399 - acc: 0.8601\n",
            "Epoch 56/100\n",
            "8000/8000 [==============================] - 1s 125us/step - loss: 0.3392 - acc: 0.8597\n",
            "Epoch 57/100\n",
            "8000/8000 [==============================] - 1s 123us/step - loss: 0.3396 - acc: 0.8594\n",
            "Epoch 58/100\n",
            "8000/8000 [==============================] - 1s 122us/step - loss: 0.3396 - acc: 0.8629\n",
            "Epoch 59/100\n",
            "8000/8000 [==============================] - 1s 123us/step - loss: 0.3393 - acc: 0.8617\n",
            "Epoch 60/100\n",
            "8000/8000 [==============================] - 1s 122us/step - loss: 0.3393 - acc: 0.8627\n",
            "Epoch 61/100\n",
            "8000/8000 [==============================] - 1s 121us/step - loss: 0.3387 - acc: 0.8629\n",
            "Epoch 62/100\n",
            "8000/8000 [==============================] - 1s 123us/step - loss: 0.3387 - acc: 0.8601\n",
            "Epoch 63/100\n",
            "8000/8000 [==============================] - 1s 124us/step - loss: 0.3380 - acc: 0.8610\n",
            "Epoch 64/100\n",
            "3380/8000 [===========>..................] - ETA: 0s - loss: 0.3361 - acc: 0.8586"
          ],
          "name": "stdout"
        },
        {
          "output_type": "stream",
          "text": [
            "8000/8000 [==============================] - 1s 121us/step - loss: 0.3378 - acc: 0.8607\n",
            "Epoch 65/100\n",
            "8000/8000 [==============================] - 1s 123us/step - loss: 0.3386 - acc: 0.8615\n",
            "Epoch 66/100\n",
            "8000/8000 [==============================] - 1s 123us/step - loss: 0.3373 - acc: 0.8611\n",
            "Epoch 67/100\n",
            "8000/8000 [==============================] - 1s 123us/step - loss: 0.3371 - acc: 0.8602\n",
            "Epoch 68/100\n",
            "8000/8000 [==============================] - 1s 121us/step - loss: 0.3369 - acc: 0.8601\n",
            "Epoch 69/100\n",
            "8000/8000 [==============================] - 1s 123us/step - loss: 0.3372 - acc: 0.8601\n",
            "Epoch 70/100\n",
            "8000/8000 [==============================] - 1s 123us/step - loss: 0.3360 - acc: 0.8591\n",
            "Epoch 71/100\n",
            "8000/8000 [==============================] - 1s 121us/step - loss: 0.3367 - acc: 0.8607\n",
            "Epoch 72/100\n",
            "8000/8000 [==============================] - 1s 125us/step - loss: 0.3359 - acc: 0.8620\n",
            "Epoch 73/100\n",
            "3300/8000 [===========>..................] - ETA: 0s - loss: 0.3340 - acc: 0.8615"
          ],
          "name": "stdout"
        },
        {
          "output_type": "stream",
          "text": [
            "8000/8000 [==============================] - 1s 123us/step - loss: 0.3351 - acc: 0.8596\n",
            "Epoch 74/100\n",
            "8000/8000 [==============================] - 1s 124us/step - loss: 0.3347 - acc: 0.8597\n",
            "Epoch 75/100\n",
            "8000/8000 [==============================] - 1s 123us/step - loss: 0.3359 - acc: 0.8620\n",
            "Epoch 76/100\n",
            "8000/8000 [==============================] - 1s 123us/step - loss: 0.3367 - acc: 0.8624\n",
            "Epoch 77/100\n",
            "8000/8000 [==============================] - 1s 123us/step - loss: 0.3360 - acc: 0.8616\n",
            "Epoch 78/100\n",
            "8000/8000 [==============================] - 1s 124us/step - loss: 0.3352 - acc: 0.8622\n",
            "Epoch 79/100\n",
            "8000/8000 [==============================] - 1s 121us/step - loss: 0.3350 - acc: 0.8631\n",
            "Epoch 80/100\n",
            "8000/8000 [==============================] - 1s 127us/step - loss: 0.3358 - acc: 0.8607\n",
            "Epoch 81/100\n",
            "8000/8000 [==============================] - 1s 127us/step - loss: 0.3347 - acc: 0.8617\n",
            "Epoch 82/100\n",
            "3330/8000 [===========>..................] - ETA: 0s - loss: 0.3367 - acc: 0.8661"
          ],
          "name": "stdout"
        },
        {
          "output_type": "stream",
          "text": [
            "8000/8000 [==============================] - 1s 124us/step - loss: 0.3355 - acc: 0.8630\n",
            "Epoch 83/100\n",
            "8000/8000 [==============================] - 1s 123us/step - loss: 0.3361 - acc: 0.8610\n",
            "Epoch 84/100\n",
            "8000/8000 [==============================] - 1s 123us/step - loss: 0.3355 - acc: 0.8611\n",
            "Epoch 85/100\n",
            "8000/8000 [==============================] - 1s 120us/step - loss: 0.3347 - acc: 0.8614\n",
            "Epoch 86/100\n",
            "8000/8000 [==============================] - 1s 122us/step - loss: 0.3349 - acc: 0.8636\n",
            "Epoch 87/100\n",
            "8000/8000 [==============================] - 1s 123us/step - loss: 0.3353 - acc: 0.8629\n",
            "Epoch 88/100\n",
            "8000/8000 [==============================] - 1s 123us/step - loss: 0.3352 - acc: 0.8601\n",
            "Epoch 89/100\n",
            "8000/8000 [==============================] - 1s 123us/step - loss: 0.3350 - acc: 0.8637\n",
            "Epoch 90/100\n",
            "8000/8000 [==============================] - 1s 125us/step - loss: 0.3345 - acc: 0.8606\n",
            "Epoch 91/100\n",
            "2980/8000 [==========>...................] - ETA: 0s - loss: 0.3347 - acc: 0.8671"
          ],
          "name": "stdout"
        },
        {
          "output_type": "stream",
          "text": [
            "8000/8000 [==============================] - 1s 123us/step - loss: 0.3356 - acc: 0.8629\n",
            "Epoch 92/100\n",
            "8000/8000 [==============================] - 1s 124us/step - loss: 0.3352 - acc: 0.8640\n",
            "Epoch 93/100\n",
            "8000/8000 [==============================] - 1s 127us/step - loss: 0.3343 - acc: 0.8622\n",
            "Epoch 94/100\n",
            "8000/8000 [==============================] - 1s 122us/step - loss: 0.3345 - acc: 0.8605\n",
            "Epoch 95/100\n",
            "8000/8000 [==============================] - 1s 124us/step - loss: 0.3361 - acc: 0.8620\n",
            "Epoch 96/100\n",
            "8000/8000 [==============================] - 1s 122us/step - loss: 0.3354 - acc: 0.8612\n",
            "Epoch 97/100\n",
            "8000/8000 [==============================] - 1s 122us/step - loss: 0.3346 - acc: 0.8631\n",
            "Epoch 98/100\n",
            "8000/8000 [==============================] - 1s 123us/step - loss: 0.3341 - acc: 0.8630\n",
            "Epoch 99/100\n",
            "8000/8000 [==============================] - 1s 124us/step - loss: 0.3346 - acc: 0.8635\n",
            "Epoch 100/100\n",
            "2960/8000 [==========>...................] - ETA: 0s - loss: 0.3346 - acc: 0.8578"
          ],
          "name": "stdout"
        },
        {
          "output_type": "stream",
          "text": [
            "8000/8000 [==============================] - 1s 121us/step - loss: 0.3351 - acc: 0.8605\n"
          ],
          "name": "stdout"
        },
        {
          "output_type": "execute_result",
          "data": {
            "text/plain": [
              "<keras.callbacks.History at 0x7f47c8d6e128>"
            ]
          },
          "metadata": {
            "tags": []
          },
          "execution_count": 30
        }
      ]
    },
    {
      "cell_type": "markdown",
      "metadata": {
        "id": "87qx4P49CKPA",
        "colab_type": "text"
      },
      "source": [
        "### Part 3 - Making the predictions and evaluating the model"
      ]
    },
    {
      "cell_type": "code",
      "metadata": {
        "id": "pK0hJts8CM53",
        "colab_type": "code",
        "colab": {}
      },
      "source": [
        "# Predicting the Test set results\n",
        "y_pred = classifier.predict(X_test)\n",
        "y_pred = (y_pred > 0.5)"
      ],
      "execution_count": 0,
      "outputs": []
    },
    {
      "cell_type": "code",
      "metadata": {
        "id": "SRxL3cXECY_p",
        "colab_type": "code",
        "colab": {}
      },
      "source": [
        "# Making the Confusion Matrix\n",
        "from sklearn.metrics import confusion_matrix\n",
        "cm = confusion_matrix(y_test, y_pred)"
      ],
      "execution_count": 0,
      "outputs": []
    },
    {
      "cell_type": "code",
      "metadata": {
        "id": "WqKSSQOCEu-f",
        "colab_type": "code",
        "colab": {}
      },
      "source": [
        "# Installing extra packages for visualization\n",
        "!pip install -q ann_visualizer"
      ],
      "execution_count": 0,
      "outputs": []
    },
    {
      "cell_type": "code",
      "metadata": {
        "id": "JQ557ftJFO27",
        "colab_type": "code",
        "colab": {}
      },
      "source": [
        "#!apt-get install graphviz \n"
      ],
      "execution_count": 0,
      "outputs": []
    },
    {
      "cell_type": "code",
      "metadata": {
        "id": "nmaZPw0aNGCq",
        "colab_type": "code",
        "outputId": "3a52f3e7-c750-4047-9ecd-8d2da18fa91c",
        "colab": {
          "base_uri": "https://localhost:8080/",
          "height": 89
        }
      },
      "source": [
        "!pip install graphviz"
      ],
      "execution_count": 0,
      "outputs": [
        {
          "output_type": "stream",
          "text": [
            "Collecting graphviz\n",
            "  Downloading https://files.pythonhosted.org/packages/53/39/4ab213673844e0c004bed8a0781a0721a3f6bb23eb8854ee75c236428892/graphviz-0.8.4-py2.py3-none-any.whl\n",
            "Installing collected packages: graphviz\n",
            "Successfully installed graphviz-0.8.4\n"
          ],
          "name": "stdout"
        }
      ]
    },
    {
      "cell_type": "code",
      "metadata": {
        "id": "M_-1uAguTMXw",
        "colab_type": "code",
        "outputId": "ec1213ba-a33a-4692-9977-94def3e458de",
        "colab": {
          "base_uri": "https://localhost:8080/",
          "height": 35
        }
      },
      "source": [
        "!pip install ann_visualizer"
      ],
      "execution_count": 0,
      "outputs": [
        {
          "output_type": "stream",
          "text": [
            "Requirement already satisfied: ann_visualizer in /usr/local/lib/python3.6/dist-packages (2.5)\r\n"
          ],
          "name": "stdout"
        }
      ]
    },
    {
      "cell_type": "code",
      "metadata": {
        "id": "J_6pBnDOWeBR",
        "colab_type": "code",
        "colab": {}
      },
      "source": [
        "#!apt-get install --reinstall xdg-utils"
      ],
      "execution_count": 0,
      "outputs": []
    },
    {
      "cell_type": "markdown",
      "metadata": {
        "id": "0rXYv0G7FxEm",
        "colab_type": "text"
      },
      "source": [
        "### Part 3 - Visualizing the ANN"
      ]
    },
    {
      "cell_type": "code",
      "metadata": {
        "id": "jNdtb5n9F_nV",
        "colab_type": "code",
        "colab": {}
      },
      "source": [
        "#from ann_visualizer.visualize import ann_viz;\n",
        "#ann_viz(classifier, view= True, filename=\"ann.gv\", title=\"Churn Analysis with ANN\");"
      ],
      "execution_count": 0,
      "outputs": []
    },
    {
      "cell_type": "markdown",
      "metadata": {
        "id": "b_e4vhM1Cu9e",
        "colab_type": "text"
      },
      "source": [
        "# Conclusion\n"
      ]
    },
    {
      "cell_type": "markdown",
      "metadata": {
        "id": "TGC8EL_TCvBx",
        "colab_type": "text"
      },
      "source": [
        ""
      ]
    }
  ]
}